{
 "cells": [
  {
   "cell_type": "markdown",
   "metadata": {},
   "source": [
    "# COMP0142\n",
    "\n",
    "# Assignment 2: Classification with Naive Bayes & Logistic Regression\n",
    "\n",
    "## Introduction\n",
    "\n",
    "In this assignment, we will implement multiclass classification using Logistic Regression and Naive Bayes via the Scikit-learn library.\n",
    "\n",
    "In Part A of this assignment, we are going to implement Logistic Regression. First, we are going to examine how data scaling affects the performance of the classifier: We will produce a classification report and plot a confusion matrix. We are then going to use cross validation to more reliably compare the performance of the models.\n",
    "\n",
    "In Part B of this assignment, we are going to implement multiclass and Bernoulli Naive Bayes. We are going to perform feature selection and analyse the performance of the model. Finally, we are also going to look at decision boundaries.\n",
    "\n",
    "We are going to work with two datasets:\n",
    "- The 'Gene expression cancer RNA-Seq' dataset \n",
    "- The 'Zoo' dataset."
   ]
  },
  {
   "cell_type": "markdown",
   "metadata": {},
   "source": [
    "## Guidelines\n",
    "\n",
    "- The structure of the code is given to you and you will need to fill in the parts corresponding to each question. \n",
    "- You will have to submit the completed notebook in the Jupyter notebook format: `.ipynb`.\n",
    "- Do not modify/erase other parts of the code if you have not been given specific instructions to do so.\n",
    "- When you are asked to insert code, do so between the areas which begin:\n",
    "  \n",
    "  `##########################################################`\n",
    "  \n",
    "  `# TO_DO`\n",
    "  \n",
    "  `#[your code here]`\n",
    "   \n",
    "   And which end:\n",
    "   \n",
    "  `# /TO_DO\n",
    "   ##########################################################`\n",
    "\n",
    "\n",
    "- When you are asked to comment on the results you should give clear and comprehensible explanations. Write the comments in a 'Code Cell' with a sign `#` at the beginning of each row, and in the areas which begin:\n",
    "\n",
    "  `# [INSERT YOUR ANSWER HERE]`"
   ]
  },
  {
   "cell_type": "markdown",
   "metadata": {},
   "source": [
    "## Imports\n",
    "\n",
    "Please do not change the cell below, you will see a number of imports. All these packages are relevant for the assignment and it is important that you get used to them. You can find more information about them in their respective documentation. The most relevant package for this assignment is Scikit-learn:\n",
    "\n",
    "https://scikit-learn.org/stable/"
   ]
  },
  {
   "cell_type": "code",
   "execution_count": 2,
   "metadata": {},
   "outputs": [],
   "source": [
    "#PLEASE DO NOT CHANGE THIS CELL\n",
    "\n",
    "# Standard python libraries for data and visualisation\n",
    "import numpy as np\n",
    "import pandas as pd\n",
    "import matplotlib.pyplot as plt\n",
    "import pylab\n",
    "%matplotlib inline\n",
    "import seaborn as sns\n",
    "\n",
    "# SciKit Learn python ML Library\n",
    "from sklearn.linear_model import LogisticRegression\n",
    "from sklearn.model_selection import train_test_split, cross_val_score, StratifiedKFold\n",
    "from sklearn.feature_selection import RFE\n",
    "from sklearn.preprocessing import StandardScaler\n",
    "from sklearn.naive_bayes import MultinomialNB, ComplementNB, BernoulliNB\n",
    "\n",
    "# Import error metric\n",
    "from sklearn.metrics import accuracy_score, confusion_matrix, classification_report\n",
    "\n",
    "# Import library for handling warnings\n",
    "import warnings"
   ]
  },
  {
   "cell_type": "code",
   "execution_count": 3,
   "metadata": {},
   "outputs": [],
   "source": [
    "#PLEASE DO NOT CHANGE THIS CELL\n",
    "\n",
    "# Functions to use\n",
    "# Decision boundary plotting \n",
    "def plot_predictions(X, y, clf):\n",
    "    h = .02  # step size in the mesh\n",
    " \n",
    "    # create a mesh to plot in\n",
    "    x_min, x_max = X.iloc[:, 0].min() - 1, X.iloc[:, 0].max() + 1\n",
    "    y_min, y_max = X.iloc[:, 1].min() - 1, X.iloc[:, 1].max() + 1\n",
    "    xx, yy = np.meshgrid(np.arange(x_min, x_max, h), np.arange(y_min, y_max, h))\n",
    "\n",
    "    # Plot the decision boundary. For that, we will assign a color to each\n",
    "    # point in the mesh [x_min, x_max]x[y_min, y_max].\n",
    "    plt.figure(figsize=(8,6))\n",
    "\n",
    "    Z = clf.predict(np.c_[xx.ravel(), yy.ravel()])\n",
    "    # Put the result into a color plot\n",
    "    Z = Z.reshape(xx.shape)\n",
    "    plt.contourf(xx, yy, Z, cmap=plt.cm.coolwarm, alpha=0.8)\n",
    "\n",
    "    # Plot also the training points\n",
    "    pylab.scatter(X.iloc[:, 0], X.iloc[:, 1], c=y, cmap=plt.cm.coolwarm)\n",
    "    plt.xlabel(list(X.head(0))[0])\n",
    "    plt.ylabel(list(X.head(0))[1])\n",
    "    plt.xlim(xx.min(), xx.max())\n",
    "    plt.ylim(yy.min(), yy.max())\n",
    "    plt.xticks(np.arange(min(X.iloc[:, 0]), max(X.iloc[:, 0])+1, 1.0))\n",
    "    plt.yticks(np.arange(min(X.iloc[:, 1]), max(X.iloc[:, 1])+1, 1.0))\n",
    "    plt.title(clf)\n",
    "\n",
    "    plt.show\n",
    "    \n",
    "# confusion matrix plotting plotting\n",
    "def plot_conf_matrix(conf_matrix):\n",
    "    plt.figure(figsize=(5,5))\n",
    "    sns.heatmap(conf_matrix, annot=True, cmap=\"YlGnBu\" ,fmt='g')    \n",
    "    plt.ylabel('Actual label');\n",
    "    plt.xlabel('Predicted label');"
   ]
  },
  {
   "cell_type": "markdown",
   "metadata": {},
   "source": [
    "# Part A: Logistic Regression [50 marks]\n",
    "\n",
    "## Seeds dataset\n",
    "This dataset contains gene expression data from patients diagnosed with one of tumor types: BRCA, KIRC, COAD, LUAD and PRAD. Each feature corresponds to a different gene. \n",
    "\n",
    "Dataset location: https://archive.ics.uci.edu/ml/datasets/gene+expression+cancer+RNA-Seq\n",
    "\n",
    "Number of instances: 801\n",
    "\n",
    "Number of features: 20531   \n",
    "\n",
    "All of these parameters are real-valued continuous. To reduce computation time, we are going to work with the first 200 features.\n",
    "\n",
    "## Load dataset\n",
    "Please save the 'data.csv' and 'labels.csv' files included in the assignement zip file, which contain this data, and change the paths below to the paths leading to the location of your downloaded files. You may want to use os.chdir to change directory. "
   ]
  },
  {
   "cell_type": "code",
   "execution_count": 4,
   "metadata": {},
   "outputs": [],
   "source": [
    "# PLEASE CHANGE THE FILE PATHS \n",
    "\n",
    "file_path_data = \"./OpenBookTest2_Q1_Data.csv\"\n",
    "file_path_labels = \"./labels.csv\""
   ]
  },
  {
   "cell_type": "code",
   "execution_count": 17,
   "metadata": {},
   "outputs": [
    {
     "ename": "TypeError",
     "evalue": "'(slice(None, None, None), 0)' is an invalid key",
     "output_type": "error",
     "traceback": [
      "\u001b[0;31m---------------------------------------------------------------------------\u001b[0m",
      "\u001b[0;31mTypeError\u001b[0m                                 Traceback (most recent call last)",
      "\u001b[0;32m<ipython-input-17-4263943aa3d9>\u001b[0m in \u001b[0;36m<module>\u001b[0;34m\u001b[0m\n\u001b[1;32m     25\u001b[0m \u001b[0mnb\u001b[0m \u001b[0;34m=\u001b[0m \u001b[0mBernoulliNB\u001b[0m\u001b[0;34m(\u001b[0m\u001b[0;34m)\u001b[0m\u001b[0;34m\u001b[0m\u001b[0;34m\u001b[0m\u001b[0m\n\u001b[1;32m     26\u001b[0m \u001b[0mnb\u001b[0m\u001b[0;34m.\u001b[0m\u001b[0mfit\u001b[0m\u001b[0;34m(\u001b[0m\u001b[0mX\u001b[0m\u001b[0;34m,\u001b[0m\u001b[0my\u001b[0m\u001b[0;34m)\u001b[0m\u001b[0;34m\u001b[0m\u001b[0;34m\u001b[0m\u001b[0m\n\u001b[0;32m---> 27\u001b[0;31m \u001b[0mplot_results\u001b[0m\u001b[0;34m(\u001b[0m\u001b[0mX\u001b[0m\u001b[0;34m,\u001b[0m \u001b[0my\u001b[0m\u001b[0;34m,\u001b[0m \u001b[0;34m'LDA'\u001b[0m\u001b[0;34m,\u001b[0m \u001b[0mnb\u001b[0m\u001b[0;34m,\u001b[0m \u001b[0;36m2\u001b[0m\u001b[0;34m)\u001b[0m\u001b[0;34m\u001b[0m\u001b[0;34m\u001b[0m\u001b[0m\n\u001b[0m\u001b[1;32m     28\u001b[0m \u001b[0;34m\u001b[0m\u001b[0m\n\u001b[1;32m     29\u001b[0m \u001b[0;34m\u001b[0m\u001b[0m\n",
      "\u001b[0;32m<ipython-input-17-4263943aa3d9>\u001b[0m in \u001b[0;36mplot_results\u001b[0;34m(X, y, method, model, idx_plot)\u001b[0m\n\u001b[1;32m     10\u001b[0m     \u001b[0mX0\u001b[0m\u001b[0;34m,\u001b[0m \u001b[0mX1\u001b[0m \u001b[0;34m=\u001b[0m \u001b[0mX\u001b[0m\u001b[0;34m[\u001b[0m\u001b[0my\u001b[0m \u001b[0;34m==\u001b[0m \u001b[0;36m0\u001b[0m\u001b[0;34m]\u001b[0m\u001b[0;34m,\u001b[0m \u001b[0mX\u001b[0m\u001b[0;34m[\u001b[0m\u001b[0my\u001b[0m \u001b[0;34m==\u001b[0m \u001b[0;36m1\u001b[0m\u001b[0;34m]\u001b[0m  \u001b[0;31m# data corresponding to classes 0 and 1\u001b[0m\u001b[0;34m\u001b[0m\u001b[0;34m\u001b[0m\u001b[0m\n\u001b[1;32m     11\u001b[0m \u001b[0;34m\u001b[0m\u001b[0m\n\u001b[0;32m---> 12\u001b[0;31m     \u001b[0mplt\u001b[0m\u001b[0;34m.\u001b[0m\u001b[0mscatter\u001b[0m\u001b[0;34m(\u001b[0m\u001b[0mX0\u001b[0m\u001b[0;34m[\u001b[0m\u001b[0;34m:\u001b[0m\u001b[0;34m,\u001b[0m \u001b[0;36m0\u001b[0m\u001b[0;34m]\u001b[0m\u001b[0;34m,\u001b[0m \u001b[0mX0\u001b[0m\u001b[0;34m[\u001b[0m\u001b[0;34m:\u001b[0m\u001b[0;34m,\u001b[0m \u001b[0;36m1\u001b[0m\u001b[0;34m]\u001b[0m\u001b[0;34m,\u001b[0m \u001b[0mcolor\u001b[0m\u001b[0;34m=\u001b[0m\u001b[0;34m'green'\u001b[0m\u001b[0;34m)\u001b[0m  \u001b[0;31m# class 0\u001b[0m\u001b[0;34m\u001b[0m\u001b[0;34m\u001b[0m\u001b[0m\n\u001b[0m\u001b[1;32m     13\u001b[0m     \u001b[0mplt\u001b[0m\u001b[0;34m.\u001b[0m\u001b[0mscatter\u001b[0m\u001b[0;34m(\u001b[0m\u001b[0mX1\u001b[0m\u001b[0;34m[\u001b[0m\u001b[0;34m:\u001b[0m\u001b[0;34m,\u001b[0m \u001b[0;36m0\u001b[0m\u001b[0;34m]\u001b[0m\u001b[0;34m,\u001b[0m \u001b[0mX1\u001b[0m\u001b[0;34m[\u001b[0m\u001b[0;34m:\u001b[0m\u001b[0;34m,\u001b[0m \u001b[0;36m1\u001b[0m\u001b[0;34m]\u001b[0m\u001b[0;34m,\u001b[0m \u001b[0mcolor\u001b[0m\u001b[0;34m=\u001b[0m\u001b[0;34m'blue'\u001b[0m\u001b[0;34m)\u001b[0m  \u001b[0;31m# class 1\u001b[0m\u001b[0;34m\u001b[0m\u001b[0;34m\u001b[0m\u001b[0m\n\u001b[1;32m     14\u001b[0m \u001b[0;34m\u001b[0m\u001b[0m\n",
      "\u001b[0;32m~/opt/anaconda3/lib/python3.8/site-packages/pandas/core/frame.py\u001b[0m in \u001b[0;36m__getitem__\u001b[0;34m(self, key)\u001b[0m\n\u001b[1;32m   2900\u001b[0m             \u001b[0;32mif\u001b[0m \u001b[0mself\u001b[0m\u001b[0;34m.\u001b[0m\u001b[0mcolumns\u001b[0m\u001b[0;34m.\u001b[0m\u001b[0mnlevels\u001b[0m \u001b[0;34m>\u001b[0m \u001b[0;36m1\u001b[0m\u001b[0;34m:\u001b[0m\u001b[0;34m\u001b[0m\u001b[0;34m\u001b[0m\u001b[0m\n\u001b[1;32m   2901\u001b[0m                 \u001b[0;32mreturn\u001b[0m \u001b[0mself\u001b[0m\u001b[0;34m.\u001b[0m\u001b[0m_getitem_multilevel\u001b[0m\u001b[0;34m(\u001b[0m\u001b[0mkey\u001b[0m\u001b[0;34m)\u001b[0m\u001b[0;34m\u001b[0m\u001b[0;34m\u001b[0m\u001b[0m\n\u001b[0;32m-> 2902\u001b[0;31m             \u001b[0mindexer\u001b[0m \u001b[0;34m=\u001b[0m \u001b[0mself\u001b[0m\u001b[0;34m.\u001b[0m\u001b[0mcolumns\u001b[0m\u001b[0;34m.\u001b[0m\u001b[0mget_loc\u001b[0m\u001b[0;34m(\u001b[0m\u001b[0mkey\u001b[0m\u001b[0;34m)\u001b[0m\u001b[0;34m\u001b[0m\u001b[0;34m\u001b[0m\u001b[0m\n\u001b[0m\u001b[1;32m   2903\u001b[0m             \u001b[0;32mif\u001b[0m \u001b[0mis_integer\u001b[0m\u001b[0;34m(\u001b[0m\u001b[0mindexer\u001b[0m\u001b[0;34m)\u001b[0m\u001b[0;34m:\u001b[0m\u001b[0;34m\u001b[0m\u001b[0;34m\u001b[0m\u001b[0m\n\u001b[1;32m   2904\u001b[0m                 \u001b[0mindexer\u001b[0m \u001b[0;34m=\u001b[0m \u001b[0;34m[\u001b[0m\u001b[0mindexer\u001b[0m\u001b[0;34m]\u001b[0m\u001b[0;34m\u001b[0m\u001b[0;34m\u001b[0m\u001b[0m\n",
      "\u001b[0;32m~/opt/anaconda3/lib/python3.8/site-packages/pandas/core/indexes/base.py\u001b[0m in \u001b[0;36mget_loc\u001b[0;34m(self, key, method, tolerance)\u001b[0m\n\u001b[1;32m   2893\u001b[0m             \u001b[0mcasted_key\u001b[0m \u001b[0;34m=\u001b[0m \u001b[0mself\u001b[0m\u001b[0;34m.\u001b[0m\u001b[0m_maybe_cast_indexer\u001b[0m\u001b[0;34m(\u001b[0m\u001b[0mkey\u001b[0m\u001b[0;34m)\u001b[0m\u001b[0;34m\u001b[0m\u001b[0;34m\u001b[0m\u001b[0m\n\u001b[1;32m   2894\u001b[0m             \u001b[0;32mtry\u001b[0m\u001b[0;34m:\u001b[0m\u001b[0;34m\u001b[0m\u001b[0;34m\u001b[0m\u001b[0m\n\u001b[0;32m-> 2895\u001b[0;31m                 \u001b[0;32mreturn\u001b[0m \u001b[0mself\u001b[0m\u001b[0;34m.\u001b[0m\u001b[0m_engine\u001b[0m\u001b[0;34m.\u001b[0m\u001b[0mget_loc\u001b[0m\u001b[0;34m(\u001b[0m\u001b[0mcasted_key\u001b[0m\u001b[0;34m)\u001b[0m\u001b[0;34m\u001b[0m\u001b[0;34m\u001b[0m\u001b[0m\n\u001b[0m\u001b[1;32m   2896\u001b[0m             \u001b[0;32mexcept\u001b[0m \u001b[0mKeyError\u001b[0m \u001b[0;32mas\u001b[0m \u001b[0merr\u001b[0m\u001b[0;34m:\u001b[0m\u001b[0;34m\u001b[0m\u001b[0;34m\u001b[0m\u001b[0m\n\u001b[1;32m   2897\u001b[0m                 \u001b[0;32mraise\u001b[0m \u001b[0mKeyError\u001b[0m\u001b[0;34m(\u001b[0m\u001b[0mkey\u001b[0m\u001b[0;34m)\u001b[0m \u001b[0;32mfrom\u001b[0m \u001b[0merr\u001b[0m\u001b[0;34m\u001b[0m\u001b[0;34m\u001b[0m\u001b[0m\n",
      "\u001b[0;32mpandas/_libs/index.pyx\u001b[0m in \u001b[0;36mpandas._libs.index.IndexEngine.get_loc\u001b[0;34m()\u001b[0m\n",
      "\u001b[0;32mpandas/_libs/index.pyx\u001b[0m in \u001b[0;36mpandas._libs.index.IndexEngine.get_loc\u001b[0;34m()\u001b[0m\n",
      "\u001b[0;31mTypeError\u001b[0m: '(slice(None, None, None), 0)' is an invalid key"
     ]
    },
    {
     "data": {
      "image/png": "[encoded data removed]",
      "text/plain": [
       "<Figure size 432x288 with 1 Axes>"
      ]
     },
     "metadata": {
      "needs_background": "light"
     },
     "output_type": "display_data"
    }
   ],
   "source": [
    "#PLEASE DO NOT CHANGE THIS CELL\n",
    "\n",
    "# read the file with pandas.read_csv\n",
    "X = pd.read_csv(file_path_data, usecols=[*range(1, 3)])\n",
    "y = pd.read_csv(file_path_data, usecols=[2]).values.ravel()\n",
    "\n",
    "def plot_results(X, y, method, model, idx_plot):\n",
    "    plt.subplot(1, 3, idx_plot)\n",
    "\n",
    "    X0, X1 = X[y == 0], X[y == 1]  # data corresponding to classes 0 and 1\n",
    "\n",
    "    plt.scatter(X0[:, 0], X0[:, 1], color='green')  # class 0\n",
    "    plt.scatter(X1[:, 0], X1[:, 1], color='blue')  # class 1\n",
    "\n",
    "    x_min, x_max = plt.xlim()\n",
    "    y_min, y_max = plt.ylim()\n",
    "    xx, yy = np.meshgrid(np.linspace(x_min, x_max, 100),\n",
    "                         np.linspace(y_min, y_max, 100))\n",
    "    Z = model.predict_proba(np.c_[xx.ravel(), yy.ravel()])\n",
    "    Z = Z[:, 1].reshape(xx.shape)\n",
    "    plt.contour(xx, yy, Z, [0.5], colors='black')\n",
    "    \n",
    "    plt.title(method)\n",
    "\n",
    "nb = BernoulliNB()\n",
    "nb.fit(X,y)\n",
    "plot_results(X, y, 'LDA', nb, 2)\n",
    "\n",
    "\n",
    "plt.show()"
   ]
  },
  {
   "cell_type": "markdown",
   "metadata": {},
   "source": [
    "## Data analysis and pre-processing \n",
    "Below, we will generate histograms of the first 12 'Gene expression cancer RNA-Seq' dataset features."
   ]
  },
  {
   "cell_type": "code",
   "execution_count": 46,
   "metadata": {},
   "outputs": [
    {
     "data": {
      "image/png": "[encoded data removed]",
      "text/plain": [
       "<Figure size 864x720 with 12 Axes>"
      ]
     },
     "metadata": {
      "needs_background": "light"
     },
     "output_type": "display_data"
    }
   ],
   "source": [
    "#PLEASE DO NOT CHANGE THIS CELL\n",
    "\n",
    "figs, axs = plt.subplots(3, 4, figsize=(12, 10))\n",
    "axs = axs.ravel()\n",
    "\n",
    "for counter in range(12):\n",
    "    col = X.columns[counter]\n",
    "    axs[counter].hist(X[col], bins=20)\n",
    "    axs[counter].set_title(col)"
   ]
  },
  {
   "cell_type": "markdown",
   "metadata": {},
   "source": [
    "Regularisation makes the classifier dependent on the scale of the features. \n",
    "\n",
    "We are going to scale the features and compare the performance of Logistic Regression on unscaled and scaled dataset. \n",
    "\n",
    "### _Question 1 [10 marks]_ \n",
    "\n",
    "### _a) [3 marks]_ \n",
    "- Use `StandardScaler()` to scale the data. Save the result to a new variable (do not overwrite X)."
   ]
  },
  {
   "cell_type": "code",
   "execution_count": 47,
   "metadata": {},
   "outputs": [],
   "source": [
    "#######################################################\n",
    "# TO_DO\n",
    "#[your code here]\n",
    "\n",
    "scaler = StandardScaler()\n",
    "X_scale = pd.DataFrame(scaler.fit_transform(X),columns = X.columns)\n",
    "\n",
    "#/TO_DO\n",
    "#######################################################"
   ]
  },
  {
   "cell_type": "markdown",
   "metadata": {},
   "source": [
    "### _b) [3 marks]_\n",
    "-  Explain how the `StandardScaler()` function changes the data, (in particular its mean and variance)? (**Hint:** You can re-run the code from the section **Data analysis and pre-processing** in order to visualise scaled values.)"
   ]
  },
  {
   "cell_type": "code",
   "execution_count": 48,
   "metadata": {},
   "outputs": [],
   "source": [
    "# [StandardScaler removes the mean and scales each feature column into unit variance (i.e., it normalises the data) so we can have a common scale in our data.]\n",
    "    \n",
    "#"
   ]
  },
  {
   "cell_type": "markdown",
   "metadata": {},
   "source": [
    "### _c) [4 marks]_\n",
    "- `LogisticRegression()` uses $\\ell_2$ regularisation as default. How does the effect of data scaling relate to the assumptions made by regularisation?"
   ]
  },
  {
   "cell_type": "code",
   "execution_count": 49,
   "metadata": {},
   "outputs": [],
   "source": [
    "# [# It's because the ridge is a scaled variant. ℓ2  regularisation imposes a penalty on the size of coefficients of the linear regression. Thus, these coefficients will shrink towards zero, but if these coefficients are not on the same scale, the regularisation is not fair.]\n",
    "\n",
    "#"
   ]
  },
  {
   "cell_type": "markdown",
   "metadata": {},
   "source": [
    "### Classifier performance analysis"
   ]
  },
  {
   "cell_type": "markdown",
   "metadata": {},
   "source": [
    "A Confusion Matrix is a table used for the evaluation of classification models. The x axis represents predicted labels while the y axis represents actual labels. Each cell indicates the sum of instances assigned to a particular combination of these labels. Diagonal values represents correctly classified instances.  \n",
    "\n",
    "### _Question 2 [20 marks]_\n",
    "\n",
    "### _a) [5 marks]_ \n",
    "- Create training and testing datasets for the unscaled and scaled data."
   ]
  },
  {
   "cell_type": "code",
   "execution_count": 50,
   "metadata": {},
   "outputs": [],
   "source": [
    "lg = LogisticRegression(solver = \"lbfgs\", multi_class = \"multinomial\", max_iter = 5000)\n",
    "lg_scaled = LogisticRegression(solver = \"lbfgs\", multi_class = \"multinomial\", max_iter = 5000)\n",
    "\n",
    "#######################################################\n",
    "# TO_DO\n",
    "#[your code here]\n",
    "\n",
    "X_train, X_test, y_train, y_test = train_test_split(X, y, test_size=0.2, random_state=18)\n",
    "\n",
    "\n",
    "X_sc_train, X_sc_test, y_sc_train, y_sc_test = train_test_split(X_scale, y, test_size=0.2, random_state=18)\n",
    "\n",
    "\n",
    "#/TO_DO\n",
    "#######################################################"
   ]
  },
  {
   "cell_type": "markdown",
   "metadata": {},
   "source": [
    "### _b) [5 marks]_ \n",
    "- Fit `LogisticRegression()` to the unscaled and scaled data. ***[5 marks]***"
   ]
  },
  {
   "cell_type": "code",
   "execution_count": 51,
   "metadata": {},
   "outputs": [
    {
     "data": {
      "text/plain": [
       "LogisticRegression(max_iter=5000, multi_class='multinomial')"
      ]
     },
     "execution_count": 51,
     "metadata": {},
     "output_type": "execute_result"
    }
   ],
   "source": [
    "#######################################################\n",
    "# TO_DO\n",
    "#[your code here]\n",
    "lg.fit(X_train, y_train)\n",
    "lg_scaled.fit(X_sc_train, y_sc_train)\n",
    "\n",
    "\n",
    "#/TO_DO\n",
    "#######################################################"
   ]
  },
  {
   "cell_type": "markdown",
   "metadata": {},
   "source": [
    "### _c) [5 marks]_ \n",
    "- Print confusion matrices using Scikit-learn `confusion_matrix()` functon defined for you at the beginning of the notebook."
   ]
  },
  {
   "cell_type": "code",
   "execution_count": 52,
   "metadata": {},
   "outputs": [
    {
     "data": {
      "image/png": "[encoded data removed]",
      "text/plain": [
       "<Figure size 360x360 with 2 Axes>"
      ]
     },
     "metadata": {
      "needs_background": "light"
     },
     "output_type": "display_data"
    },
    {
     "data": {
      "image/png": "[encoded data removed]",
      "text/plain": [
       "<Figure size 360x360 with 2 Axes>"
      ]
     },
     "metadata": {
      "needs_background": "light"
     },
     "output_type": "display_data"
    }
   ],
   "source": [
    "#######################################################\n",
    "# TO_DO\n",
    "#[your code here]\n",
    "   \n",
    "\n",
    "#lg_clf = LogisticRegression(multi_class=\"multinomial\", solver=\"lbfgs\", random_state=42)\n",
    "#lg_scaled.fit(X_sc_train, y_sc_train)\n",
    "\n",
    "y_sc_pred = lg_scaled.predict(X_sc_test)\n",
    "y_pred = lg.predict(X_test)\n",
    "\n",
    "conf_sc_matrix = confusion_matrix(y_sc_test, y_sc_pred)\n",
    "conf_matrix = confusion_matrix(y_test, y_pred)\n",
    "\n",
    "plot_conf_matrix(conf_matrix)\n",
    "plot_conf_matrix(conf_sc_matrix)\n",
    "\n",
    "\n",
    "#/TO_DO\n",
    "#######################################################"
   ]
  },
  {
   "cell_type": "markdown",
   "metadata": {},
   "source": [
    "### _d) [5 marks]_ \n",
    "- Print classification report using scikit-learn `classification_report()` function. You can use `target_names = label_list` to include labels."
   ]
  },
  {
   "cell_type": "code",
   "execution_count": 53,
   "metadata": {},
   "outputs": [
    {
     "name": "stdout",
     "output_type": "stream",
     "text": [
      "              precision    recall  f1-score   support\n",
      "\n",
      "        BRCA       0.98      1.00      0.99        56\n",
      "        KIRC       1.00      1.00      1.00        21\n",
      "        COAD       1.00      1.00      1.00        26\n",
      "        LUAD       1.00      0.97      0.98        31\n",
      "        PRAD       1.00      1.00      1.00        27\n",
      "\n",
      "    accuracy                           0.99       161\n",
      "   macro avg       1.00      0.99      0.99       161\n",
      "weighted avg       0.99      0.99      0.99       161\n",
      "\n"
     ]
    }
   ],
   "source": [
    "#######################################################\n",
    "# TO_DO\n",
    "#[your code here]\n",
    "\n",
    "print(classification_report(y_test, y_pred, target_names=label_list))\n",
    "\n",
    "#/TO_DO\n",
    "#######################################################"
   ]
  },
  {
   "cell_type": "markdown",
   "metadata": {},
   "source": [
    "### Cross validation\n",
    "In Scikit-learn, `StratifiedKFold()` splits the data into $k$ different folds.  \n",
    "`cross_val_score()` then uses these folds to run the classifier multiple times and collect multiple accuracy scores.   \n",
    "\n",
    "### _Question 3 [20 marks]_\n",
    "\n",
    "### _a) [5 marks]_ \n",
    "- Split data using `StratifiedKFold()`. Set `n_splits = 10`, `shuffle = True`, and `random_state=42`."
   ]
  },
  {
   "cell_type": "code",
   "execution_count": 54,
   "metadata": {},
   "outputs": [
    {
     "data": {
      "text/plain": [
       "10"
      ]
     },
     "execution_count": 54,
     "metadata": {},
     "output_type": "execute_result"
    }
   ],
   "source": [
    "with warnings.catch_warnings():\n",
    "    warnings.simplefilter(\"ignore\")\n",
    "    # please note the lines above are used to silence sklearn warnings\n",
    "    # which is not necessary\n",
    "    \n",
    "    #######################################################\n",
    "    # TO_DO\n",
    "    #[your code here]\n",
    "skf = StratifiedKFold(n_splits=10,shuffle = True, random_state=42)\n",
    "skf.get_n_splits(X_sc_train, y_sc_train)\n",
    "\n",
    "    #/TO_DO\n",
    "    ########################################################"
   ]
  },
  {
   "cell_type": "markdown",
   "metadata": {},
   "source": [
    "### _b) [5 marks]_ \n",
    "- Calculate cross validation scores using `cross_val_score()`. Call the variables storing these scores `lg_scores` and `lg_scaled_scores` (for consistency with plotting done for you in the subsequent section). (**Hint:** `cv` is equal to the output of `StratifiedKFold()`.)"
   ]
  },
  {
   "cell_type": "code",
   "execution_count": 55,
   "metadata": {},
   "outputs": [],
   "source": [
    "with warnings.catch_warnings():\n",
    "    warnings.simplefilter(\"ignore\")\n",
    "    # please note the lines above are used to silence sklearn warnings\n",
    "    # which is not necessary\n",
    "\n",
    "    #######################################################\n",
    "    # TO_DO\n",
    "    #[your code here]\n",
    "lg_scores = cross_val_score(lg, X, y, cv=10)\n",
    "\n",
    "lg_scaled_scores = cross_val_score(lg, X_scale, y, cv=10)\n",
    "\n",
    "\n",
    "    \n",
    "    #/TO_DO\n",
    "    ########################################################"
   ]
  },
  {
   "cell_type": "markdown",
   "metadata": {},
   "source": [
    "### _c) [5 marks]_ \n",
    "- Calculate and print the mean of the scores."
   ]
  },
  {
   "cell_type": "code",
   "execution_count": 56,
   "metadata": {},
   "outputs": [
    {
     "name": "stdout",
     "output_type": "stream",
     "text": [
      "0.9950154320987654\n",
      "0.99375\n"
     ]
    }
   ],
   "source": [
    "with warnings.catch_warnings():\n",
    "    warnings.simplefilter(\"ignore\")\n",
    "    # please note the lines above are used to silence sklearn warnings\n",
    "    # which is not necessary\n",
    "\n",
    "    #######################################################\n",
    "    # TO_DO\n",
    "    #[your code here]\n",
    "lg_scores.mean()\n",
    "print (lg_scores.mean())\n",
    "\n",
    "lg_scaled_scores.mean()\n",
    "print(lg_scaled_scores.mean())\n",
    "\n",
    "\n",
    "    \n",
    "    #/TO_DO\n",
    "    ########################################################"
   ]
  },
  {
   "cell_type": "markdown",
   "metadata": {},
   "source": [
    "### _d) [5 marks]_ \n",
    "- Unlike vanilla `KFold()`, `StratifiedKFold()` aims to preserve the proportion of examples belonging to each class in each split. Does `StratifiedKFold()` make each data split balanced if the whole dataset is not balanced?"
   ]
  },
  {
   "cell_type": "code",
   "execution_count": 57,
   "metadata": {},
   "outputs": [],
   "source": [
    "# [# Yes. KFold() randomly divides the sample data into k sets and use a single subset as the validation data for the remaining k-1 sets of sample data. So the proportion of example might not be balanced. However, StratifiedKFold() splits the data so that the mean response value is approximately equal in all sets. So it will make each data split balanced even if the whole dataset is not balanced.]\n",
    "\n",
    "#"
   ]
  },
  {
   "cell_type": "markdown",
   "metadata": {},
   "source": [
    "We can visualise the scores using a box plot. It highlights the lower and upper quartiles, and \"whiskers\" showing the extent of the scores.  "
   ]
  },
  {
   "cell_type": "code",
   "execution_count": 58,
   "metadata": {},
   "outputs": [
    {
     "data": {
      "image/png": "[encoded data removed]",
      "text/plain": [
       "<Figure size 576x288 with 1 Axes>"
      ]
     },
     "metadata": {
      "needs_background": "light"
     },
     "output_type": "display_data"
    }
   ],
   "source": [
    "#PLEASE DO NOT CHANGE THIS CELL\n",
    "\n",
    "plt.figure(figsize=(8, 4))\n",
    "plt.plot([1]*10, lg_scores, \".\")\n",
    "plt.plot([2]*10, lg_scaled_scores, \".\")\n",
    "plt.boxplot([lg_scores, lg_scaled_scores], labels=(\"logistic regression\",\"logistic regression w/ scaling\"))\n",
    "plt.ylabel(\"Accuracy\", fontsize=14)\n",
    "plt.show()"
   ]
  },
  {
   "cell_type": "markdown",
   "metadata": {},
   "source": [
    "# Part B: Naive Bayes [50 marks]\n",
    "\n",
    "Please note that we are still working with the 'Gene expression cancer RNA-Seq' dataset loaded in Part A.  "
   ]
  },
  {
   "cell_type": "markdown",
   "metadata": {},
   "source": [
    "### Removing correlated features\n",
    "Feature independence is an assumption of Naive Bayes. Naive Bayes is particularly sensitive to feature correlations which can lead to overfitting. Based on data alone, we cannot test if features are truly independent, but we can exclude correlated features.\n",
    "Below, we test if features are correlated.\n",
    "\n",
    "### _Question 4 [10 marks]_\n",
    "Drop features with correlation above 0.75. \n",
    "\n",
    "**Hint:** see what `to_drop` returns, then use it as an argument in the *pandas* `drop()` function with `axis = 1`."
   ]
  },
  {
   "cell_type": "code",
   "execution_count": 59,
   "metadata": {},
   "outputs": [
    {
     "name": "stdout",
     "output_type": "stream",
     "text": [
      "Correlated features dropped: \n",
      "gene_72, gene_92, gene_93, gene_95, gene_145, gene_180, gene_188\n"
     ]
    }
   ],
   "source": [
    "# Create correlation matrix\n",
    "corr_matrix = X.corr().abs()\n",
    "\n",
    "# Select upper triangle of correlation matrix\n",
    "upper = corr_matrix.where(np.triu(np.ones(corr_matrix.shape), k=1).astype(np.bool))\n",
    "\n",
    "# Find index of feature columns with correlation greater than 0.75\n",
    "to_drop = [column for column in upper.columns if any(upper[column] > 0.75)]\n",
    "\n",
    "#######################################################\n",
    "# TO_DO\n",
    "#[your code here]\n",
    "\n",
    "\n",
    "df = pd.DataFrame(X)\n",
    "X_new = df.drop(to_drop, axis=1)\n",
    "\n",
    "\n",
    "\n",
    "#/TO_DO\n",
    "#######################################################\n",
    "\n",
    "print(\"Correlated features dropped: \")\n",
    "print(*to_drop, sep = \", \") "
   ]
  },
  {
   "cell_type": "markdown",
   "metadata": {
    "collapsed": true
   },
   "source": [
    "### Recursive feature elimination\n",
    "Lets go further and select the 5 most important features. Recursive Feature Elimination (RFE) is designed to select features by recursively considering smaller and smaller sets of features.  \n",
    "\n",
    "### _Question 5 [10 marks]_\n",
    "\n",
    "### _a) [5 marks]_ \n",
    "- Use the `RFE()` function in Scikit-learn to select features. (**Hint:** Check the Scikit-learn documentation and example.)\n",
    "\n",
    "### _b) [5 marks]_ \n",
    "- After selecting features to eliminate, use the `support_` attribute as a mask to select the right columns."
   ]
  },
  {
   "cell_type": "code",
   "execution_count": 60,
   "metadata": {},
   "outputs": [
    {
     "name": "stdout",
     "output_type": "stream",
     "text": [
      "              precision    recall  f1-score   support\n",
      "\n",
      "        BRCA       0.73      0.62      0.67        56\n",
      "        KIRC       0.64      0.67      0.65        21\n",
      "        COAD       0.69      0.96      0.81        26\n",
      "        LUAD       0.67      0.26      0.37        31\n",
      "        PRAD       0.56      0.89      0.69        27\n",
      "\n",
      "    accuracy                           0.66       161\n",
      "   macro avg       0.66      0.68      0.64       161\n",
      "weighted avg       0.67      0.66      0.64       161\n",
      "\n"
     ]
    },
    {
     "data": {
      "image/png": "[encoded data removed]",
      "text/plain": [
       "<Figure size 360x360 with 2 Axes>"
      ]
     },
     "metadata": {
      "needs_background": "light"
     },
     "output_type": "display_data"
    }
   ],
   "source": [
    "nb = MultinomialNB()\n",
    "\n",
    "#######################################################\n",
    "# TO_DO\n",
    "#[your code here]\n",
    "\n",
    "estimator = nb\n",
    "selector = RFE(estimator, n_features_to_select=5, step=1)\n",
    "selector = selector.fit(X_new, y)\n",
    "selector.support_\n",
    "\n",
    "\n",
    "X.drop(X_new.columns[np.where(selector.support_ == False)[0]], axis=1, inplace=True)\n",
    "\n",
    "#/TO_DO\n",
    "#######################################################\n",
    "\n",
    "X_train, X_test, y_train, y_test = train_test_split(X, y, test_size=0.2, random_state=18)\n",
    "nb.fit(X_train, y_train)\n",
    "nb_predict = nb.predict(X_test)\n",
    "print(classification_report(y_test, nb_predict, target_names = label_list))\n",
    "nb_confusion = confusion_matrix(y_test, nb_predict)\n",
    "plot_conf_matrix(nb_confusion)"
   ]
  },
  {
   "cell_type": "markdown",
   "metadata": {},
   "source": [
    "We are now going to switch to a different dataset.\n",
    "### Zoo dataset \n",
    "This is a simple dataset which classifies animals into 7 categories. \n",
    "\n",
    "Dataset location: https://archive.ics.uci.edu/ml/datasets/Zoo  \n",
    "\n",
    "Number of instances: 210\n",
    "\n",
    "Number of features: 17\n",
    "\n",
    "Attribute Information:  \n",
    "1. animal name: Unique for each instance   \n",
    "2. hair:\tBoolean   \n",
    "3. feathers:\tBoolean   \n",
    "4. eggs:\tBoolean   \n",
    "5. milk:\tBoolean   \n",
    "6. airborne:\tBoolean   \n",
    "7. aquatic:\tBoolean   \n",
    "8. predator:\tBoolean   \n",
    "9. toothed:\tBoolean   \n",
    "10. backbone:\tBoolean   \n",
    "11. breathes:\tBoolean   \n",
    "12. venomous:\tBoolean   \n",
    "13. fins:\tBoolean   \n",
    "14. legs:\tNumeric (set of values: {0,2,4,5,6,8})   \n",
    "15. tail:\tBoolean   \n",
    "16. domestic:\tBoolean   \n",
    "17. catsize:\tBoolean   \n",
    "18. type:\tNumeric (integer values in range [1,7])  \n",
    "\n",
    "All of these parameters are discrete-valued.\n",
    "  \n",
    "### Load dataset\n",
    "Please save the 'zoo.csv' file included in the assignement zip file, which contains a subset of this data, and change the paths below to the paths leading  to the location of your downloaded files. You may want to use `os.chdir` to change directory."
   ]
  },
  {
   "cell_type": "code",
   "execution_count": 61,
   "metadata": {},
   "outputs": [],
   "source": [
    "# PLEASE CHANGE THE FILE PATHS \n",
    "\n",
    "file_path_data_zoo = \"./zoo.csv\""
   ]
  },
  {
   "cell_type": "code",
   "execution_count": 62,
   "metadata": {},
   "outputs": [],
   "source": [
    "#PLEASE DO NOT CHANGE THIS CELL\n",
    "\n",
    "# read the file with pandas.read_csv\n",
    "data_zoo = pd.read_csv(file_path_data_zoo)\n",
    "\n",
    "# because the file does not contain header information, we manually add headers of the dataset\n",
    "data_zoo.columns = [\"animal name\", \"hair\", \"feathers\",\"eggs\", \n",
    "                \"milk\", \"airborne\",\"aquatic\", \"predator\", \"toothed\", \"backbone\", \n",
    "                    \"breathless\", \"venomous\", \"fins\", \"legs\", \"tail\", \"domestic\", \"catsize\", \"class\"]"
   ]
  },
  {
   "cell_type": "markdown",
   "metadata": {},
   "source": [
    "We assign columns 2 to 18 (everything other than animal name and class) to variable `X_zoo`. Remember that indexing starts at 0.  \n",
    "We assign the \"class\" column to variable `y`.  \n",
    "We then split `X` and `y` into train and test datasets."
   ]
  },
  {
   "cell_type": "code",
   "execution_count": 63,
   "metadata": {},
   "outputs": [],
   "source": [
    "#PLEASE DO NOT CHANGE THIS CELL\n",
    "\n",
    "X_zoo = data_zoo.iloc[:,1:17]\n",
    "y_zoo = data_zoo[\"class\"]\n",
    "X_zoo_train, X_zoo_test, y_zoo_train, y_zoo_test = train_test_split(X_zoo, y_zoo, test_size=0.2, random_state=18)"
   ]
  },
  {
   "cell_type": "markdown",
   "metadata": {},
   "source": [
    "Below, we create a test dataset which contains only animals with 4 or fewer legs. "
   ]
  },
  {
   "cell_type": "code",
   "execution_count": 64,
   "metadata": {},
   "outputs": [],
   "source": [
    "#PLEASE DO NOT CHANGE THIS CELL\n",
    "\n",
    "data_drop = data_zoo.iloc[:,1:18].drop(data_zoo[data_zoo[\"legs\"]>4].index).sample(frac=0.8)\n",
    "\n",
    "X_drop_train = data_drop.iloc[:,0:16]\n",
    "y_drop_train = data_drop[\"class\"]"
   ]
  },
  {
   "cell_type": "markdown",
   "metadata": {},
   "source": [
    "We create an instance of a multinomial Naive Bayes classifier. We train `nb` on `X_drop_train`, and test it on `X_zoo_test`.  \n",
    "You should get an error message suggesting that the value of alpha is automatically overwritten."
   ]
  },
  {
   "cell_type": "code",
   "execution_count": 65,
   "metadata": {},
   "outputs": [
    {
     "name": "stdout",
     "output_type": "stream",
     "text": [
      "0.9857142857142858\n",
      "0.9\n"
     ]
    },
    {
     "name": "stderr",
     "output_type": "stream",
     "text": [
      "/Users/namdamin/opt/anaconda3/lib/python3.8/site-packages/sklearn/naive_bayes.py:511: UserWarning: alpha too small will result in numeric errors, setting alpha = 1.0e-10\n",
      "  warnings.warn('alpha too small will result in numeric errors, '\n"
     ]
    }
   ],
   "source": [
    "#PLEASE DO NOT CHANGE THIS CELL\n",
    "\n",
    "nb = MultinomialNB(alpha =0)\n",
    "nb.fit(X_drop_train, y_drop_train)\n",
    "nb_predict_train = nb.predict(X_drop_train)\n",
    "nb_predict_test = nb.predict(X_zoo_test)\n",
    "print(accuracy_score(nb_predict_train, y_drop_train))\n",
    "print(accuracy_score(nb_predict_test, y_zoo_test))"
   ]
  },
  {
   "cell_type": "markdown",
   "metadata": {},
   "source": [
    "### _Question 6 [10 marks]_   \n",
    "Please comment on what the alpha parameter does.\n",
    "**Hints:**  \n",
    "- Think what Naive Bayes does when encountering a discrete feature value of which is absent in the train dataset but which is present in the test dataset. What probability estimate would be associated with it?  \n",
    "- See: Scikit-learn `MultinomialNB` documentation, in particular the description of the alpha parameter https://scikit-learn.org/stable/modules/generated/sklearn.naive_bayes.MultinomialNB.html  \n",
    "- Google \"additive smoothing\"."
   ]
  },
  {
   "cell_type": "code",
   "execution_count": 66,
   "metadata": {},
   "outputs": [],
   "source": [
    "### [# With discrete featured data, the probability mass function is obtained in a frequentist setting using the Maximum likelihood estimation. MLE encourages us to estimate the probability of zero if we never observe it (i.e., was absent in the training dataset), but this could result in overfitting because the resulting parameter would be zero. This implies that probability for any input attribute conditional on state k would be zero for all k and we get undefined value probability for k conditional on input for all k (0 divided by 0). To solve this problem, we add instances uniformly to the data by adding alpha parameter and we avoid zero divided by zero issues.]\n",
    "\n",
    "#"
   ]
  },
  {
   "cell_type": "markdown",
   "metadata": {},
   "source": [
    "We are now going  to repeat the above process using Naive Bayes for features with the Bernoulli distribution (`BernoulliNB()` in scikit-learn). We are particularly interested in interpreting decision boundaries of Bernoulli Naive Bayes.\n",
    "\n",
    "### _Question 7 [20 marks]_\n",
    "\n",
    "### _a) [2 marks]_ \n",
    "- Use recursive feature elimination (RFE) is to select only 2 features (**Note:** in real life cases, you are likely to use this approach to select multiple rather than just two feature. In this case we are asking you to analyse the outcome, and 2 features allows us to more visualise the decision boundary more easily.)\n",
    "\n",
    "### _b) [1 mark]_ \n",
    "- After selecting the features to eliminate, use support_ attribute as a mask to select the right columns. "
   ]
  },
  {
   "cell_type": "code",
   "execution_count": 67,
   "metadata": {},
   "outputs": [],
   "source": [
    "nb = BernoulliNB()\n",
    "\n",
    "#######################################################\n",
    "# TO_DO\n",
    "#[your code here]\n",
    "#data_zoo.drop (['eggs','hair', 'airborne','aquatic','predator','toothed','backbone','breathless','venomous', 'fins', 'legs','tail', 'domestic', 'catsize','class'], axis =1)\n",
    "#X_zoo = data_zoo.iloc[:,2:4]\n",
    "#y_zoo = data_zoo[\"class\"]\n",
    "\n",
    "estimator = nb\n",
    "selector = RFE(estimator, n_features_to_select=2)\n",
    "selector = selector.fit(X_zoo, y_zoo)\n",
    "selector.support_\n",
    "X_zoo.drop(X_zoo.columns[np.where(selector.support_ == False)[0]], axis=1, inplace=True)\n",
    "#data_zoo = pd.DataFrame(selector.fit_transform(X_zoo, y_zoo))\n",
    "#X_new = pd.DataFrame(selector.fit_transform(X_zoo, y_zoo))\n",
    "#selector.transform(X_zoo)\n",
    "#X_zoo = pd.DataFrame(selector.fit_transform(X_zoo, y_zoo))\n",
    "#/TO_DO\n",
    "#######################################################"
   ]
  },
  {
   "cell_type": "markdown",
   "metadata": {},
   "source": [
    "### _c) [2 marks]_ \n",
    "- Split data into train and test sets (set `random_state=18`).\n",
    "\n",
    "### _d) [1 mark]_ \n",
    "- Fit the model."
   ]
  },
  {
   "cell_type": "code",
   "execution_count": 68,
   "metadata": {},
   "outputs": [
    {
     "data": {
      "text/plain": [
       "BernoulliNB()"
      ]
     },
     "execution_count": 68,
     "metadata": {},
     "output_type": "execute_result"
    }
   ],
   "source": [
    "#######################################################\n",
    "# TO_DO\n",
    "#[your code here]\n",
    "\n",
    "X_z_train, X_z_test, y_z_train, y_z_test = train_test_split(X_zoo, y_zoo, test_size=0.2, random_state=18)\n",
    "#X_zoo_train, X_zoo_test, y_zoo_train, y_zoo_test = train_test_split(X_zoo, y_zoo, test_size=0.2, random_state=18)\n",
    "nb.fit(X_z_train, y_z_train)\n",
    "#nb.fit(X_zoo_train, y_zoo_train)\n",
    "\n",
    "#/TO_DO\n",
    "##########################################################"
   ]
  },
  {
   "cell_type": "markdown",
   "metadata": {},
   "source": [
    "### _e) [2 marks]_ \n",
    "- Create a Confusion Matrix using the `plot_conf_matrix()`"
   ]
  },
  {
   "cell_type": "code",
   "execution_count": 69,
   "metadata": {},
   "outputs": [
    {
     "data": {
      "image/png": "[encoded data removed]",
      "text/plain": [
       "<Figure size 360x360 with 2 Axes>"
      ]
     },
     "metadata": {
      "needs_background": "light"
     },
     "output_type": "display_data"
    }
   ],
   "source": [
    "#######################################################\n",
    "# TO_DO\n",
    "#[your code here]\n",
    "\n",
    "nb_zoo_predict = nb.predict(X_z_test)\n",
    "nb_zoo_confusion = confusion_matrix(y_z_test, nb_zoo_predict)\n",
    "plot_conf_matrix(nb_zoo_confusion)\n",
    "\n",
    "#/TO_DO\n",
    "##########################################################"
   ]
  },
  {
   "cell_type": "markdown",
   "metadata": {},
   "source": [
    "### _f) [2 marks]_ \n",
    "- Plot decision boundaries using the `plot_predictions()` function."
   ]
  },
  {
   "cell_type": "code",
   "execution_count": 70,
   "metadata": {
    "scrolled": true
   },
   "outputs": [
    {
     "data": {
      "image/png": "[encoded data removed]",
      "text/plain": [
       "<Figure size 576x432 with 1 Axes>"
      ]
     },
     "metadata": {
      "needs_background": "light"
     },
     "output_type": "display_data"
    }
   ],
   "source": [
    "#######################################################\n",
    "# TO_DO\n",
    "#[your code here]\n",
    "\n",
    "\n",
    "plot_predictions(X_z_test, y_z_test, nb)\n",
    "\n",
    "#/TO_DO\n",
    "##########################################################"
   ]
  },
  {
   "cell_type": "markdown",
   "metadata": {},
   "source": [
    "### _g) [10 marks]_ \n",
    "- Interpret the decision boundaries: Recall the shapes of decision boundaries you have seen in classes - were they straight and crossing at right angles? Why is this the case when using `BernoulliNB()`?"
   ]
  },
  {
   "cell_type": "code",
   "execution_count": 71,
   "metadata": {},
   "outputs": [],
   "source": [
    "### [# The shape of decision boundaries depends on the data we have. If the data is not linearly seperable, then the decision boundaries would not be linear, and therefore, not be straight. The decision boundry we have is straight and crossing at right angles because we are using discret features with BernoulliNB() and our data is binary since we selected two most import features, milk and feathers. So we will have a decision boundary that is 1D in a 2D space where the margin, the perpendicular distance between the boundaries and the points, is . It is also straight because the data is linearly seperatable. We could observe the three support vectors in our diagram which determines the weights. Thus, the decsions boundaries implies that there are greater number of animals that produce milks and have feathers in our data than the number of animals that have neither of them.]\n",
    "\n",
    "#"
   ]
  }
 ],
 "metadata": {
  "kernelspec": {
   "display_name": "Python 3",
   "language": "python",
   "name": "python3"
  },
  "language_info": {
   "codemirror_mode": {
    "name": "ipython",
    "version": 3
   },
   "file_extension": ".py",
   "mimetype": "text/x-python",
   "name": "python",
   "nbconvert_exporter": "python",
   "pygments_lexer": "ipython3",
   "version": "3.8.5"
  }
 },
 "nbformat": 4,
 "nbformat_minor": 2
}
