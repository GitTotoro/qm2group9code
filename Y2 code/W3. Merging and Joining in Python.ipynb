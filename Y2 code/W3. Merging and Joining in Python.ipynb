{
  "cells": [
    {
      "metadata": {},
      "cell_type": "markdown",
      "source": "## Quantitative Methods 2:  Data Science and Visualisation\n## Workshop 3: Merging and Joining Data in Python\n\nSometimes, we will want to combine data from different sources about the same subject - perhaps we want to compare the GDP in a country with life expectancy, or the proportion of free schools meals with the level of unemployment.\n\n### Aims\n- Understand joins\n- Work with joining dataframes in Pandas\n- Create your own examples"
    },
    {
      "metadata": {},
      "cell_type": "markdown",
      "source": "## Downloading the Data\nLet's grab the data we will need this week from our course website and save it into our data folder. If you've not already created a data folder then do so using the following command. \n\nDon't worry if it generates an error, that means you've already got a data folder.\n"
    },
    {
      "metadata": {
        "trusted": true
      },
      "cell_type": "code",
      "source": "!mkdir data",
      "execution_count": 61,
      "outputs": [
        {
          "output_type": "stream",
          "text": "mkdir: cannot create directory ‘data’: File exists\r\n",
          "name": "stdout"
        }
      ]
    },
    {
      "metadata": {
        "trusted": true
      },
      "cell_type": "code",
      "source": "!mkdir data/wk3\n!curl https://s3.eu-west-2.amazonaws.com/qm2/wk3/UN_Life_all.csv -o ./data/wk3/UN_Life_all.csv\n!curl https://s3.eu-west-2.amazonaws.com/qm2/wk3/UN_Cities_1214_country.csv -o ./data/wk3/UN_Cities_1214_country.csv\n!curl https://s3.eu-west-2.amazonaws.com/qm2/wk3/UN_Cities_1214_population.csv -o ./data/wk3/UN_Cities_1214_population.csv",
      "execution_count": 62,
      "outputs": [
        {
          "output_type": "stream",
          "text": "mkdir: cannot create directory ‘data/wk3’: File exists\n  % Total    % Received % Xferd  Average Speed   Time    Time     Time  Current\n                                 Dload  Upload   Total   Spent    Left  Speed\n100  354k  100  354k    0     0   244k      0  0:00:01  0:00:01 --:--:--  246k\n  % Total    % Received % Xferd  Average Speed   Time    Time     Time  Current\n                                 Dload  Upload   Total   Spent    Left  Speed\n100 31445  100 31445    0     0  26784      0  0:00:01  0:00:01 --:--:-- 26807\n  % Total    % Received % Xferd  Average Speed   Time    Time     Time  Current\n                                 Dload  Upload   Total   Spent    Left  Speed\n100  373k  100  373k    0     0   268k      0  0:00:01  0:00:01 --:--:--  268k\n",
          "name": "stdout"
        }
      ]
    },
    {
      "metadata": {},
      "cell_type": "markdown",
      "source": "## Joining Instructions\n\nJoins are the combination of different datasets, and are common in relational databases as a way of performing queries. There are lots of examples of why and when we might want to do this, but most start with two tables of data. We're going to start with some data we've generated.\n\nI'm going to go back and work with fake data for a while, because it's clean and small and we can see what's going on - when we work with real data, we have to take great care that the data is clean, the indices match, and so on."
    },
    {
      "metadata": {
        "trusted": true
      },
      "cell_type": "code",
      "source": "import matplotlib.pyplot as plt\nimport pandas as pd\nimport numpy as np\nimport random\n%matplotlib inline\nplt.style.use('ggplot')\n",
      "execution_count": 63,
      "outputs": []
    },
    {
      "metadata": {},
      "cell_type": "markdown",
      "source": "Let's create dataframes which represent fictitious values associated with people. Let's assume our data is anonymised because we're ethical researchers and don't want information about real people leaking out."
    },
    {
      "metadata": {
        "trusted": true
      },
      "cell_type": "code",
      "source": "people1 = pd.DataFrame(5+np.random.randn(5, 5))\npeople1.columns = ['units of alcohol drunk','cigarettes smoked','sleep per night','height','BMI']",
      "execution_count": 64,
      "outputs": []
    },
    {
      "metadata": {
        "trusted": true
      },
      "cell_type": "code",
      "source": "people1",
      "execution_count": 65,
      "outputs": [
        {
          "output_type": "execute_result",
          "execution_count": 65,
          "data": {
            "text/plain": "   units of alcohol drunk  cigarettes smoked  sleep per night    height  \\\n0                4.770766           4.593571         5.294503  6.055504   \n1                5.574095           2.935647         5.081742  4.600905   \n2                5.476660           4.094995         3.222230  3.070896   \n3                5.959212           6.718180         3.261336  4.982867   \n4                4.766539           4.332713         3.925295  3.838977   \n\n        BMI  \n0  4.077674  \n1  4.847835  \n2  5.426852  \n3  4.069374  \n4  4.364009  ",
            "text/html": "<div>\n<style scoped>\n    .dataframe tbody tr th:only-of-type {\n        vertical-align: middle;\n    }\n\n    .dataframe tbody tr th {\n        vertical-align: top;\n    }\n\n    .dataframe thead th {\n        text-align: right;\n    }\n</style>\n<table border=\"1\" class=\"dataframe\">\n  <thead>\n    <tr style=\"text-align: right;\">\n      <th></th>\n      <th>units of alcohol drunk</th>\n      <th>cigarettes smoked</th>\n      <th>sleep per night</th>\n      <th>height</th>\n      <th>BMI</th>\n    </tr>\n  </thead>\n  <tbody>\n    <tr>\n      <th>0</th>\n      <td>4.770766</td>\n      <td>4.593571</td>\n      <td>5.294503</td>\n      <td>6.055504</td>\n      <td>4.077674</td>\n    </tr>\n    <tr>\n      <th>1</th>\n      <td>5.574095</td>\n      <td>2.935647</td>\n      <td>5.081742</td>\n      <td>4.600905</td>\n      <td>4.847835</td>\n    </tr>\n    <tr>\n      <th>2</th>\n      <td>5.476660</td>\n      <td>4.094995</td>\n      <td>3.222230</td>\n      <td>3.070896</td>\n      <td>5.426852</td>\n    </tr>\n    <tr>\n      <th>3</th>\n      <td>5.959212</td>\n      <td>6.718180</td>\n      <td>3.261336</td>\n      <td>4.982867</td>\n      <td>4.069374</td>\n    </tr>\n    <tr>\n      <th>4</th>\n      <td>4.766539</td>\n      <td>4.332713</td>\n      <td>3.925295</td>\n      <td>3.838977</td>\n      <td>4.364009</td>\n    </tr>\n  </tbody>\n</table>\n</div>"
          },
          "metadata": {}
        }
      ]
    },
    {
      "metadata": {
        "trusted": true
      },
      "cell_type": "code",
      "source": "people2 = pd.DataFrame(5+np.random.randn(3, 5))\npeople2.columns = ['units of alcohol drunk','cigarettes smoked','sleep per night','height','BMI']",
      "execution_count": 66,
      "outputs": []
    },
    {
      "metadata": {
        "trusted": true
      },
      "cell_type": "code",
      "source": "people2",
      "execution_count": 67,
      "outputs": [
        {
          "output_type": "execute_result",
          "execution_count": 67,
          "data": {
            "text/plain": "   units of alcohol drunk  cigarettes smoked  sleep per night    height  \\\n0                4.413211           4.154882         6.202180  3.889693   \n1                6.372769           4.822662         4.517610  6.277995   \n2                5.775386           5.605802         5.395764  4.587073   \n\n        BMI  \n0  5.760808  \n1  5.359977  \n2  5.486233  ",
            "text/html": "<div>\n<style scoped>\n    .dataframe tbody tr th:only-of-type {\n        vertical-align: middle;\n    }\n\n    .dataframe tbody tr th {\n        vertical-align: top;\n    }\n\n    .dataframe thead th {\n        text-align: right;\n    }\n</style>\n<table border=\"1\" class=\"dataframe\">\n  <thead>\n    <tr style=\"text-align: right;\">\n      <th></th>\n      <th>units of alcohol drunk</th>\n      <th>cigarettes smoked</th>\n      <th>sleep per night</th>\n      <th>height</th>\n      <th>BMI</th>\n    </tr>\n  </thead>\n  <tbody>\n    <tr>\n      <th>0</th>\n      <td>4.413211</td>\n      <td>4.154882</td>\n      <td>6.202180</td>\n      <td>3.889693</td>\n      <td>5.760808</td>\n    </tr>\n    <tr>\n      <th>1</th>\n      <td>6.372769</td>\n      <td>4.822662</td>\n      <td>4.517610</td>\n      <td>6.277995</td>\n      <td>5.359977</td>\n    </tr>\n    <tr>\n      <th>2</th>\n      <td>5.775386</td>\n      <td>5.605802</td>\n      <td>5.395764</td>\n      <td>4.587073</td>\n      <td>5.486233</td>\n    </tr>\n  </tbody>\n</table>\n</div>"
          },
          "metadata": {}
        }
      ]
    },
    {
      "metadata": {},
      "cell_type": "markdown",
      "source": "# Adding new observations\n\nIt looks as if we have some data about people (although we've just made it up), and a set of common measurements. It would be nice to have all of this in one place, so let's *merge* them into one dataframe. We'll use the *concat* command, which is short for *concatenate*, or \"chain together\"."
    },
    {
      "metadata": {
        "trusted": true
      },
      "cell_type": "code",
      "source": "people3 = pd.concat([people1,people2])",
      "execution_count": 68,
      "outputs": []
    },
    {
      "metadata": {
        "trusted": true
      },
      "cell_type": "code",
      "source": "people3",
      "execution_count": 69,
      "outputs": [
        {
          "output_type": "execute_result",
          "execution_count": 69,
          "data": {
            "text/plain": "   units of alcohol drunk  cigarettes smoked  sleep per night    height  \\\n0                4.770766           4.593571         5.294503  6.055504   \n1                5.574095           2.935647         5.081742  4.600905   \n2                5.476660           4.094995         3.222230  3.070896   \n3                5.959212           6.718180         3.261336  4.982867   \n4                4.766539           4.332713         3.925295  3.838977   \n0                4.413211           4.154882         6.202180  3.889693   \n1                6.372769           4.822662         4.517610  6.277995   \n2                5.775386           5.605802         5.395764  4.587073   \n\n        BMI  \n0  4.077674  \n1  4.847835  \n2  5.426852  \n3  4.069374  \n4  4.364009  \n0  5.760808  \n1  5.359977  \n2  5.486233  ",
            "text/html": "<div>\n<style scoped>\n    .dataframe tbody tr th:only-of-type {\n        vertical-align: middle;\n    }\n\n    .dataframe tbody tr th {\n        vertical-align: top;\n    }\n\n    .dataframe thead th {\n        text-align: right;\n    }\n</style>\n<table border=\"1\" class=\"dataframe\">\n  <thead>\n    <tr style=\"text-align: right;\">\n      <th></th>\n      <th>units of alcohol drunk</th>\n      <th>cigarettes smoked</th>\n      <th>sleep per night</th>\n      <th>height</th>\n      <th>BMI</th>\n    </tr>\n  </thead>\n  <tbody>\n    <tr>\n      <th>0</th>\n      <td>4.770766</td>\n      <td>4.593571</td>\n      <td>5.294503</td>\n      <td>6.055504</td>\n      <td>4.077674</td>\n    </tr>\n    <tr>\n      <th>1</th>\n      <td>5.574095</td>\n      <td>2.935647</td>\n      <td>5.081742</td>\n      <td>4.600905</td>\n      <td>4.847835</td>\n    </tr>\n    <tr>\n      <th>2</th>\n      <td>5.476660</td>\n      <td>4.094995</td>\n      <td>3.222230</td>\n      <td>3.070896</td>\n      <td>5.426852</td>\n    </tr>\n    <tr>\n      <th>3</th>\n      <td>5.959212</td>\n      <td>6.718180</td>\n      <td>3.261336</td>\n      <td>4.982867</td>\n      <td>4.069374</td>\n    </tr>\n    <tr>\n      <th>4</th>\n      <td>4.766539</td>\n      <td>4.332713</td>\n      <td>3.925295</td>\n      <td>3.838977</td>\n      <td>4.364009</td>\n    </tr>\n    <tr>\n      <th>0</th>\n      <td>4.413211</td>\n      <td>4.154882</td>\n      <td>6.202180</td>\n      <td>3.889693</td>\n      <td>5.760808</td>\n    </tr>\n    <tr>\n      <th>1</th>\n      <td>6.372769</td>\n      <td>4.822662</td>\n      <td>4.517610</td>\n      <td>6.277995</td>\n      <td>5.359977</td>\n    </tr>\n    <tr>\n      <th>2</th>\n      <td>5.775386</td>\n      <td>5.605802</td>\n      <td>5.395764</td>\n      <td>4.587073</td>\n      <td>5.486233</td>\n    </tr>\n  </tbody>\n</table>\n</div>"
          },
          "metadata": {}
        }
      ]
    },
    {
      "metadata": {},
      "cell_type": "markdown",
      "source": "### What is the problem above? "
    },
    {
      "metadata": {
        "trusted": true
      },
      "cell_type": "code",
      "source": "people4 = pd.concat([people1,people2], ignore_index=True)",
      "execution_count": 70,
      "outputs": []
    },
    {
      "metadata": {
        "trusted": true
      },
      "cell_type": "code",
      "source": "people4",
      "execution_count": 71,
      "outputs": [
        {
          "output_type": "execute_result",
          "execution_count": 71,
          "data": {
            "text/plain": "   units of alcohol drunk  cigarettes smoked  sleep per night    height  \\\n0                4.770766           4.593571         5.294503  6.055504   \n1                5.574095           2.935647         5.081742  4.600905   \n2                5.476660           4.094995         3.222230  3.070896   \n3                5.959212           6.718180         3.261336  4.982867   \n4                4.766539           4.332713         3.925295  3.838977   \n5                4.413211           4.154882         6.202180  3.889693   \n6                6.372769           4.822662         4.517610  6.277995   \n7                5.775386           5.605802         5.395764  4.587073   \n\n        BMI  \n0  4.077674  \n1  4.847835  \n2  5.426852  \n3  4.069374  \n4  4.364009  \n5  5.760808  \n6  5.359977  \n7  5.486233  ",
            "text/html": "<div>\n<style scoped>\n    .dataframe tbody tr th:only-of-type {\n        vertical-align: middle;\n    }\n\n    .dataframe tbody tr th {\n        vertical-align: top;\n    }\n\n    .dataframe thead th {\n        text-align: right;\n    }\n</style>\n<table border=\"1\" class=\"dataframe\">\n  <thead>\n    <tr style=\"text-align: right;\">\n      <th></th>\n      <th>units of alcohol drunk</th>\n      <th>cigarettes smoked</th>\n      <th>sleep per night</th>\n      <th>height</th>\n      <th>BMI</th>\n    </tr>\n  </thead>\n  <tbody>\n    <tr>\n      <th>0</th>\n      <td>4.770766</td>\n      <td>4.593571</td>\n      <td>5.294503</td>\n      <td>6.055504</td>\n      <td>4.077674</td>\n    </tr>\n    <tr>\n      <th>1</th>\n      <td>5.574095</td>\n      <td>2.935647</td>\n      <td>5.081742</td>\n      <td>4.600905</td>\n      <td>4.847835</td>\n    </tr>\n    <tr>\n      <th>2</th>\n      <td>5.476660</td>\n      <td>4.094995</td>\n      <td>3.222230</td>\n      <td>3.070896</td>\n      <td>5.426852</td>\n    </tr>\n    <tr>\n      <th>3</th>\n      <td>5.959212</td>\n      <td>6.718180</td>\n      <td>3.261336</td>\n      <td>4.982867</td>\n      <td>4.069374</td>\n    </tr>\n    <tr>\n      <th>4</th>\n      <td>4.766539</td>\n      <td>4.332713</td>\n      <td>3.925295</td>\n      <td>3.838977</td>\n      <td>4.364009</td>\n    </tr>\n    <tr>\n      <th>5</th>\n      <td>4.413211</td>\n      <td>4.154882</td>\n      <td>6.202180</td>\n      <td>3.889693</td>\n      <td>5.760808</td>\n    </tr>\n    <tr>\n      <th>6</th>\n      <td>6.372769</td>\n      <td>4.822662</td>\n      <td>4.517610</td>\n      <td>6.277995</td>\n      <td>5.359977</td>\n    </tr>\n    <tr>\n      <th>7</th>\n      <td>5.775386</td>\n      <td>5.605802</td>\n      <td>5.395764</td>\n      <td>4.587073</td>\n      <td>5.486233</td>\n    </tr>\n  </tbody>\n</table>\n</div>"
          },
          "metadata": {}
        }
      ]
    },
    {
      "metadata": {},
      "cell_type": "markdown",
      "source": "`ignore_index` is very useful when we want a new DataFrame which only contains data from other DataFrames, but unrelated otherwise."
    },
    {
      "metadata": {},
      "cell_type": "markdown",
      "source": "## Data with a unique index: adding new observations\n\nLet's now examine data where the elements of study are not anonymous. Let's consider that we have some city data. If we have city names (or equivalent) in the index column, simply concatenating them would be fine, because the names would not repeat in the way the index has above."
    },
    {
      "metadata": {
        "trusted": true
      },
      "cell_type": "code",
      "source": "df1 = pd.DataFrame(5+np.random.randn(5, 5))\ndf1.columns = ['area','population','mean temperature','elevation','annual rainfall']\ndf1.index = ['London', 'Paris', 'Beijing', 'Medellin', 'Port Elizabeth']",
      "execution_count": 72,
      "outputs": []
    },
    {
      "metadata": {
        "trusted": true
      },
      "cell_type": "code",
      "source": "df1",
      "execution_count": 73,
      "outputs": [
        {
          "output_type": "execute_result",
          "execution_count": 73,
          "data": {
            "text/plain": "                    area  population  mean temperature  elevation  \\\nLondon          4.255579    4.683672          4.097256   5.442983   \nParis           4.093581    5.931472          4.725784   5.365492   \nBeijing         4.813112    4.028841          4.567689   5.638859   \nMedellin        5.897311    3.823275          4.166628   4.651157   \nPort Elizabeth  5.214708    5.888512          4.594464   4.467586   \n\n                annual rainfall  \nLondon                 5.719093  \nParis                  2.729376  \nBeijing                4.947958  \nMedellin               4.138957  \nPort Elizabeth         3.043506  ",
            "text/html": "<div>\n<style scoped>\n    .dataframe tbody tr th:only-of-type {\n        vertical-align: middle;\n    }\n\n    .dataframe tbody tr th {\n        vertical-align: top;\n    }\n\n    .dataframe thead th {\n        text-align: right;\n    }\n</style>\n<table border=\"1\" class=\"dataframe\">\n  <thead>\n    <tr style=\"text-align: right;\">\n      <th></th>\n      <th>area</th>\n      <th>population</th>\n      <th>mean temperature</th>\n      <th>elevation</th>\n      <th>annual rainfall</th>\n    </tr>\n  </thead>\n  <tbody>\n    <tr>\n      <th>London</th>\n      <td>4.255579</td>\n      <td>4.683672</td>\n      <td>4.097256</td>\n      <td>5.442983</td>\n      <td>5.719093</td>\n    </tr>\n    <tr>\n      <th>Paris</th>\n      <td>4.093581</td>\n      <td>5.931472</td>\n      <td>4.725784</td>\n      <td>5.365492</td>\n      <td>2.729376</td>\n    </tr>\n    <tr>\n      <th>Beijing</th>\n      <td>4.813112</td>\n      <td>4.028841</td>\n      <td>4.567689</td>\n      <td>5.638859</td>\n      <td>4.947958</td>\n    </tr>\n    <tr>\n      <th>Medellin</th>\n      <td>5.897311</td>\n      <td>3.823275</td>\n      <td>4.166628</td>\n      <td>4.651157</td>\n      <td>4.138957</td>\n    </tr>\n    <tr>\n      <th>Port Elizabeth</th>\n      <td>5.214708</td>\n      <td>5.888512</td>\n      <td>4.594464</td>\n      <td>4.467586</td>\n      <td>3.043506</td>\n    </tr>\n  </tbody>\n</table>\n</div>"
          },
          "metadata": {}
        }
      ]
    },
    {
      "metadata": {
        "trusted": true
      },
      "cell_type": "code",
      "source": "df2 = pd.DataFrame(5+np.random.randn(3, 5))\ndf2.columns = ['area','population','mean temperature','elevation','annual rainfall']\ndf2.index = ['Mumbai', 'Sydney', 'Boston']",
      "execution_count": 74,
      "outputs": []
    },
    {
      "metadata": {
        "trusted": true
      },
      "cell_type": "code",
      "source": "df2",
      "execution_count": 75,
      "outputs": [
        {
          "output_type": "execute_result",
          "execution_count": 75,
          "data": {
            "text/plain": "            area  population  mean temperature  elevation  annual rainfall\nMumbai  5.218721    4.862222          6.439286   5.258084         5.821573\nSydney  4.720315    3.508084          2.694885   5.051732         5.952296\nBoston  5.459392    3.605450          5.952484   4.001199         7.084620",
            "text/html": "<div>\n<style scoped>\n    .dataframe tbody tr th:only-of-type {\n        vertical-align: middle;\n    }\n\n    .dataframe tbody tr th {\n        vertical-align: top;\n    }\n\n    .dataframe thead th {\n        text-align: right;\n    }\n</style>\n<table border=\"1\" class=\"dataframe\">\n  <thead>\n    <tr style=\"text-align: right;\">\n      <th></th>\n      <th>area</th>\n      <th>population</th>\n      <th>mean temperature</th>\n      <th>elevation</th>\n      <th>annual rainfall</th>\n    </tr>\n  </thead>\n  <tbody>\n    <tr>\n      <th>Mumbai</th>\n      <td>5.218721</td>\n      <td>4.862222</td>\n      <td>6.439286</td>\n      <td>5.258084</td>\n      <td>5.821573</td>\n    </tr>\n    <tr>\n      <th>Sydney</th>\n      <td>4.720315</td>\n      <td>3.508084</td>\n      <td>2.694885</td>\n      <td>5.051732</td>\n      <td>5.952296</td>\n    </tr>\n    <tr>\n      <th>Boston</th>\n      <td>5.459392</td>\n      <td>3.605450</td>\n      <td>5.952484</td>\n      <td>4.001199</td>\n      <td>7.084620</td>\n    </tr>\n  </tbody>\n</table>\n</div>"
          },
          "metadata": {}
        }
      ]
    },
    {
      "metadata": {
        "trusted": true
      },
      "cell_type": "code",
      "source": "df3 = pd.concat([df1,df2])",
      "execution_count": 76,
      "outputs": []
    },
    {
      "metadata": {
        "trusted": true
      },
      "cell_type": "code",
      "source": "df3",
      "execution_count": 77,
      "outputs": [
        {
          "output_type": "execute_result",
          "execution_count": 77,
          "data": {
            "text/plain": "                    area  population  mean temperature  elevation  \\\nLondon          4.255579    4.683672          4.097256   5.442983   \nParis           4.093581    5.931472          4.725784   5.365492   \nBeijing         4.813112    4.028841          4.567689   5.638859   \nMedellin        5.897311    3.823275          4.166628   4.651157   \nPort Elizabeth  5.214708    5.888512          4.594464   4.467586   \nMumbai          5.218721    4.862222          6.439286   5.258084   \nSydney          4.720315    3.508084          2.694885   5.051732   \nBoston          5.459392    3.605450          5.952484   4.001199   \n\n                annual rainfall  \nLondon                 5.719093  \nParis                  2.729376  \nBeijing                4.947958  \nMedellin               4.138957  \nPort Elizabeth         3.043506  \nMumbai                 5.821573  \nSydney                 5.952296  \nBoston                 7.084620  ",
            "text/html": "<div>\n<style scoped>\n    .dataframe tbody tr th:only-of-type {\n        vertical-align: middle;\n    }\n\n    .dataframe tbody tr th {\n        vertical-align: top;\n    }\n\n    .dataframe thead th {\n        text-align: right;\n    }\n</style>\n<table border=\"1\" class=\"dataframe\">\n  <thead>\n    <tr style=\"text-align: right;\">\n      <th></th>\n      <th>area</th>\n      <th>population</th>\n      <th>mean temperature</th>\n      <th>elevation</th>\n      <th>annual rainfall</th>\n    </tr>\n  </thead>\n  <tbody>\n    <tr>\n      <th>London</th>\n      <td>4.255579</td>\n      <td>4.683672</td>\n      <td>4.097256</td>\n      <td>5.442983</td>\n      <td>5.719093</td>\n    </tr>\n    <tr>\n      <th>Paris</th>\n      <td>4.093581</td>\n      <td>5.931472</td>\n      <td>4.725784</td>\n      <td>5.365492</td>\n      <td>2.729376</td>\n    </tr>\n    <tr>\n      <th>Beijing</th>\n      <td>4.813112</td>\n      <td>4.028841</td>\n      <td>4.567689</td>\n      <td>5.638859</td>\n      <td>4.947958</td>\n    </tr>\n    <tr>\n      <th>Medellin</th>\n      <td>5.897311</td>\n      <td>3.823275</td>\n      <td>4.166628</td>\n      <td>4.651157</td>\n      <td>4.138957</td>\n    </tr>\n    <tr>\n      <th>Port Elizabeth</th>\n      <td>5.214708</td>\n      <td>5.888512</td>\n      <td>4.594464</td>\n      <td>4.467586</td>\n      <td>3.043506</td>\n    </tr>\n    <tr>\n      <th>Mumbai</th>\n      <td>5.218721</td>\n      <td>4.862222</td>\n      <td>6.439286</td>\n      <td>5.258084</td>\n      <td>5.821573</td>\n    </tr>\n    <tr>\n      <th>Sydney</th>\n      <td>4.720315</td>\n      <td>3.508084</td>\n      <td>2.694885</td>\n      <td>5.051732</td>\n      <td>5.952296</td>\n    </tr>\n    <tr>\n      <th>Boston</th>\n      <td>5.459392</td>\n      <td>3.605450</td>\n      <td>5.952484</td>\n      <td>4.001199</td>\n      <td>7.084620</td>\n    </tr>\n  </tbody>\n</table>\n</div>"
          },
          "metadata": {}
        }
      ]
    },
    {
      "metadata": {},
      "cell_type": "markdown",
      "source": "## Exercise: Concat continued\n\nRepeat the above for fictitious values for New York, Tokyo, Manila and Budapest - concatenate into a new dataframe \"df\"."
    },
    {
      "metadata": {
        "trusted": true
      },
      "cell_type": "code",
      "source": "df4 = pd.DataFrame(5+np.random.randn(4, 5))\ndf4.columns = ['area','population','mean temperature','elevation','annual rainfall']\ndf4.index = ['New York', 'Tokyo', 'Manila', 'Budapest']\ndf5= pd.concat([df3,df4])\ndf5",
      "execution_count": 78,
      "outputs": [
        {
          "output_type": "execute_result",
          "execution_count": 78,
          "data": {
            "text/plain": "                    area  population  mean temperature  elevation  \\\nLondon          4.255579    4.683672          4.097256   5.442983   \nParis           4.093581    5.931472          4.725784   5.365492   \nBeijing         4.813112    4.028841          4.567689   5.638859   \nMedellin        5.897311    3.823275          4.166628   4.651157   \nPort Elizabeth  5.214708    5.888512          4.594464   4.467586   \nMumbai          5.218721    4.862222          6.439286   5.258084   \nSydney          4.720315    3.508084          2.694885   5.051732   \nBoston          5.459392    3.605450          5.952484   4.001199   \nNew York        4.089228    6.871161          5.274755   4.457752   \nTokyo           4.314807    5.528153          4.906978   5.161376   \nManila          5.472720    5.445463          4.472490   5.990707   \nBudapest        5.144163    4.496636          5.012705   3.763262   \n\n                annual rainfall  \nLondon                 5.719093  \nParis                  2.729376  \nBeijing                4.947958  \nMedellin               4.138957  \nPort Elizabeth         3.043506  \nMumbai                 5.821573  \nSydney                 5.952296  \nBoston                 7.084620  \nNew York               4.205767  \nTokyo                  4.965716  \nManila                 4.857245  \nBudapest               8.899302  ",
            "text/html": "<div>\n<style scoped>\n    .dataframe tbody tr th:only-of-type {\n        vertical-align: middle;\n    }\n\n    .dataframe tbody tr th {\n        vertical-align: top;\n    }\n\n    .dataframe thead th {\n        text-align: right;\n    }\n</style>\n<table border=\"1\" class=\"dataframe\">\n  <thead>\n    <tr style=\"text-align: right;\">\n      <th></th>\n      <th>area</th>\n      <th>population</th>\n      <th>mean temperature</th>\n      <th>elevation</th>\n      <th>annual rainfall</th>\n    </tr>\n  </thead>\n  <tbody>\n    <tr>\n      <th>London</th>\n      <td>4.255579</td>\n      <td>4.683672</td>\n      <td>4.097256</td>\n      <td>5.442983</td>\n      <td>5.719093</td>\n    </tr>\n    <tr>\n      <th>Paris</th>\n      <td>4.093581</td>\n      <td>5.931472</td>\n      <td>4.725784</td>\n      <td>5.365492</td>\n      <td>2.729376</td>\n    </tr>\n    <tr>\n      <th>Beijing</th>\n      <td>4.813112</td>\n      <td>4.028841</td>\n      <td>4.567689</td>\n      <td>5.638859</td>\n      <td>4.947958</td>\n    </tr>\n    <tr>\n      <th>Medellin</th>\n      <td>5.897311</td>\n      <td>3.823275</td>\n      <td>4.166628</td>\n      <td>4.651157</td>\n      <td>4.138957</td>\n    </tr>\n    <tr>\n      <th>Port Elizabeth</th>\n      <td>5.214708</td>\n      <td>5.888512</td>\n      <td>4.594464</td>\n      <td>4.467586</td>\n      <td>3.043506</td>\n    </tr>\n    <tr>\n      <th>Mumbai</th>\n      <td>5.218721</td>\n      <td>4.862222</td>\n      <td>6.439286</td>\n      <td>5.258084</td>\n      <td>5.821573</td>\n    </tr>\n    <tr>\n      <th>Sydney</th>\n      <td>4.720315</td>\n      <td>3.508084</td>\n      <td>2.694885</td>\n      <td>5.051732</td>\n      <td>5.952296</td>\n    </tr>\n    <tr>\n      <th>Boston</th>\n      <td>5.459392</td>\n      <td>3.605450</td>\n      <td>5.952484</td>\n      <td>4.001199</td>\n      <td>7.084620</td>\n    </tr>\n    <tr>\n      <th>New York</th>\n      <td>4.089228</td>\n      <td>6.871161</td>\n      <td>5.274755</td>\n      <td>4.457752</td>\n      <td>4.205767</td>\n    </tr>\n    <tr>\n      <th>Tokyo</th>\n      <td>4.314807</td>\n      <td>5.528153</td>\n      <td>4.906978</td>\n      <td>5.161376</td>\n      <td>4.965716</td>\n    </tr>\n    <tr>\n      <th>Manila</th>\n      <td>5.472720</td>\n      <td>5.445463</td>\n      <td>4.472490</td>\n      <td>5.990707</td>\n      <td>4.857245</td>\n    </tr>\n    <tr>\n      <th>Budapest</th>\n      <td>5.144163</td>\n      <td>4.496636</td>\n      <td>5.012705</td>\n      <td>3.763262</td>\n      <td>8.899302</td>\n    </tr>\n  </tbody>\n</table>\n</div>"
          },
          "metadata": {}
        }
      ]
    },
    {
      "metadata": {},
      "cell_type": "markdown",
      "source": "## Combining on Attributes\n\nWhat if we're looking at the same locations but different attributes? Consider the same df1"
    },
    {
      "metadata": {
        "trusted": true
      },
      "cell_type": "code",
      "source": "df1 = pd.DataFrame(5+np.random.randn(5, 5))\ndf1.columns = ['area','population','mean temperature','elevation','annual rainfall']\ndf1.index = ['London', 'Paris', 'Beijing', 'Medellin', 'Port Elizabeth']",
      "execution_count": 79,
      "outputs": []
    },
    {
      "metadata": {
        "trusted": true
      },
      "cell_type": "code",
      "source": "df1",
      "execution_count": 80,
      "outputs": [
        {
          "output_type": "execute_result",
          "execution_count": 80,
          "data": {
            "text/plain": "                    area  population  mean temperature  elevation  \\\nLondon          5.197911    3.589548          4.605776   4.961658   \nParis           3.692404    3.862404          5.130238   5.716634   \nBeijing         4.060221    5.749020          6.313095   5.364315   \nMedellin        5.588016    6.358478          7.343663   4.547802   \nPort Elizabeth  5.725110    7.404939          4.931197   4.475198   \n\n                annual rainfall  \nLondon                 5.187122  \nParis                  3.108531  \nBeijing                3.610076  \nMedellin               4.129058  \nPort Elizabeth         4.931061  ",
            "text/html": "<div>\n<style scoped>\n    .dataframe tbody tr th:only-of-type {\n        vertical-align: middle;\n    }\n\n    .dataframe tbody tr th {\n        vertical-align: top;\n    }\n\n    .dataframe thead th {\n        text-align: right;\n    }\n</style>\n<table border=\"1\" class=\"dataframe\">\n  <thead>\n    <tr style=\"text-align: right;\">\n      <th></th>\n      <th>area</th>\n      <th>population</th>\n      <th>mean temperature</th>\n      <th>elevation</th>\n      <th>annual rainfall</th>\n    </tr>\n  </thead>\n  <tbody>\n    <tr>\n      <th>London</th>\n      <td>5.197911</td>\n      <td>3.589548</td>\n      <td>4.605776</td>\n      <td>4.961658</td>\n      <td>5.187122</td>\n    </tr>\n    <tr>\n      <th>Paris</th>\n      <td>3.692404</td>\n      <td>3.862404</td>\n      <td>5.130238</td>\n      <td>5.716634</td>\n      <td>3.108531</td>\n    </tr>\n    <tr>\n      <th>Beijing</th>\n      <td>4.060221</td>\n      <td>5.749020</td>\n      <td>6.313095</td>\n      <td>5.364315</td>\n      <td>3.610076</td>\n    </tr>\n    <tr>\n      <th>Medellin</th>\n      <td>5.588016</td>\n      <td>6.358478</td>\n      <td>7.343663</td>\n      <td>4.547802</td>\n      <td>4.129058</td>\n    </tr>\n    <tr>\n      <th>Port Elizabeth</th>\n      <td>5.725110</td>\n      <td>7.404939</td>\n      <td>4.931197</td>\n      <td>4.475198</td>\n      <td>4.931061</td>\n    </tr>\n  </tbody>\n</table>\n</div>"
          },
          "metadata": {}
        }
      ]
    },
    {
      "metadata": {},
      "cell_type": "markdown",
      "source": "But a new dataframe df4, which details the same locations, but has different information about them:"
    },
    {
      "metadata": {
        "trusted": true
      },
      "cell_type": "code",
      "source": "df4 = pd.DataFrame(5+np.random.randn(5, 3))\ndf4.columns = ['Mean House Price', 'median income','walkability score']\ndf4.index = ['London', 'Paris', 'Beijing', 'Medellin', 'Port Elizabeth']",
      "execution_count": 81,
      "outputs": []
    },
    {
      "metadata": {
        "trusted": true
      },
      "cell_type": "code",
      "source": "df4",
      "execution_count": 82,
      "outputs": [
        {
          "output_type": "execute_result",
          "execution_count": 82,
          "data": {
            "text/plain": "                Mean House Price  median income  walkability score\nLondon                  4.898865       7.107628           5.758235\nParis                   4.927079       5.066486           3.806312\nBeijing                 3.162443       5.597514           3.819528\nMedellin                5.201625       4.048015           5.716842\nPort Elizabeth          4.334439       3.242566           4.445200",
            "text/html": "<div>\n<style scoped>\n    .dataframe tbody tr th:only-of-type {\n        vertical-align: middle;\n    }\n\n    .dataframe tbody tr th {\n        vertical-align: top;\n    }\n\n    .dataframe thead th {\n        text-align: right;\n    }\n</style>\n<table border=\"1\" class=\"dataframe\">\n  <thead>\n    <tr style=\"text-align: right;\">\n      <th></th>\n      <th>Mean House Price</th>\n      <th>median income</th>\n      <th>walkability score</th>\n    </tr>\n  </thead>\n  <tbody>\n    <tr>\n      <th>London</th>\n      <td>4.898865</td>\n      <td>7.107628</td>\n      <td>5.758235</td>\n    </tr>\n    <tr>\n      <th>Paris</th>\n      <td>4.927079</td>\n      <td>5.066486</td>\n      <td>3.806312</td>\n    </tr>\n    <tr>\n      <th>Beijing</th>\n      <td>3.162443</td>\n      <td>5.597514</td>\n      <td>3.819528</td>\n    </tr>\n    <tr>\n      <th>Medellin</th>\n      <td>5.201625</td>\n      <td>4.048015</td>\n      <td>5.716842</td>\n    </tr>\n    <tr>\n      <th>Port Elizabeth</th>\n      <td>4.334439</td>\n      <td>3.242566</td>\n      <td>4.445200</td>\n    </tr>\n  </tbody>\n</table>\n</div>"
          },
          "metadata": {}
        }
      ]
    },
    {
      "metadata": {},
      "cell_type": "markdown",
      "source": "We have to join \"on\" the index - meaning when merging the records, python will look at the index column."
    },
    {
      "metadata": {
        "trusted": true
      },
      "cell_type": "code",
      "source": "df_joined = df1.merge(df4, left_index=True, right_index=True)",
      "execution_count": 83,
      "outputs": []
    },
    {
      "metadata": {
        "trusted": true
      },
      "cell_type": "code",
      "source": "df_joined",
      "execution_count": 84,
      "outputs": [
        {
          "output_type": "execute_result",
          "execution_count": 84,
          "data": {
            "text/plain": "                    area  population  mean temperature  elevation  \\\nLondon          5.197911    3.589548          4.605776   4.961658   \nParis           3.692404    3.862404          5.130238   5.716634   \nBeijing         4.060221    5.749020          6.313095   5.364315   \nMedellin        5.588016    6.358478          7.343663   4.547802   \nPort Elizabeth  5.725110    7.404939          4.931197   4.475198   \n\n                annual rainfall  Mean House Price  median income  \\\nLondon                 5.187122          4.898865       7.107628   \nParis                  3.108531          4.927079       5.066486   \nBeijing                3.610076          3.162443       5.597514   \nMedellin               4.129058          5.201625       4.048015   \nPort Elizabeth         4.931061          4.334439       3.242566   \n\n                walkability score  \nLondon                   5.758235  \nParis                    3.806312  \nBeijing                  3.819528  \nMedellin                 5.716842  \nPort Elizabeth           4.445200  ",
            "text/html": "<div>\n<style scoped>\n    .dataframe tbody tr th:only-of-type {\n        vertical-align: middle;\n    }\n\n    .dataframe tbody tr th {\n        vertical-align: top;\n    }\n\n    .dataframe thead th {\n        text-align: right;\n    }\n</style>\n<table border=\"1\" class=\"dataframe\">\n  <thead>\n    <tr style=\"text-align: right;\">\n      <th></th>\n      <th>area</th>\n      <th>population</th>\n      <th>mean temperature</th>\n      <th>elevation</th>\n      <th>annual rainfall</th>\n      <th>Mean House Price</th>\n      <th>median income</th>\n      <th>walkability score</th>\n    </tr>\n  </thead>\n  <tbody>\n    <tr>\n      <th>London</th>\n      <td>5.197911</td>\n      <td>3.589548</td>\n      <td>4.605776</td>\n      <td>4.961658</td>\n      <td>5.187122</td>\n      <td>4.898865</td>\n      <td>7.107628</td>\n      <td>5.758235</td>\n    </tr>\n    <tr>\n      <th>Paris</th>\n      <td>3.692404</td>\n      <td>3.862404</td>\n      <td>5.130238</td>\n      <td>5.716634</td>\n      <td>3.108531</td>\n      <td>4.927079</td>\n      <td>5.066486</td>\n      <td>3.806312</td>\n    </tr>\n    <tr>\n      <th>Beijing</th>\n      <td>4.060221</td>\n      <td>5.749020</td>\n      <td>6.313095</td>\n      <td>5.364315</td>\n      <td>3.610076</td>\n      <td>3.162443</td>\n      <td>5.597514</td>\n      <td>3.819528</td>\n    </tr>\n    <tr>\n      <th>Medellin</th>\n      <td>5.588016</td>\n      <td>6.358478</td>\n      <td>7.343663</td>\n      <td>4.547802</td>\n      <td>4.129058</td>\n      <td>5.201625</td>\n      <td>4.048015</td>\n      <td>5.716842</td>\n    </tr>\n    <tr>\n      <th>Port Elizabeth</th>\n      <td>5.725110</td>\n      <td>7.404939</td>\n      <td>4.931197</td>\n      <td>4.475198</td>\n      <td>4.931061</td>\n      <td>4.334439</td>\n      <td>3.242566</td>\n      <td>4.445200</td>\n    </tr>\n  </tbody>\n</table>\n</div>"
          },
          "metadata": {}
        }
      ]
    },
    {
      "metadata": {},
      "cell_type": "markdown",
      "source": "Note that this joins on the *index*, not the row number - so if the order of elements in df4 is different, it should still work."
    },
    {
      "metadata": {
        "trusted": true
      },
      "cell_type": "code",
      "source": "df4 = pd.DataFrame(np.random.randn(5, 3))\ndf4.columns = ['Mean House Price', 'median income','walkability score']\ndf4.index = ['Paris','Port Elizabeth', 'Beijing', 'Medellin', 'London']",
      "execution_count": 85,
      "outputs": []
    },
    {
      "metadata": {
        "trusted": true
      },
      "cell_type": "code",
      "source": "df1",
      "execution_count": 86,
      "outputs": [
        {
          "output_type": "execute_result",
          "execution_count": 86,
          "data": {
            "text/plain": "                    area  population  mean temperature  elevation  \\\nLondon          5.197911    3.589548          4.605776   4.961658   \nParis           3.692404    3.862404          5.130238   5.716634   \nBeijing         4.060221    5.749020          6.313095   5.364315   \nMedellin        5.588016    6.358478          7.343663   4.547802   \nPort Elizabeth  5.725110    7.404939          4.931197   4.475198   \n\n                annual rainfall  \nLondon                 5.187122  \nParis                  3.108531  \nBeijing                3.610076  \nMedellin               4.129058  \nPort Elizabeth         4.931061  ",
            "text/html": "<div>\n<style scoped>\n    .dataframe tbody tr th:only-of-type {\n        vertical-align: middle;\n    }\n\n    .dataframe tbody tr th {\n        vertical-align: top;\n    }\n\n    .dataframe thead th {\n        text-align: right;\n    }\n</style>\n<table border=\"1\" class=\"dataframe\">\n  <thead>\n    <tr style=\"text-align: right;\">\n      <th></th>\n      <th>area</th>\n      <th>population</th>\n      <th>mean temperature</th>\n      <th>elevation</th>\n      <th>annual rainfall</th>\n    </tr>\n  </thead>\n  <tbody>\n    <tr>\n      <th>London</th>\n      <td>5.197911</td>\n      <td>3.589548</td>\n      <td>4.605776</td>\n      <td>4.961658</td>\n      <td>5.187122</td>\n    </tr>\n    <tr>\n      <th>Paris</th>\n      <td>3.692404</td>\n      <td>3.862404</td>\n      <td>5.130238</td>\n      <td>5.716634</td>\n      <td>3.108531</td>\n    </tr>\n    <tr>\n      <th>Beijing</th>\n      <td>4.060221</td>\n      <td>5.749020</td>\n      <td>6.313095</td>\n      <td>5.364315</td>\n      <td>3.610076</td>\n    </tr>\n    <tr>\n      <th>Medellin</th>\n      <td>5.588016</td>\n      <td>6.358478</td>\n      <td>7.343663</td>\n      <td>4.547802</td>\n      <td>4.129058</td>\n    </tr>\n    <tr>\n      <th>Port Elizabeth</th>\n      <td>5.725110</td>\n      <td>7.404939</td>\n      <td>4.931197</td>\n      <td>4.475198</td>\n      <td>4.931061</td>\n    </tr>\n  </tbody>\n</table>\n</div>"
          },
          "metadata": {}
        }
      ]
    },
    {
      "metadata": {
        "trusted": true
      },
      "cell_type": "code",
      "source": "df4",
      "execution_count": 87,
      "outputs": [
        {
          "output_type": "execute_result",
          "execution_count": 87,
          "data": {
            "text/plain": "                Mean House Price  median income  walkability score\nParis                  -0.692808      -0.076967           0.822532\nPort Elizabeth          0.290482      -0.131898          -1.633659\nBeijing                -0.433036      -0.082170          -0.371707\nMedellin                1.026222       0.759120           0.612688\nLondon                 -1.084150       0.385181          -2.206637",
            "text/html": "<div>\n<style scoped>\n    .dataframe tbody tr th:only-of-type {\n        vertical-align: middle;\n    }\n\n    .dataframe tbody tr th {\n        vertical-align: top;\n    }\n\n    .dataframe thead th {\n        text-align: right;\n    }\n</style>\n<table border=\"1\" class=\"dataframe\">\n  <thead>\n    <tr style=\"text-align: right;\">\n      <th></th>\n      <th>Mean House Price</th>\n      <th>median income</th>\n      <th>walkability score</th>\n    </tr>\n  </thead>\n  <tbody>\n    <tr>\n      <th>Paris</th>\n      <td>-0.692808</td>\n      <td>-0.076967</td>\n      <td>0.822532</td>\n    </tr>\n    <tr>\n      <th>Port Elizabeth</th>\n      <td>0.290482</td>\n      <td>-0.131898</td>\n      <td>-1.633659</td>\n    </tr>\n    <tr>\n      <th>Beijing</th>\n      <td>-0.433036</td>\n      <td>-0.082170</td>\n      <td>-0.371707</td>\n    </tr>\n    <tr>\n      <th>Medellin</th>\n      <td>1.026222</td>\n      <td>0.759120</td>\n      <td>0.612688</td>\n    </tr>\n    <tr>\n      <th>London</th>\n      <td>-1.084150</td>\n      <td>0.385181</td>\n      <td>-2.206637</td>\n    </tr>\n  </tbody>\n</table>\n</div>"
          },
          "metadata": {}
        }
      ]
    },
    {
      "metadata": {},
      "cell_type": "markdown",
      "source": "    "
    },
    {
      "metadata": {
        "trusted": true
      },
      "cell_type": "code",
      "source": "df_joined = df1.merge(df4, left_index=True, right_index=True)",
      "execution_count": 88,
      "outputs": []
    },
    {
      "metadata": {
        "trusted": true
      },
      "cell_type": "code",
      "source": "df_joined",
      "execution_count": 89,
      "outputs": [
        {
          "output_type": "execute_result",
          "execution_count": 89,
          "data": {
            "text/plain": "                    area  population  mean temperature  elevation  \\\nLondon          5.197911    3.589548          4.605776   4.961658   \nParis           3.692404    3.862404          5.130238   5.716634   \nBeijing         4.060221    5.749020          6.313095   5.364315   \nMedellin        5.588016    6.358478          7.343663   4.547802   \nPort Elizabeth  5.725110    7.404939          4.931197   4.475198   \n\n                annual rainfall  Mean House Price  median income  \\\nLondon                 5.187122         -1.084150       0.385181   \nParis                  3.108531         -0.692808      -0.076967   \nBeijing                3.610076         -0.433036      -0.082170   \nMedellin               4.129058          1.026222       0.759120   \nPort Elizabeth         4.931061          0.290482      -0.131898   \n\n                walkability score  \nLondon                  -2.206637  \nParis                    0.822532  \nBeijing                 -0.371707  \nMedellin                 0.612688  \nPort Elizabeth          -1.633659  ",
            "text/html": "<div>\n<style scoped>\n    .dataframe tbody tr th:only-of-type {\n        vertical-align: middle;\n    }\n\n    .dataframe tbody tr th {\n        vertical-align: top;\n    }\n\n    .dataframe thead th {\n        text-align: right;\n    }\n</style>\n<table border=\"1\" class=\"dataframe\">\n  <thead>\n    <tr style=\"text-align: right;\">\n      <th></th>\n      <th>area</th>\n      <th>population</th>\n      <th>mean temperature</th>\n      <th>elevation</th>\n      <th>annual rainfall</th>\n      <th>Mean House Price</th>\n      <th>median income</th>\n      <th>walkability score</th>\n    </tr>\n  </thead>\n  <tbody>\n    <tr>\n      <th>London</th>\n      <td>5.197911</td>\n      <td>3.589548</td>\n      <td>4.605776</td>\n      <td>4.961658</td>\n      <td>5.187122</td>\n      <td>-1.084150</td>\n      <td>0.385181</td>\n      <td>-2.206637</td>\n    </tr>\n    <tr>\n      <th>Paris</th>\n      <td>3.692404</td>\n      <td>3.862404</td>\n      <td>5.130238</td>\n      <td>5.716634</td>\n      <td>3.108531</td>\n      <td>-0.692808</td>\n      <td>-0.076967</td>\n      <td>0.822532</td>\n    </tr>\n    <tr>\n      <th>Beijing</th>\n      <td>4.060221</td>\n      <td>5.749020</td>\n      <td>6.313095</td>\n      <td>5.364315</td>\n      <td>3.610076</td>\n      <td>-0.433036</td>\n      <td>-0.082170</td>\n      <td>-0.371707</td>\n    </tr>\n    <tr>\n      <th>Medellin</th>\n      <td>5.588016</td>\n      <td>6.358478</td>\n      <td>7.343663</td>\n      <td>4.547802</td>\n      <td>4.129058</td>\n      <td>1.026222</td>\n      <td>0.759120</td>\n      <td>0.612688</td>\n    </tr>\n    <tr>\n      <th>Port Elizabeth</th>\n      <td>5.725110</td>\n      <td>7.404939</td>\n      <td>4.931197</td>\n      <td>4.475198</td>\n      <td>4.931061</td>\n      <td>0.290482</td>\n      <td>-0.131898</td>\n      <td>-1.633659</td>\n    </tr>\n  </tbody>\n</table>\n</div>"
          },
          "metadata": {}
        }
      ]
    },
    {
      "metadata": {},
      "cell_type": "markdown",
      "source": "## Merge Records\nConsider now a case where we have data for some but not all cities; so df1 stil has data for these 5 cities:"
    },
    {
      "metadata": {
        "trusted": true
      },
      "cell_type": "code",
      "source": "df1",
      "execution_count": 90,
      "outputs": [
        {
          "output_type": "execute_result",
          "execution_count": 90,
          "data": {
            "text/plain": "                    area  population  mean temperature  elevation  \\\nLondon          5.197911    3.589548          4.605776   4.961658   \nParis           3.692404    3.862404          5.130238   5.716634   \nBeijing         4.060221    5.749020          6.313095   5.364315   \nMedellin        5.588016    6.358478          7.343663   4.547802   \nPort Elizabeth  5.725110    7.404939          4.931197   4.475198   \n\n                annual rainfall  \nLondon                 5.187122  \nParis                  3.108531  \nBeijing                3.610076  \nMedellin               4.129058  \nPort Elizabeth         4.931061  ",
            "text/html": "<div>\n<style scoped>\n    .dataframe tbody tr th:only-of-type {\n        vertical-align: middle;\n    }\n\n    .dataframe tbody tr th {\n        vertical-align: top;\n    }\n\n    .dataframe thead th {\n        text-align: right;\n    }\n</style>\n<table border=\"1\" class=\"dataframe\">\n  <thead>\n    <tr style=\"text-align: right;\">\n      <th></th>\n      <th>area</th>\n      <th>population</th>\n      <th>mean temperature</th>\n      <th>elevation</th>\n      <th>annual rainfall</th>\n    </tr>\n  </thead>\n  <tbody>\n    <tr>\n      <th>London</th>\n      <td>5.197911</td>\n      <td>3.589548</td>\n      <td>4.605776</td>\n      <td>4.961658</td>\n      <td>5.187122</td>\n    </tr>\n    <tr>\n      <th>Paris</th>\n      <td>3.692404</td>\n      <td>3.862404</td>\n      <td>5.130238</td>\n      <td>5.716634</td>\n      <td>3.108531</td>\n    </tr>\n    <tr>\n      <th>Beijing</th>\n      <td>4.060221</td>\n      <td>5.749020</td>\n      <td>6.313095</td>\n      <td>5.364315</td>\n      <td>3.610076</td>\n    </tr>\n    <tr>\n      <th>Medellin</th>\n      <td>5.588016</td>\n      <td>6.358478</td>\n      <td>7.343663</td>\n      <td>4.547802</td>\n      <td>4.129058</td>\n    </tr>\n    <tr>\n      <th>Port Elizabeth</th>\n      <td>5.725110</td>\n      <td>7.404939</td>\n      <td>4.931197</td>\n      <td>4.475198</td>\n      <td>4.931061</td>\n    </tr>\n  </tbody>\n</table>\n</div>"
          },
          "metadata": {}
        }
      ]
    },
    {
      "metadata": {},
      "cell_type": "markdown",
      "source": "But our new table, df5, contains data for three cities:"
    },
    {
      "metadata": {
        "trusted": true
      },
      "cell_type": "code",
      "source": "df5 = pd.DataFrame(5+np.random.randn(3, 3))\ndf5.columns = ['Mean House Price', 'median income','walkability score']\ndf5.index = ['London', 'Paris', 'Glasgow']",
      "execution_count": 91,
      "outputs": []
    },
    {
      "metadata": {
        "trusted": true
      },
      "cell_type": "code",
      "source": "df5",
      "execution_count": 92,
      "outputs": [
        {
          "output_type": "execute_result",
          "execution_count": 92,
          "data": {
            "text/plain": "         Mean House Price  median income  walkability score\nLondon           6.298738       6.363249           4.475869\nParis            4.860170       5.645596           7.267398\nGlasgow          5.194909       4.061806           3.322067",
            "text/html": "<div>\n<style scoped>\n    .dataframe tbody tr th:only-of-type {\n        vertical-align: middle;\n    }\n\n    .dataframe tbody tr th {\n        vertical-align: top;\n    }\n\n    .dataframe thead th {\n        text-align: right;\n    }\n</style>\n<table border=\"1\" class=\"dataframe\">\n  <thead>\n    <tr style=\"text-align: right;\">\n      <th></th>\n      <th>Mean House Price</th>\n      <th>median income</th>\n      <th>walkability score</th>\n    </tr>\n  </thead>\n  <tbody>\n    <tr>\n      <th>London</th>\n      <td>6.298738</td>\n      <td>6.363249</td>\n      <td>4.475869</td>\n    </tr>\n    <tr>\n      <th>Paris</th>\n      <td>4.860170</td>\n      <td>5.645596</td>\n      <td>7.267398</td>\n    </tr>\n    <tr>\n      <th>Glasgow</th>\n      <td>5.194909</td>\n      <td>4.061806</td>\n      <td>3.322067</td>\n    </tr>\n  </tbody>\n</table>\n</div>"
          },
          "metadata": {}
        }
      ]
    },
    {
      "metadata": {},
      "cell_type": "markdown",
      "source": "## Exercise:\n\nHow many cities appear in: \n- both dataframes 6\n- only df1 3\n- only df5 1\n- neither df1 nor df5? 0"
    },
    {
      "metadata": {},
      "cell_type": "markdown",
      "source": "## Way Back Venn \n\nWhat is the mechanism for joining data where these mismatches exist? Well, there are several, starting with the..."
    },
    {
      "metadata": {},
      "cell_type": "markdown",
      "source": "## Inner Join:"
    },
    {
      "metadata": {
        "trusted": true
      },
      "cell_type": "code",
      "source": "from IPython.display import Image\n\ndata_path = \"https://s3.eu-west-2.amazonaws.com/qm2/wk3/inner.png\"\nImage(data_path)",
      "execution_count": 93,
      "outputs": [
        {
          "output_type": "execute_result",
          "execution_count": 93,
          "data": {
            "image/png": "[encoded data removed]",
            "text/plain": "<IPython.core.display.Image object>"
          },
          "metadata": {}
        }
      ]
    },
    {
      "metadata": {},
      "cell_type": "markdown",
      "source": "(Image from http://blog.codinghorror.com/a-visual-explanation-of-sql-joins/)"
    },
    {
      "metadata": {},
      "cell_type": "markdown",
      "source": "The inner join *only* includes data whose index appears in both tables. Let's see what that looks like:"
    },
    {
      "metadata": {
        "trusted": true
      },
      "cell_type": "code",
      "source": "df_joined = df1.merge(df5, left_index=True, right_index=True)",
      "execution_count": 94,
      "outputs": []
    },
    {
      "metadata": {
        "trusted": true
      },
      "cell_type": "code",
      "source": "df_joined",
      "execution_count": 95,
      "outputs": [
        {
          "output_type": "execute_result",
          "execution_count": 95,
          "data": {
            "text/plain": "            area  population  mean temperature  elevation  annual rainfall  \\\nLondon  5.197911    3.589548          4.605776   4.961658         5.187122   \nParis   3.692404    3.862404          5.130238   5.716634         3.108531   \n\n        Mean House Price  median income  walkability score  \nLondon          6.298738       6.363249           4.475869  \nParis           4.860170       5.645596           7.267398  ",
            "text/html": "<div>\n<style scoped>\n    .dataframe tbody tr th:only-of-type {\n        vertical-align: middle;\n    }\n\n    .dataframe tbody tr th {\n        vertical-align: top;\n    }\n\n    .dataframe thead th {\n        text-align: right;\n    }\n</style>\n<table border=\"1\" class=\"dataframe\">\n  <thead>\n    <tr style=\"text-align: right;\">\n      <th></th>\n      <th>area</th>\n      <th>population</th>\n      <th>mean temperature</th>\n      <th>elevation</th>\n      <th>annual rainfall</th>\n      <th>Mean House Price</th>\n      <th>median income</th>\n      <th>walkability score</th>\n    </tr>\n  </thead>\n  <tbody>\n    <tr>\n      <th>London</th>\n      <td>5.197911</td>\n      <td>3.589548</td>\n      <td>4.605776</td>\n      <td>4.961658</td>\n      <td>5.187122</td>\n      <td>6.298738</td>\n      <td>6.363249</td>\n      <td>4.475869</td>\n    </tr>\n    <tr>\n      <th>Paris</th>\n      <td>3.692404</td>\n      <td>3.862404</td>\n      <td>5.130238</td>\n      <td>5.716634</td>\n      <td>3.108531</td>\n      <td>4.860170</td>\n      <td>5.645596</td>\n      <td>7.267398</td>\n    </tr>\n  </tbody>\n</table>\n</div>"
          },
          "metadata": {}
        }
      ]
    },
    {
      "metadata": {},
      "cell_type": "markdown",
      "source": "Here, we have a couple of arguments specifying the manner of the join - we have specified that we are joining on the index of the left and right dataset with the optional \"left_index=True\" and \"right_index=True\". Less obviously, the **left** dataset is df1 (because we're using *df1.merge()* and the **right** dataset is df5 (because it appears as an argument in merge(). There's no special reason it shouldn't be the other way around, but for this function, it is this way around and we need to remember that when we use it. "
    },
    {
      "metadata": {},
      "cell_type": "markdown",
      "source": "## Inner Space\n\nAlthough we haven't specified it, the merge() function has defaulted to an inner join (like the diagram above). We can specify how the join is calculated by changing the text in the optional argument \"how\":"
    },
    {
      "metadata": {
        "trusted": true
      },
      "cell_type": "code",
      "source": "df_joined = df1.merge(df5, left_index=True, right_index=True, how='inner')",
      "execution_count": 96,
      "outputs": []
    },
    {
      "metadata": {
        "trusted": true
      },
      "cell_type": "code",
      "source": "df_joined",
      "execution_count": 97,
      "outputs": [
        {
          "output_type": "execute_result",
          "execution_count": 97,
          "data": {
            "text/plain": "            area  population  mean temperature  elevation  annual rainfall  \\\nLondon  5.197911    3.589548          4.605776   4.961658         5.187122   \nParis   3.692404    3.862404          5.130238   5.716634         3.108531   \n\n        Mean House Price  median income  walkability score  \nLondon          6.298738       6.363249           4.475869  \nParis           4.860170       5.645596           7.267398  ",
            "text/html": "<div>\n<style scoped>\n    .dataframe tbody tr th:only-of-type {\n        vertical-align: middle;\n    }\n\n    .dataframe tbody tr th {\n        vertical-align: top;\n    }\n\n    .dataframe thead th {\n        text-align: right;\n    }\n</style>\n<table border=\"1\" class=\"dataframe\">\n  <thead>\n    <tr style=\"text-align: right;\">\n      <th></th>\n      <th>area</th>\n      <th>population</th>\n      <th>mean temperature</th>\n      <th>elevation</th>\n      <th>annual rainfall</th>\n      <th>Mean House Price</th>\n      <th>median income</th>\n      <th>walkability score</th>\n    </tr>\n  </thead>\n  <tbody>\n    <tr>\n      <th>London</th>\n      <td>5.197911</td>\n      <td>3.589548</td>\n      <td>4.605776</td>\n      <td>4.961658</td>\n      <td>5.187122</td>\n      <td>6.298738</td>\n      <td>6.363249</td>\n      <td>4.475869</td>\n    </tr>\n    <tr>\n      <th>Paris</th>\n      <td>3.692404</td>\n      <td>3.862404</td>\n      <td>5.130238</td>\n      <td>5.716634</td>\n      <td>3.108531</td>\n      <td>4.860170</td>\n      <td>5.645596</td>\n      <td>7.267398</td>\n    </tr>\n  </tbody>\n</table>\n</div>"
          },
          "metadata": {}
        }
      ]
    },
    {
      "metadata": {},
      "cell_type": "markdown",
      "source": "## The Future of The Left\nThe *left* join includes **all** rows where the index appears on the **left** hand side of the join, and **any** data which **matches** it on the **right** hand side. If the index appears on the left but not the right, it will include the data from the left table, and have blanks for the columns on the right. "
    },
    {
      "metadata": {
        "trusted": true
      },
      "cell_type": "code",
      "source": "data_path = \"https://s3.eu-west-2.amazonaws.com/qm2/wk3/left.png\"\nImage(data_path)",
      "execution_count": 98,
      "outputs": [
        {
          "output_type": "execute_result",
          "execution_count": 98,
          "data": {
            "image/png": "[encoded data removed]",
            "text/plain": "<IPython.core.display.Image object>"
          },
          "metadata": {}
        }
      ]
    },
    {
      "metadata": {},
      "cell_type": "markdown",
      "source": "What does *this* look like? We will use the *how='left'* optional argument to create a left join:"
    },
    {
      "metadata": {
        "trusted": true
      },
      "cell_type": "code",
      "source": "df_joined = df1.merge(df5, left_index=True, right_index=True, how='left')",
      "execution_count": 99,
      "outputs": []
    },
    {
      "metadata": {
        "trusted": true
      },
      "cell_type": "code",
      "source": "df_joined",
      "execution_count": 100,
      "outputs": [
        {
          "output_type": "execute_result",
          "execution_count": 100,
          "data": {
            "text/plain": "                    area  population  mean temperature  elevation  \\\nLondon          5.197911    3.589548          4.605776   4.961658   \nParis           3.692404    3.862404          5.130238   5.716634   \nBeijing         4.060221    5.749020          6.313095   5.364315   \nMedellin        5.588016    6.358478          7.343663   4.547802   \nPort Elizabeth  5.725110    7.404939          4.931197   4.475198   \n\n                annual rainfall  Mean House Price  median income  \\\nLondon                 5.187122          6.298738       6.363249   \nParis                  3.108531          4.860170       5.645596   \nBeijing                3.610076               NaN            NaN   \nMedellin               4.129058               NaN            NaN   \nPort Elizabeth         4.931061               NaN            NaN   \n\n                walkability score  \nLondon                   4.475869  \nParis                    7.267398  \nBeijing                       NaN  \nMedellin                      NaN  \nPort Elizabeth                NaN  ",
            "text/html": "<div>\n<style scoped>\n    .dataframe tbody tr th:only-of-type {\n        vertical-align: middle;\n    }\n\n    .dataframe tbody tr th {\n        vertical-align: top;\n    }\n\n    .dataframe thead th {\n        text-align: right;\n    }\n</style>\n<table border=\"1\" class=\"dataframe\">\n  <thead>\n    <tr style=\"text-align: right;\">\n      <th></th>\n      <th>area</th>\n      <th>population</th>\n      <th>mean temperature</th>\n      <th>elevation</th>\n      <th>annual rainfall</th>\n      <th>Mean House Price</th>\n      <th>median income</th>\n      <th>walkability score</th>\n    </tr>\n  </thead>\n  <tbody>\n    <tr>\n      <th>London</th>\n      <td>5.197911</td>\n      <td>3.589548</td>\n      <td>4.605776</td>\n      <td>4.961658</td>\n      <td>5.187122</td>\n      <td>6.298738</td>\n      <td>6.363249</td>\n      <td>4.475869</td>\n    </tr>\n    <tr>\n      <th>Paris</th>\n      <td>3.692404</td>\n      <td>3.862404</td>\n      <td>5.130238</td>\n      <td>5.716634</td>\n      <td>3.108531</td>\n      <td>4.860170</td>\n      <td>5.645596</td>\n      <td>7.267398</td>\n    </tr>\n    <tr>\n      <th>Beijing</th>\n      <td>4.060221</td>\n      <td>5.749020</td>\n      <td>6.313095</td>\n      <td>5.364315</td>\n      <td>3.610076</td>\n      <td>NaN</td>\n      <td>NaN</td>\n      <td>NaN</td>\n    </tr>\n    <tr>\n      <th>Medellin</th>\n      <td>5.588016</td>\n      <td>6.358478</td>\n      <td>7.343663</td>\n      <td>4.547802</td>\n      <td>4.129058</td>\n      <td>NaN</td>\n      <td>NaN</td>\n      <td>NaN</td>\n    </tr>\n    <tr>\n      <th>Port Elizabeth</th>\n      <td>5.725110</td>\n      <td>7.404939</td>\n      <td>4.931197</td>\n      <td>4.475198</td>\n      <td>4.931061</td>\n      <td>NaN</td>\n      <td>NaN</td>\n      <td>NaN</td>\n    </tr>\n  </tbody>\n</table>\n</div>"
          },
          "metadata": {}
        }
      ]
    },
    {
      "metadata": {},
      "cell_type": "markdown",
      "source": "As we see, the missing data appears as **NaN** - Not a Number."
    },
    {
      "metadata": {},
      "cell_type": "markdown",
      "source": "## Exercise:\n\nCarry out *right* and *outer* joins on the dataframes df1 and df5 and explain how they're filtering and joining the data. "
    },
    {
      "metadata": {
        "trusted": true
      },
      "cell_type": "code",
      "source": "df_joined1 = df1.merge(df5, left_index=True, right_index=True, how='right')\ndf_joined1\n#Only presenting data from Table B only",
      "execution_count": 101,
      "outputs": [
        {
          "output_type": "execute_result",
          "execution_count": 101,
          "data": {
            "text/plain": "             area  population  mean temperature  elevation  annual rainfall  \\\nLondon   5.197911    3.589548          4.605776   4.961658         5.187122   \nParis    3.692404    3.862404          5.130238   5.716634         3.108531   \nGlasgow       NaN         NaN               NaN        NaN              NaN   \n\n         Mean House Price  median income  walkability score  \nLondon           6.298738       6.363249           4.475869  \nParis            4.860170       5.645596           7.267398  \nGlasgow          5.194909       4.061806           3.322067  ",
            "text/html": "<div>\n<style scoped>\n    .dataframe tbody tr th:only-of-type {\n        vertical-align: middle;\n    }\n\n    .dataframe tbody tr th {\n        vertical-align: top;\n    }\n\n    .dataframe thead th {\n        text-align: right;\n    }\n</style>\n<table border=\"1\" class=\"dataframe\">\n  <thead>\n    <tr style=\"text-align: right;\">\n      <th></th>\n      <th>area</th>\n      <th>population</th>\n      <th>mean temperature</th>\n      <th>elevation</th>\n      <th>annual rainfall</th>\n      <th>Mean House Price</th>\n      <th>median income</th>\n      <th>walkability score</th>\n    </tr>\n  </thead>\n  <tbody>\n    <tr>\n      <th>London</th>\n      <td>5.197911</td>\n      <td>3.589548</td>\n      <td>4.605776</td>\n      <td>4.961658</td>\n      <td>5.187122</td>\n      <td>6.298738</td>\n      <td>6.363249</td>\n      <td>4.475869</td>\n    </tr>\n    <tr>\n      <th>Paris</th>\n      <td>3.692404</td>\n      <td>3.862404</td>\n      <td>5.130238</td>\n      <td>5.716634</td>\n      <td>3.108531</td>\n      <td>4.860170</td>\n      <td>5.645596</td>\n      <td>7.267398</td>\n    </tr>\n    <tr>\n      <th>Glasgow</th>\n      <td>NaN</td>\n      <td>NaN</td>\n      <td>NaN</td>\n      <td>NaN</td>\n      <td>NaN</td>\n      <td>5.194909</td>\n      <td>4.061806</td>\n      <td>3.322067</td>\n    </tr>\n  </tbody>\n</table>\n</div>"
          },
          "metadata": {}
        }
      ]
    },
    {
      "metadata": {
        "trusted": true
      },
      "cell_type": "code",
      "source": "df_joined2 = df1.merge(df5, left_index=True, right_index=True, how='outer')\ndf_joined2\n#Presenting all data that is not common in A and B",
      "execution_count": 114,
      "outputs": [
        {
          "output_type": "execute_result",
          "execution_count": 114,
          "data": {
            "text/plain": "                    area  population  mean temperature  elevation  \\\nBeijing         4.060221    5.749020          6.313095   5.364315   \nGlasgow              NaN         NaN               NaN        NaN   \nLondon          5.197911    3.589548          4.605776   4.961658   \nMedellin        5.588016    6.358478          7.343663   4.547802   \nParis           3.692404    3.862404          5.130238   5.716634   \nPort Elizabeth  5.725110    7.404939          4.931197   4.475198   \n\n                annual rainfall  Mean House Price  median income  \\\nBeijing                3.610076               NaN            NaN   \nGlasgow                     NaN          5.194909       4.061806   \nLondon                 5.187122          6.298738       6.363249   \nMedellin               4.129058               NaN            NaN   \nParis                  3.108531          4.860170       5.645596   \nPort Elizabeth         4.931061               NaN            NaN   \n\n                walkability score  \nBeijing                       NaN  \nGlasgow                  3.322067  \nLondon                   4.475869  \nMedellin                      NaN  \nParis                    7.267398  \nPort Elizabeth                NaN  ",
            "text/html": "<div>\n<style scoped>\n    .dataframe tbody tr th:only-of-type {\n        vertical-align: middle;\n    }\n\n    .dataframe tbody tr th {\n        vertical-align: top;\n    }\n\n    .dataframe thead th {\n        text-align: right;\n    }\n</style>\n<table border=\"1\" class=\"dataframe\">\n  <thead>\n    <tr style=\"text-align: right;\">\n      <th></th>\n      <th>area</th>\n      <th>population</th>\n      <th>mean temperature</th>\n      <th>elevation</th>\n      <th>annual rainfall</th>\n      <th>Mean House Price</th>\n      <th>median income</th>\n      <th>walkability score</th>\n    </tr>\n  </thead>\n  <tbody>\n    <tr>\n      <th>Beijing</th>\n      <td>4.060221</td>\n      <td>5.749020</td>\n      <td>6.313095</td>\n      <td>5.364315</td>\n      <td>3.610076</td>\n      <td>NaN</td>\n      <td>NaN</td>\n      <td>NaN</td>\n    </tr>\n    <tr>\n      <th>Glasgow</th>\n      <td>NaN</td>\n      <td>NaN</td>\n      <td>NaN</td>\n      <td>NaN</td>\n      <td>NaN</td>\n      <td>5.194909</td>\n      <td>4.061806</td>\n      <td>3.322067</td>\n    </tr>\n    <tr>\n      <th>London</th>\n      <td>5.197911</td>\n      <td>3.589548</td>\n      <td>4.605776</td>\n      <td>4.961658</td>\n      <td>5.187122</td>\n      <td>6.298738</td>\n      <td>6.363249</td>\n      <td>4.475869</td>\n    </tr>\n    <tr>\n      <th>Medellin</th>\n      <td>5.588016</td>\n      <td>6.358478</td>\n      <td>7.343663</td>\n      <td>4.547802</td>\n      <td>4.129058</td>\n      <td>NaN</td>\n      <td>NaN</td>\n      <td>NaN</td>\n    </tr>\n    <tr>\n      <th>Paris</th>\n      <td>3.692404</td>\n      <td>3.862404</td>\n      <td>5.130238</td>\n      <td>5.716634</td>\n      <td>3.108531</td>\n      <td>4.860170</td>\n      <td>5.645596</td>\n      <td>7.267398</td>\n    </tr>\n    <tr>\n      <th>Port Elizabeth</th>\n      <td>5.725110</td>\n      <td>7.404939</td>\n      <td>4.931197</td>\n      <td>4.475198</td>\n      <td>4.931061</td>\n      <td>NaN</td>\n      <td>NaN</td>\n      <td>NaN</td>\n    </tr>\n  </tbody>\n</table>\n</div>"
          },
          "metadata": {}
        }
      ]
    },
    {
      "metadata": {},
      "cell_type": "markdown",
      "source": "## I Am The One and Only\n\nSo far, we've carried out joins on data which have a *one-to-one* relationship; data for cities or people. What if our data has a *one-to-many* correspondence? \n\n*Example:* We want to look at the quality of life in cities (a real student project from 2014). We have a dataset listing city-level characteristics for a number of cities in Europe, including the country each city is in. We also have a dataset listing the GDP, life expectancy and other indicators for a number of *countries* in Europe. How do we create a dataframe which, for each city, lists all of the characteristics of a city and those of its parent country?"
    },
    {
      "metadata": {},
      "cell_type": "markdown",
      "source": "We'll be working now with data from the UN, covering information about cities - real data this time. The UN has some great data, we've taken some from here and processed it in various ways:\n\nhttp://data.un.org/Data.aspx?d=POP&f=tableCode%3A240\n\nLet's load up data on city population - this set contains data for 2012-2014 inclusive:"
    },
    {
      "metadata": {
        "trusted": true
      },
      "cell_type": "code",
      "source": "data_path = \"./data/wk3/UN_Cities_1214_population.csv\"\n\ncity_pop = pd.read_csv(data_path)",
      "execution_count": 102,
      "outputs": []
    },
    {
      "metadata": {
        "trusted": true
      },
      "cell_type": "code",
      "source": "city_pop",
      "execution_count": 103,
      "outputs": [
        {
          "output_type": "execute_result",
          "execution_count": 103,
          "data": {
            "text/plain": "      Year   Area         Sex                            City  \\\n0     2013  Total  Both Sexes                       MARIEHAMN   \n1     2013  Total        Male                       MARIEHAMN   \n2     2013  Total      Female                       MARIEHAMN   \n3     2012  Total  Both Sexes                       MARIEHAMN   \n4     2012  Total        Male                       MARIEHAMN   \n5     2012  Total      Female                       MARIEHAMN   \n6     2013  Total  Both Sexes             Bah�_a Blanca-Cerri   \n7     2013  Total  Both Sexes                    BUENOS AIRES   \n8     2013  Total  Both Sexes                       Catamarca   \n9     2013  Total  Both Sexes   Comodoro Rivadavia-Rada Tilly   \n10    2013  Total  Both Sexes                       Concordia   \n11    2013  Total  Both Sexes                        C�_rdoba   \n12    2013  Total  Both Sexes                      Corrientes   \n13    2013  Total  Both Sexes                         Formosa   \n14    2013  Total  Both Sexes                        La Plata   \n15    2013  Total  Both Sexes                        La Rioja   \n16    2013  Total  Both Sexes         San Luis - El Chorrillo   \n17    2013  Total  Both Sexes            Mar del Plata-Bat��n   \n18    2013  Total  Both Sexes                         Mendoza   \n19    2013  Total  Both Sexes                Neuqu̩n-Plottier   \n20    2013  Total  Both Sexes                         Paran��   \n21    2013  Total  Both Sexes                         Posadas   \n22    2013  Total  Both Sexes                     Resistencia   \n23    2013  Total  Both Sexes                     R�_o Cuarto   \n24    2013  Total  Both Sexes                         Rosario   \n25    2013  Total  Both Sexes                           Salta   \n26    2013  Total  Both Sexes                        San Juan   \n27    2013  Total  Both Sexes  San Salvador de Jujuy-Palpal��   \n28    2013  Total  Both Sexes                        Santa F̩   \n29    2013  Total  Both Sexes                 Santa Rosa-Toay   \n...    ...    ...         ...                             ...   \n3766  2012  Total  Both Sexes                       Waco (TX)   \n3767  2012  Total  Both Sexes                     Warren (MI)   \n3768  2012  Total  Both Sexes                 WASHINGTON (DC)   \n3769  2012  Total  Both Sexes                  Waterbury (CT)   \n3770  2012  Total  Both Sexes                West Covina (CA)   \n3771  2012  Total  Both Sexes                West Jordan (UT)   \n3772  2012  Total  Both Sexes            West Palm Beach (FL)   \n3773  2012  Total  Both Sexes           West Valley City (UT)   \n3774  2012  Total  Both Sexes                Westminster (CO)   \n3775  2012  Total  Both Sexes                    Wichita (KS)   \n3776  2012  Total  Both Sexes              Wichita Falls (TX)   \n3777  2012  Total  Both Sexes                 Wilmington (NC)   \n3778  2012  Total  Both Sexes              Winston-Salem (NC)   \n3779  2012  Total  Both Sexes                  Worcester (MA)   \n3780  2012  Total  Both Sexes                    Yonkers (NY)   \n3781  2012  Total  Both Sexes                        Bulawayo   \n3782  2012  Total  Both Sexes                     Chitungwiza   \n3783  2012  Total  Both Sexes                           Gweru   \n3784  2012  Total  Both Sexes                          HARARE   \n3785  2012  Total  Both Sexes                          Mutare   \n3786  2012  Total        Male                        Bulawayo   \n3787  2012  Total        Male                     Chitungwiza   \n3788  2012  Total        Male                           Gweru   \n3789  2012  Total        Male                          HARARE   \n3790  2012  Total        Male                          Mutare   \n3791  2012  Total      Female                        Bulawayo   \n3792  2012  Total      Female                     Chitungwiza   \n3793  2012  Total      Female                           Gweru   \n3794  2012  Total      Female                          HARARE   \n3795  2012  Total      Female                          Mutare   \n\n                City type                              Record Type  \\\n0             City proper                       Estimate - de jure   \n1             City proper                       Estimate - de jure   \n2             City proper                       Estimate - de jure   \n3             City proper                       Estimate - de jure   \n4             City proper                       Estimate - de jure   \n5             City proper                       Estimate - de jure   \n6     Urban agglomeration                      Estimate - de facto   \n7     Urban agglomeration                      Estimate - de facto   \n8     Urban agglomeration                      Estimate - de facto   \n9     Urban agglomeration                      Estimate - de facto   \n10    Urban agglomeration                      Estimate - de facto   \n11    Urban agglomeration                      Estimate - de facto   \n12    Urban agglomeration                      Estimate - de facto   \n13    Urban agglomeration                      Estimate - de facto   \n14    Urban agglomeration                      Estimate - de facto   \n15    Urban agglomeration                      Estimate - de facto   \n16    Urban agglomeration                      Estimate - de facto   \n17    Urban agglomeration                      Estimate - de facto   \n18    Urban agglomeration                      Estimate - de facto   \n19    Urban agglomeration                      Estimate - de facto   \n20    Urban agglomeration                      Estimate - de facto   \n21    Urban agglomeration                      Estimate - de facto   \n22    Urban agglomeration                      Estimate - de facto   \n23    Urban agglomeration                      Estimate - de facto   \n24    Urban agglomeration                      Estimate - de facto   \n25    Urban agglomeration                      Estimate - de facto   \n26    Urban agglomeration                      Estimate - de facto   \n27    Urban agglomeration                      Estimate - de facto   \n28    Urban agglomeration                      Estimate - de facto   \n29    Urban agglomeration                      Estimate - de facto   \n...                   ...                                      ...   \n3766          City proper                       Estimate - de jure   \n3767          City proper                       Estimate - de jure   \n3768          City proper                       Estimate - de jure   \n3769          City proper                       Estimate - de jure   \n3770          City proper                       Estimate - de jure   \n3771          City proper                       Estimate - de jure   \n3772          City proper                       Estimate - de jure   \n3773          City proper                       Estimate - de jure   \n3774          City proper                       Estimate - de jure   \n3775          City proper                       Estimate - de jure   \n3776          City proper                       Estimate - de jure   \n3777          City proper                       Estimate - de jure   \n3778          City proper                       Estimate - de jure   \n3779          City proper                       Estimate - de jure   \n3780          City proper                       Estimate - de jure   \n3781          City proper  Census - de facto - complete tabulation   \n3782          City proper  Census - de facto - complete tabulation   \n3783          City proper  Census - de facto - complete tabulation   \n3784          City proper  Census - de facto - complete tabulation   \n3785          City proper  Census - de facto - complete tabulation   \n3786          City proper  Census - de facto - complete tabulation   \n3787          City proper  Census - de facto - complete tabulation   \n3788          City proper  Census - de facto - complete tabulation   \n3789          City proper  Census - de facto - complete tabulation   \n3790          City proper  Census - de facto - complete tabulation   \n3791          City proper  Census - de facto - complete tabulation   \n3792          City proper  Census - de facto - complete tabulation   \n3793          City proper  Census - de facto - complete tabulation   \n3794          City proper  Census - de facto - complete tabulation   \n3795          City proper  Census - de facto - complete tabulation   \n\n                 Reliability  Source Year         Value Value Footnotes  \n0     Final figure, complete         2014  1.137000e+04             NaN  \n1     Final figure, complete         2014  5.445000e+03             NaN  \n2     Final figure, complete         2014  5.925000e+03             NaN  \n3     Final figure, complete         2013  1.130450e+04             NaN  \n4     Final figure, complete         2013  5.408000e+03             NaN  \n5     Final figure, complete         2013  5.896500e+03             NaN  \n6     Final figure, complete         2013  3.173257e+05               1  \n7     Final figure, complete         2013  1.333900e+07             1,2  \n8     Final figure, complete         2013  2.157954e+05               1  \n9     Final figure, complete         2013  1.465574e+05               1  \n10    Final figure, complete         2013  1.577057e+05               1  \n11    Final figure, complete         2013  1.442001e+06               1  \n12    Final figure, complete         2013  3.739813e+05               1  \n13    Final figure, complete         2013  2.535081e+05               1  \n14    Final figure, complete         2013  7.644689e+05               1  \n15    Final figure, complete         2013  1.937636e+05               1  \n16    Final figure, complete         2013  2.166095e+05               1  \n17    Final figure, complete         2013  6.339056e+05               1  \n18    Final figure, complete         2013  9.232033e+05               1  \n19    Final figure, complete         2013  2.776097e+05               1  \n20    Final figure, complete         2013  2.866595e+05               1  \n21    Final figure, complete         2013  3.121629e+05               1  \n22    Final figure, complete         2013  4.062845e+05               1  \n23    Final figure, complete         2013  1.684005e+05               1  \n24    Final figure, complete         2013  1.284951e+06               1  \n25    Final figure, complete         2013  5.628072e+05               1  \n26    Final figure, complete         2013  4.863132e+05               1  \n27    Final figure, complete         2013  3.228729e+05               1  \n28    Final figure, complete         2013  5.212330e+05               1  \n29    Final figure, complete         2013  1.273986e+05               1  \n...                      ...          ...           ...             ...  \n3766  Final figure, complete         2014  1.270180e+05           40,41  \n3767  Final figure, complete         2014  1.341410e+05           40,41  \n3768  Final figure, complete         2014  6.323230e+05           40,41  \n3769  Final figure, complete         2014  1.099150e+05           40,41  \n3770  Final figure, complete         2014  1.074400e+05           40,41  \n3771  Final figure, complete         2014  1.083830e+05           40,41  \n3772  Final figure, complete         2014  1.019030e+05           40,41  \n3773  Final figure, complete         2014  1.324340e+05           40,41  \n3774  Final figure, complete         2014  1.091690e+05           40,41  \n3775  Final figure, complete         2014  3.855770e+05           40,41  \n3776  Final figure, complete         2014  1.045520e+05           40,41  \n3777  Final figure, complete         2014  1.099220e+05           40,41  \n3778  Final figure, complete         2014  2.343490e+05           40,41  \n3779  Final figure, complete         2014  1.826690e+05           40,41  \n3780  Final figure, complete         2014  1.984490e+05           40,41  \n3781  Final figure, complete         2014  6.533370e+05             NaN  \n3782  Final figure, complete         2014  3.568400e+05             NaN  \n3783  Final figure, complete         2014  9.180600e+04             NaN  \n3784  Final figure, complete         2014  1.485231e+06             NaN  \n3785  Final figure, complete         2014  2.621240e+05             NaN  \n3786  Final figure, complete         2014  3.033460e+05             NaN  \n3787  Final figure, complete         2014  1.686000e+05             NaN  \n3788  Final figure, complete         2014  4.523900e+04             NaN  \n3789  Final figure, complete         2014  7.165950e+05             NaN  \n3790  Final figure, complete         2014  1.258500e+05             NaN  \n3791  Final figure, complete         2014  3.499910e+05             NaN  \n3792  Final figure, complete         2014  1.882400e+05             NaN  \n3793  Final figure, complete         2014  4.656700e+04             NaN  \n3794  Final figure, complete         2014  7.686360e+05             NaN  \n3795  Final figure, complete         2014  1.362740e+05             NaN  \n\n[3796 rows x 10 columns]",
            "text/html": "<div>\n<style scoped>\n    .dataframe tbody tr th:only-of-type {\n        vertical-align: middle;\n    }\n\n    .dataframe tbody tr th {\n        vertical-align: top;\n    }\n\n    .dataframe thead th {\n        text-align: right;\n    }\n</style>\n<table border=\"1\" class=\"dataframe\">\n  <thead>\n    <tr style=\"text-align: right;\">\n      <th></th>\n      <th>Year</th>\n      <th>Area</th>\n      <th>Sex</th>\n      <th>City</th>\n      <th>City type</th>\n      <th>Record Type</th>\n      <th>Reliability</th>\n      <th>Source Year</th>\n      <th>Value</th>\n      <th>Value Footnotes</th>\n    </tr>\n  </thead>\n  <tbody>\n    <tr>\n      <th>0</th>\n      <td>2013</td>\n      <td>Total</td>\n      <td>Both Sexes</td>\n      <td>MARIEHAMN</td>\n      <td>City proper</td>\n      <td>Estimate - de jure</td>\n      <td>Final figure, complete</td>\n      <td>2014</td>\n      <td>1.137000e+04</td>\n      <td>NaN</td>\n    </tr>\n    <tr>\n      <th>1</th>\n      <td>2013</td>\n      <td>Total</td>\n      <td>Male</td>\n      <td>MARIEHAMN</td>\n      <td>City proper</td>\n      <td>Estimate - de jure</td>\n      <td>Final figure, complete</td>\n      <td>2014</td>\n      <td>5.445000e+03</td>\n      <td>NaN</td>\n    </tr>\n    <tr>\n      <th>2</th>\n      <td>2013</td>\n      <td>Total</td>\n      <td>Female</td>\n      <td>MARIEHAMN</td>\n      <td>City proper</td>\n      <td>Estimate - de jure</td>\n      <td>Final figure, complete</td>\n      <td>2014</td>\n      <td>5.925000e+03</td>\n      <td>NaN</td>\n    </tr>\n    <tr>\n      <th>3</th>\n      <td>2012</td>\n      <td>Total</td>\n      <td>Both Sexes</td>\n      <td>MARIEHAMN</td>\n      <td>City proper</td>\n      <td>Estimate - de jure</td>\n      <td>Final figure, complete</td>\n      <td>2013</td>\n      <td>1.130450e+04</td>\n      <td>NaN</td>\n    </tr>\n    <tr>\n      <th>4</th>\n      <td>2012</td>\n      <td>Total</td>\n      <td>Male</td>\n      <td>MARIEHAMN</td>\n      <td>City proper</td>\n      <td>Estimate - de jure</td>\n      <td>Final figure, complete</td>\n      <td>2013</td>\n      <td>5.408000e+03</td>\n      <td>NaN</td>\n    </tr>\n    <tr>\n      <th>5</th>\n      <td>2012</td>\n      <td>Total</td>\n      <td>Female</td>\n      <td>MARIEHAMN</td>\n      <td>City proper</td>\n      <td>Estimate - de jure</td>\n      <td>Final figure, complete</td>\n      <td>2013</td>\n      <td>5.896500e+03</td>\n      <td>NaN</td>\n    </tr>\n    <tr>\n      <th>6</th>\n      <td>2013</td>\n      <td>Total</td>\n      <td>Both Sexes</td>\n      <td>Bah�_a Blanca-Cerri</td>\n      <td>Urban agglomeration</td>\n      <td>Estimate - de facto</td>\n      <td>Final figure, complete</td>\n      <td>2013</td>\n      <td>3.173257e+05</td>\n      <td>1</td>\n    </tr>\n    <tr>\n      <th>7</th>\n      <td>2013</td>\n      <td>Total</td>\n      <td>Both Sexes</td>\n      <td>BUENOS AIRES</td>\n      <td>Urban agglomeration</td>\n      <td>Estimate - de facto</td>\n      <td>Final figure, complete</td>\n      <td>2013</td>\n      <td>1.333900e+07</td>\n      <td>1,2</td>\n    </tr>\n    <tr>\n      <th>8</th>\n      <td>2013</td>\n      <td>Total</td>\n      <td>Both Sexes</td>\n      <td>Catamarca</td>\n      <td>Urban agglomeration</td>\n      <td>Estimate - de facto</td>\n      <td>Final figure, complete</td>\n      <td>2013</td>\n      <td>2.157954e+05</td>\n      <td>1</td>\n    </tr>\n    <tr>\n      <th>9</th>\n      <td>2013</td>\n      <td>Total</td>\n      <td>Both Sexes</td>\n      <td>Comodoro Rivadavia-Rada Tilly</td>\n      <td>Urban agglomeration</td>\n      <td>Estimate - de facto</td>\n      <td>Final figure, complete</td>\n      <td>2013</td>\n      <td>1.465574e+05</td>\n      <td>1</td>\n    </tr>\n    <tr>\n      <th>10</th>\n      <td>2013</td>\n      <td>Total</td>\n      <td>Both Sexes</td>\n      <td>Concordia</td>\n      <td>Urban agglomeration</td>\n      <td>Estimate - de facto</td>\n      <td>Final figure, complete</td>\n      <td>2013</td>\n      <td>1.577057e+05</td>\n      <td>1</td>\n    </tr>\n    <tr>\n      <th>11</th>\n      <td>2013</td>\n      <td>Total</td>\n      <td>Both Sexes</td>\n      <td>C�_rdoba</td>\n      <td>Urban agglomeration</td>\n      <td>Estimate - de facto</td>\n      <td>Final figure, complete</td>\n      <td>2013</td>\n      <td>1.442001e+06</td>\n      <td>1</td>\n    </tr>\n    <tr>\n      <th>12</th>\n      <td>2013</td>\n      <td>Total</td>\n      <td>Both Sexes</td>\n      <td>Corrientes</td>\n      <td>Urban agglomeration</td>\n      <td>Estimate - de facto</td>\n      <td>Final figure, complete</td>\n      <td>2013</td>\n      <td>3.739813e+05</td>\n      <td>1</td>\n    </tr>\n    <tr>\n      <th>13</th>\n      <td>2013</td>\n      <td>Total</td>\n      <td>Both Sexes</td>\n      <td>Formosa</td>\n      <td>Urban agglomeration</td>\n      <td>Estimate - de facto</td>\n      <td>Final figure, complete</td>\n      <td>2013</td>\n      <td>2.535081e+05</td>\n      <td>1</td>\n    </tr>\n    <tr>\n      <th>14</th>\n      <td>2013</td>\n      <td>Total</td>\n      <td>Both Sexes</td>\n      <td>La Plata</td>\n      <td>Urban agglomeration</td>\n      <td>Estimate - de facto</td>\n      <td>Final figure, complete</td>\n      <td>2013</td>\n      <td>7.644689e+05</td>\n      <td>1</td>\n    </tr>\n    <tr>\n      <th>15</th>\n      <td>2013</td>\n      <td>Total</td>\n      <td>Both Sexes</td>\n      <td>La Rioja</td>\n      <td>Urban agglomeration</td>\n      <td>Estimate - de facto</td>\n      <td>Final figure, complete</td>\n      <td>2013</td>\n      <td>1.937636e+05</td>\n      <td>1</td>\n    </tr>\n    <tr>\n      <th>16</th>\n      <td>2013</td>\n      <td>Total</td>\n      <td>Both Sexes</td>\n      <td>San Luis - El Chorrillo</td>\n      <td>Urban agglomeration</td>\n      <td>Estimate - de facto</td>\n      <td>Final figure, complete</td>\n      <td>2013</td>\n      <td>2.166095e+05</td>\n      <td>1</td>\n    </tr>\n    <tr>\n      <th>17</th>\n      <td>2013</td>\n      <td>Total</td>\n      <td>Both Sexes</td>\n      <td>Mar del Plata-Bat��n</td>\n      <td>Urban agglomeration</td>\n      <td>Estimate - de facto</td>\n      <td>Final figure, complete</td>\n      <td>2013</td>\n      <td>6.339056e+05</td>\n      <td>1</td>\n    </tr>\n    <tr>\n      <th>18</th>\n      <td>2013</td>\n      <td>Total</td>\n      <td>Both Sexes</td>\n      <td>Mendoza</td>\n      <td>Urban agglomeration</td>\n      <td>Estimate - de facto</td>\n      <td>Final figure, complete</td>\n      <td>2013</td>\n      <td>9.232033e+05</td>\n      <td>1</td>\n    </tr>\n    <tr>\n      <th>19</th>\n      <td>2013</td>\n      <td>Total</td>\n      <td>Both Sexes</td>\n      <td>Neuqu̩n-Plottier</td>\n      <td>Urban agglomeration</td>\n      <td>Estimate - de facto</td>\n      <td>Final figure, complete</td>\n      <td>2013</td>\n      <td>2.776097e+05</td>\n      <td>1</td>\n    </tr>\n    <tr>\n      <th>20</th>\n      <td>2013</td>\n      <td>Total</td>\n      <td>Both Sexes</td>\n      <td>Paran��</td>\n      <td>Urban agglomeration</td>\n      <td>Estimate - de facto</td>\n      <td>Final figure, complete</td>\n      <td>2013</td>\n      <td>2.866595e+05</td>\n      <td>1</td>\n    </tr>\n    <tr>\n      <th>21</th>\n      <td>2013</td>\n      <td>Total</td>\n      <td>Both Sexes</td>\n      <td>Posadas</td>\n      <td>Urban agglomeration</td>\n      <td>Estimate - de facto</td>\n      <td>Final figure, complete</td>\n      <td>2013</td>\n      <td>3.121629e+05</td>\n      <td>1</td>\n    </tr>\n    <tr>\n      <th>22</th>\n      <td>2013</td>\n      <td>Total</td>\n      <td>Both Sexes</td>\n      <td>Resistencia</td>\n      <td>Urban agglomeration</td>\n      <td>Estimate - de facto</td>\n      <td>Final figure, complete</td>\n      <td>2013</td>\n      <td>4.062845e+05</td>\n      <td>1</td>\n    </tr>\n    <tr>\n      <th>23</th>\n      <td>2013</td>\n      <td>Total</td>\n      <td>Both Sexes</td>\n      <td>R�_o Cuarto</td>\n      <td>Urban agglomeration</td>\n      <td>Estimate - de facto</td>\n      <td>Final figure, complete</td>\n      <td>2013</td>\n      <td>1.684005e+05</td>\n      <td>1</td>\n    </tr>\n    <tr>\n      <th>24</th>\n      <td>2013</td>\n      <td>Total</td>\n      <td>Both Sexes</td>\n      <td>Rosario</td>\n      <td>Urban agglomeration</td>\n      <td>Estimate - de facto</td>\n      <td>Final figure, complete</td>\n      <td>2013</td>\n      <td>1.284951e+06</td>\n      <td>1</td>\n    </tr>\n    <tr>\n      <th>25</th>\n      <td>2013</td>\n      <td>Total</td>\n      <td>Both Sexes</td>\n      <td>Salta</td>\n      <td>Urban agglomeration</td>\n      <td>Estimate - de facto</td>\n      <td>Final figure, complete</td>\n      <td>2013</td>\n      <td>5.628072e+05</td>\n      <td>1</td>\n    </tr>\n    <tr>\n      <th>26</th>\n      <td>2013</td>\n      <td>Total</td>\n      <td>Both Sexes</td>\n      <td>San Juan</td>\n      <td>Urban agglomeration</td>\n      <td>Estimate - de facto</td>\n      <td>Final figure, complete</td>\n      <td>2013</td>\n      <td>4.863132e+05</td>\n      <td>1</td>\n    </tr>\n    <tr>\n      <th>27</th>\n      <td>2013</td>\n      <td>Total</td>\n      <td>Both Sexes</td>\n      <td>San Salvador de Jujuy-Palpal��</td>\n      <td>Urban agglomeration</td>\n      <td>Estimate - de facto</td>\n      <td>Final figure, complete</td>\n      <td>2013</td>\n      <td>3.228729e+05</td>\n      <td>1</td>\n    </tr>\n    <tr>\n      <th>28</th>\n      <td>2013</td>\n      <td>Total</td>\n      <td>Both Sexes</td>\n      <td>Santa F̩</td>\n      <td>Urban agglomeration</td>\n      <td>Estimate - de facto</td>\n      <td>Final figure, complete</td>\n      <td>2013</td>\n      <td>5.212330e+05</td>\n      <td>1</td>\n    </tr>\n    <tr>\n      <th>29</th>\n      <td>2013</td>\n      <td>Total</td>\n      <td>Both Sexes</td>\n      <td>Santa Rosa-Toay</td>\n      <td>Urban agglomeration</td>\n      <td>Estimate - de facto</td>\n      <td>Final figure, complete</td>\n      <td>2013</td>\n      <td>1.273986e+05</td>\n      <td>1</td>\n    </tr>\n    <tr>\n      <th>...</th>\n      <td>...</td>\n      <td>...</td>\n      <td>...</td>\n      <td>...</td>\n      <td>...</td>\n      <td>...</td>\n      <td>...</td>\n      <td>...</td>\n      <td>...</td>\n      <td>...</td>\n    </tr>\n    <tr>\n      <th>3766</th>\n      <td>2012</td>\n      <td>Total</td>\n      <td>Both Sexes</td>\n      <td>Waco (TX)</td>\n      <td>City proper</td>\n      <td>Estimate - de jure</td>\n      <td>Final figure, complete</td>\n      <td>2014</td>\n      <td>1.270180e+05</td>\n      <td>40,41</td>\n    </tr>\n    <tr>\n      <th>3767</th>\n      <td>2012</td>\n      <td>Total</td>\n      <td>Both Sexes</td>\n      <td>Warren (MI)</td>\n      <td>City proper</td>\n      <td>Estimate - de jure</td>\n      <td>Final figure, complete</td>\n      <td>2014</td>\n      <td>1.341410e+05</td>\n      <td>40,41</td>\n    </tr>\n    <tr>\n      <th>3768</th>\n      <td>2012</td>\n      <td>Total</td>\n      <td>Both Sexes</td>\n      <td>WASHINGTON (DC)</td>\n      <td>City proper</td>\n      <td>Estimate - de jure</td>\n      <td>Final figure, complete</td>\n      <td>2014</td>\n      <td>6.323230e+05</td>\n      <td>40,41</td>\n    </tr>\n    <tr>\n      <th>3769</th>\n      <td>2012</td>\n      <td>Total</td>\n      <td>Both Sexes</td>\n      <td>Waterbury (CT)</td>\n      <td>City proper</td>\n      <td>Estimate - de jure</td>\n      <td>Final figure, complete</td>\n      <td>2014</td>\n      <td>1.099150e+05</td>\n      <td>40,41</td>\n    </tr>\n    <tr>\n      <th>3770</th>\n      <td>2012</td>\n      <td>Total</td>\n      <td>Both Sexes</td>\n      <td>West Covina (CA)</td>\n      <td>City proper</td>\n      <td>Estimate - de jure</td>\n      <td>Final figure, complete</td>\n      <td>2014</td>\n      <td>1.074400e+05</td>\n      <td>40,41</td>\n    </tr>\n    <tr>\n      <th>3771</th>\n      <td>2012</td>\n      <td>Total</td>\n      <td>Both Sexes</td>\n      <td>West Jordan (UT)</td>\n      <td>City proper</td>\n      <td>Estimate - de jure</td>\n      <td>Final figure, complete</td>\n      <td>2014</td>\n      <td>1.083830e+05</td>\n      <td>40,41</td>\n    </tr>\n    <tr>\n      <th>3772</th>\n      <td>2012</td>\n      <td>Total</td>\n      <td>Both Sexes</td>\n      <td>West Palm Beach (FL)</td>\n      <td>City proper</td>\n      <td>Estimate - de jure</td>\n      <td>Final figure, complete</td>\n      <td>2014</td>\n      <td>1.019030e+05</td>\n      <td>40,41</td>\n    </tr>\n    <tr>\n      <th>3773</th>\n      <td>2012</td>\n      <td>Total</td>\n      <td>Both Sexes</td>\n      <td>West Valley City (UT)</td>\n      <td>City proper</td>\n      <td>Estimate - de jure</td>\n      <td>Final figure, complete</td>\n      <td>2014</td>\n      <td>1.324340e+05</td>\n      <td>40,41</td>\n    </tr>\n    <tr>\n      <th>3774</th>\n      <td>2012</td>\n      <td>Total</td>\n      <td>Both Sexes</td>\n      <td>Westminster (CO)</td>\n      <td>City proper</td>\n      <td>Estimate - de jure</td>\n      <td>Final figure, complete</td>\n      <td>2014</td>\n      <td>1.091690e+05</td>\n      <td>40,41</td>\n    </tr>\n    <tr>\n      <th>3775</th>\n      <td>2012</td>\n      <td>Total</td>\n      <td>Both Sexes</td>\n      <td>Wichita (KS)</td>\n      <td>City proper</td>\n      <td>Estimate - de jure</td>\n      <td>Final figure, complete</td>\n      <td>2014</td>\n      <td>3.855770e+05</td>\n      <td>40,41</td>\n    </tr>\n    <tr>\n      <th>3776</th>\n      <td>2012</td>\n      <td>Total</td>\n      <td>Both Sexes</td>\n      <td>Wichita Falls (TX)</td>\n      <td>City proper</td>\n      <td>Estimate - de jure</td>\n      <td>Final figure, complete</td>\n      <td>2014</td>\n      <td>1.045520e+05</td>\n      <td>40,41</td>\n    </tr>\n    <tr>\n      <th>3777</th>\n      <td>2012</td>\n      <td>Total</td>\n      <td>Both Sexes</td>\n      <td>Wilmington (NC)</td>\n      <td>City proper</td>\n      <td>Estimate - de jure</td>\n      <td>Final figure, complete</td>\n      <td>2014</td>\n      <td>1.099220e+05</td>\n      <td>40,41</td>\n    </tr>\n    <tr>\n      <th>3778</th>\n      <td>2012</td>\n      <td>Total</td>\n      <td>Both Sexes</td>\n      <td>Winston-Salem (NC)</td>\n      <td>City proper</td>\n      <td>Estimate - de jure</td>\n      <td>Final figure, complete</td>\n      <td>2014</td>\n      <td>2.343490e+05</td>\n      <td>40,41</td>\n    </tr>\n    <tr>\n      <th>3779</th>\n      <td>2012</td>\n      <td>Total</td>\n      <td>Both Sexes</td>\n      <td>Worcester (MA)</td>\n      <td>City proper</td>\n      <td>Estimate - de jure</td>\n      <td>Final figure, complete</td>\n      <td>2014</td>\n      <td>1.826690e+05</td>\n      <td>40,41</td>\n    </tr>\n    <tr>\n      <th>3780</th>\n      <td>2012</td>\n      <td>Total</td>\n      <td>Both Sexes</td>\n      <td>Yonkers (NY)</td>\n      <td>City proper</td>\n      <td>Estimate - de jure</td>\n      <td>Final figure, complete</td>\n      <td>2014</td>\n      <td>1.984490e+05</td>\n      <td>40,41</td>\n    </tr>\n    <tr>\n      <th>3781</th>\n      <td>2012</td>\n      <td>Total</td>\n      <td>Both Sexes</td>\n      <td>Bulawayo</td>\n      <td>City proper</td>\n      <td>Census - de facto - complete tabulation</td>\n      <td>Final figure, complete</td>\n      <td>2014</td>\n      <td>6.533370e+05</td>\n      <td>NaN</td>\n    </tr>\n    <tr>\n      <th>3782</th>\n      <td>2012</td>\n      <td>Total</td>\n      <td>Both Sexes</td>\n      <td>Chitungwiza</td>\n      <td>City proper</td>\n      <td>Census - de facto - complete tabulation</td>\n      <td>Final figure, complete</td>\n      <td>2014</td>\n      <td>3.568400e+05</td>\n      <td>NaN</td>\n    </tr>\n    <tr>\n      <th>3783</th>\n      <td>2012</td>\n      <td>Total</td>\n      <td>Both Sexes</td>\n      <td>Gweru</td>\n      <td>City proper</td>\n      <td>Census - de facto - complete tabulation</td>\n      <td>Final figure, complete</td>\n      <td>2014</td>\n      <td>9.180600e+04</td>\n      <td>NaN</td>\n    </tr>\n    <tr>\n      <th>3784</th>\n      <td>2012</td>\n      <td>Total</td>\n      <td>Both Sexes</td>\n      <td>HARARE</td>\n      <td>City proper</td>\n      <td>Census - de facto - complete tabulation</td>\n      <td>Final figure, complete</td>\n      <td>2014</td>\n      <td>1.485231e+06</td>\n      <td>NaN</td>\n    </tr>\n    <tr>\n      <th>3785</th>\n      <td>2012</td>\n      <td>Total</td>\n      <td>Both Sexes</td>\n      <td>Mutare</td>\n      <td>City proper</td>\n      <td>Census - de facto - complete tabulation</td>\n      <td>Final figure, complete</td>\n      <td>2014</td>\n      <td>2.621240e+05</td>\n      <td>NaN</td>\n    </tr>\n    <tr>\n      <th>3786</th>\n      <td>2012</td>\n      <td>Total</td>\n      <td>Male</td>\n      <td>Bulawayo</td>\n      <td>City proper</td>\n      <td>Census - de facto - complete tabulation</td>\n      <td>Final figure, complete</td>\n      <td>2014</td>\n      <td>3.033460e+05</td>\n      <td>NaN</td>\n    </tr>\n    <tr>\n      <th>3787</th>\n      <td>2012</td>\n      <td>Total</td>\n      <td>Male</td>\n      <td>Chitungwiza</td>\n      <td>City proper</td>\n      <td>Census - de facto - complete tabulation</td>\n      <td>Final figure, complete</td>\n      <td>2014</td>\n      <td>1.686000e+05</td>\n      <td>NaN</td>\n    </tr>\n    <tr>\n      <th>3788</th>\n      <td>2012</td>\n      <td>Total</td>\n      <td>Male</td>\n      <td>Gweru</td>\n      <td>City proper</td>\n      <td>Census - de facto - complete tabulation</td>\n      <td>Final figure, complete</td>\n      <td>2014</td>\n      <td>4.523900e+04</td>\n      <td>NaN</td>\n    </tr>\n    <tr>\n      <th>3789</th>\n      <td>2012</td>\n      <td>Total</td>\n      <td>Male</td>\n      <td>HARARE</td>\n      <td>City proper</td>\n      <td>Census - de facto - complete tabulation</td>\n      <td>Final figure, complete</td>\n      <td>2014</td>\n      <td>7.165950e+05</td>\n      <td>NaN</td>\n    </tr>\n    <tr>\n      <th>3790</th>\n      <td>2012</td>\n      <td>Total</td>\n      <td>Male</td>\n      <td>Mutare</td>\n      <td>City proper</td>\n      <td>Census - de facto - complete tabulation</td>\n      <td>Final figure, complete</td>\n      <td>2014</td>\n      <td>1.258500e+05</td>\n      <td>NaN</td>\n    </tr>\n    <tr>\n      <th>3791</th>\n      <td>2012</td>\n      <td>Total</td>\n      <td>Female</td>\n      <td>Bulawayo</td>\n      <td>City proper</td>\n      <td>Census - de facto - complete tabulation</td>\n      <td>Final figure, complete</td>\n      <td>2014</td>\n      <td>3.499910e+05</td>\n      <td>NaN</td>\n    </tr>\n    <tr>\n      <th>3792</th>\n      <td>2012</td>\n      <td>Total</td>\n      <td>Female</td>\n      <td>Chitungwiza</td>\n      <td>City proper</td>\n      <td>Census - de facto - complete tabulation</td>\n      <td>Final figure, complete</td>\n      <td>2014</td>\n      <td>1.882400e+05</td>\n      <td>NaN</td>\n    </tr>\n    <tr>\n      <th>3793</th>\n      <td>2012</td>\n      <td>Total</td>\n      <td>Female</td>\n      <td>Gweru</td>\n      <td>City proper</td>\n      <td>Census - de facto - complete tabulation</td>\n      <td>Final figure, complete</td>\n      <td>2014</td>\n      <td>4.656700e+04</td>\n      <td>NaN</td>\n    </tr>\n    <tr>\n      <th>3794</th>\n      <td>2012</td>\n      <td>Total</td>\n      <td>Female</td>\n      <td>HARARE</td>\n      <td>City proper</td>\n      <td>Census - de facto - complete tabulation</td>\n      <td>Final figure, complete</td>\n      <td>2014</td>\n      <td>7.686360e+05</td>\n      <td>NaN</td>\n    </tr>\n    <tr>\n      <th>3795</th>\n      <td>2012</td>\n      <td>Total</td>\n      <td>Female</td>\n      <td>Mutare</td>\n      <td>City proper</td>\n      <td>Census - de facto - complete tabulation</td>\n      <td>Final figure, complete</td>\n      <td>2014</td>\n      <td>1.362740e+05</td>\n      <td>NaN</td>\n    </tr>\n  </tbody>\n</table>\n<p>3796 rows × 10 columns</p>\n</div>"
          },
          "metadata": {}
        }
      ]
    },
    {
      "metadata": {},
      "cell_type": "markdown",
      "source": "## Exercise\n\nThere is a another datafile we downloaded called *UN_Cities_1214_country.csv*. This is saved to *./data/wk3/UN_Cities_1214_country.csv* - Load this into a dataframe called *city_c* with the city name as the index and view it; then, using *merge* on city name with city_pop to create a new dataframe called *cities*.\n\n**Hints:**\nYou'll notice that the index **won't** be the column you want to merge on in the city_pop data. What column *should* you merge on in city_pop? Which column should you merge on in city_c?\n\nThe syntax for merging on a **column** (which is not the index) is to pass the column name to the optional 'left_on=' or 'right_on=' arguments. And we don't use right_index=True (or left_index=True), depending on which we're using.\n\nSo for example: **df1.merge(df2, left_on='Name', right_index=True)** would join df1 (on the left) to df2 (on the right), using the column 'Name' on the left (df1) and the index column (whatever that is) on the right (df2)."
    },
    {
      "metadata": {
        "trusted": true
      },
      "cell_type": "code",
      "source": "data_so = './data/wk3/UN_Cities_1214_country.csv'\ncity_c = pd.read_csv(data_so)\ncity_c",
      "execution_count": 104,
      "outputs": [
        {
          "output_type": "execute_result",
          "execution_count": 104,
          "data": {
            "text/plain": "               Country or Area                              City\n0                �land Islands                         MARIEHAMN\n1                    Argentina               Bah�_a Blanca-Cerri\n2                    Argentina                      BUENOS AIRES\n3                    Argentina                         Catamarca\n4                    Argentina     Comodoro Rivadavia-Rada Tilly\n5                    Argentina                         Concordia\n6                    Argentina                          C�_rdoba\n7                    Argentina                        Corrientes\n8                    Argentina                           Formosa\n9                    Argentina                          La Plata\n10                   Argentina                          La Rioja\n11                   Argentina           San Luis - El Chorrillo\n12                   Argentina              Mar del Plata-Bat��n\n13                   Argentina                           Mendoza\n14                   Argentina                  Neuqu�n-Plottier\n15                   Argentina                           Paran��\n16                   Argentina                           Posadas\n17                   Argentina        Rawson-Trelew-Playa Uni�_n\n18                   Argentina                       Resistencia\n19                   Argentina                       R�_o Cuarto\n20                   Argentina                           Rosario\n21                   Argentina                             Salta\n22                   Argentina                          San Juan\n23                   Argentina  San Nicol��s-Villa Constituci�_n\n24                   Argentina    San Salvador de Jujuy-Palpal��\n25                   Argentina                          Santa F�\n26                   Argentina                   Santa Rosa-Toay\n27                   Argentina      Santiago del Estero-La Banda\n28                   Argentina              Tucum��n-Taf�_ Viejo\n29                   Argentina               Ushuaia-R�_o Grande\n...                        ...                               ...\n1200  United States of America                       Toledo (OH)\n1201  United States of America                       Topeka (KS)\n1202  United States of America                     Torrance (CA)\n1203  United States of America                       Tucson (AZ)\n1204  United States of America                        Tulsa (OK)\n1205  United States of America                      Vallejo (CA)\n1206  United States of America                    Vancouver (WA)\n1207  United States of America             Victorville City (CA)\n1208  United States of America               Virginia Beach (VA)\n1209  United States of America                      Visalia (CA)\n1210  United States of America                         Waco (TX)\n1211  United States of America                       Warren (MI)\n1212  United States of America                   WASHINGTON (DC)\n1213  United States of America                    Waterbury (CT)\n1214  United States of America                  West Covina (CA)\n1215  United States of America                  West Jordan (UT)\n1216  United States of America              West Palm Beach (FL)\n1217  United States of America             West Valley City (UT)\n1218  United States of America                  Westminster (CO)\n1219  United States of America                      Wichita (KS)\n1220  United States of America                Wichita Falls (TX)\n1221  United States of America                   Wilmington (NC)\n1222  United States of America                Winston-Salem (NC)\n1223  United States of America                    Worcester (MA)\n1224  United States of America                      Yonkers (NY)\n1225                  Zimbabwe                          Bulawayo\n1226                  Zimbabwe                       Chitungwiza\n1227                  Zimbabwe                             Gweru\n1228                  Zimbabwe                            HARARE\n1229                  Zimbabwe                            Mutare\n\n[1230 rows x 2 columns]",
            "text/html": "<div>\n<style scoped>\n    .dataframe tbody tr th:only-of-type {\n        vertical-align: middle;\n    }\n\n    .dataframe tbody tr th {\n        vertical-align: top;\n    }\n\n    .dataframe thead th {\n        text-align: right;\n    }\n</style>\n<table border=\"1\" class=\"dataframe\">\n  <thead>\n    <tr style=\"text-align: right;\">\n      <th></th>\n      <th>Country or Area</th>\n      <th>City</th>\n    </tr>\n  </thead>\n  <tbody>\n    <tr>\n      <th>0</th>\n      <td>�land Islands</td>\n      <td>MARIEHAMN</td>\n    </tr>\n    <tr>\n      <th>1</th>\n      <td>Argentina</td>\n      <td>Bah�_a Blanca-Cerri</td>\n    </tr>\n    <tr>\n      <th>2</th>\n      <td>Argentina</td>\n      <td>BUENOS AIRES</td>\n    </tr>\n    <tr>\n      <th>3</th>\n      <td>Argentina</td>\n      <td>Catamarca</td>\n    </tr>\n    <tr>\n      <th>4</th>\n      <td>Argentina</td>\n      <td>Comodoro Rivadavia-Rada Tilly</td>\n    </tr>\n    <tr>\n      <th>5</th>\n      <td>Argentina</td>\n      <td>Concordia</td>\n    </tr>\n    <tr>\n      <th>6</th>\n      <td>Argentina</td>\n      <td>C�_rdoba</td>\n    </tr>\n    <tr>\n      <th>7</th>\n      <td>Argentina</td>\n      <td>Corrientes</td>\n    </tr>\n    <tr>\n      <th>8</th>\n      <td>Argentina</td>\n      <td>Formosa</td>\n    </tr>\n    <tr>\n      <th>9</th>\n      <td>Argentina</td>\n      <td>La Plata</td>\n    </tr>\n    <tr>\n      <th>10</th>\n      <td>Argentina</td>\n      <td>La Rioja</td>\n    </tr>\n    <tr>\n      <th>11</th>\n      <td>Argentina</td>\n      <td>San Luis - El Chorrillo</td>\n    </tr>\n    <tr>\n      <th>12</th>\n      <td>Argentina</td>\n      <td>Mar del Plata-Bat��n</td>\n    </tr>\n    <tr>\n      <th>13</th>\n      <td>Argentina</td>\n      <td>Mendoza</td>\n    </tr>\n    <tr>\n      <th>14</th>\n      <td>Argentina</td>\n      <td>Neuqu�n-Plottier</td>\n    </tr>\n    <tr>\n      <th>15</th>\n      <td>Argentina</td>\n      <td>Paran��</td>\n    </tr>\n    <tr>\n      <th>16</th>\n      <td>Argentina</td>\n      <td>Posadas</td>\n    </tr>\n    <tr>\n      <th>17</th>\n      <td>Argentina</td>\n      <td>Rawson-Trelew-Playa Uni�_n</td>\n    </tr>\n    <tr>\n      <th>18</th>\n      <td>Argentina</td>\n      <td>Resistencia</td>\n    </tr>\n    <tr>\n      <th>19</th>\n      <td>Argentina</td>\n      <td>R�_o Cuarto</td>\n    </tr>\n    <tr>\n      <th>20</th>\n      <td>Argentina</td>\n      <td>Rosario</td>\n    </tr>\n    <tr>\n      <th>21</th>\n      <td>Argentina</td>\n      <td>Salta</td>\n    </tr>\n    <tr>\n      <th>22</th>\n      <td>Argentina</td>\n      <td>San Juan</td>\n    </tr>\n    <tr>\n      <th>23</th>\n      <td>Argentina</td>\n      <td>San Nicol��s-Villa Constituci�_n</td>\n    </tr>\n    <tr>\n      <th>24</th>\n      <td>Argentina</td>\n      <td>San Salvador de Jujuy-Palpal��</td>\n    </tr>\n    <tr>\n      <th>25</th>\n      <td>Argentina</td>\n      <td>Santa F�</td>\n    </tr>\n    <tr>\n      <th>26</th>\n      <td>Argentina</td>\n      <td>Santa Rosa-Toay</td>\n    </tr>\n    <tr>\n      <th>27</th>\n      <td>Argentina</td>\n      <td>Santiago del Estero-La Banda</td>\n    </tr>\n    <tr>\n      <th>28</th>\n      <td>Argentina</td>\n      <td>Tucum��n-Taf�_ Viejo</td>\n    </tr>\n    <tr>\n      <th>29</th>\n      <td>Argentina</td>\n      <td>Ushuaia-R�_o Grande</td>\n    </tr>\n    <tr>\n      <th>...</th>\n      <td>...</td>\n      <td>...</td>\n    </tr>\n    <tr>\n      <th>1200</th>\n      <td>United States of America</td>\n      <td>Toledo (OH)</td>\n    </tr>\n    <tr>\n      <th>1201</th>\n      <td>United States of America</td>\n      <td>Topeka (KS)</td>\n    </tr>\n    <tr>\n      <th>1202</th>\n      <td>United States of America</td>\n      <td>Torrance (CA)</td>\n    </tr>\n    <tr>\n      <th>1203</th>\n      <td>United States of America</td>\n      <td>Tucson (AZ)</td>\n    </tr>\n    <tr>\n      <th>1204</th>\n      <td>United States of America</td>\n      <td>Tulsa (OK)</td>\n    </tr>\n    <tr>\n      <th>1205</th>\n      <td>United States of America</td>\n      <td>Vallejo (CA)</td>\n    </tr>\n    <tr>\n      <th>1206</th>\n      <td>United States of America</td>\n      <td>Vancouver (WA)</td>\n    </tr>\n    <tr>\n      <th>1207</th>\n      <td>United States of America</td>\n      <td>Victorville City (CA)</td>\n    </tr>\n    <tr>\n      <th>1208</th>\n      <td>United States of America</td>\n      <td>Virginia Beach (VA)</td>\n    </tr>\n    <tr>\n      <th>1209</th>\n      <td>United States of America</td>\n      <td>Visalia (CA)</td>\n    </tr>\n    <tr>\n      <th>1210</th>\n      <td>United States of America</td>\n      <td>Waco (TX)</td>\n    </tr>\n    <tr>\n      <th>1211</th>\n      <td>United States of America</td>\n      <td>Warren (MI)</td>\n    </tr>\n    <tr>\n      <th>1212</th>\n      <td>United States of America</td>\n      <td>WASHINGTON (DC)</td>\n    </tr>\n    <tr>\n      <th>1213</th>\n      <td>United States of America</td>\n      <td>Waterbury (CT)</td>\n    </tr>\n    <tr>\n      <th>1214</th>\n      <td>United States of America</td>\n      <td>West Covina (CA)</td>\n    </tr>\n    <tr>\n      <th>1215</th>\n      <td>United States of America</td>\n      <td>West Jordan (UT)</td>\n    </tr>\n    <tr>\n      <th>1216</th>\n      <td>United States of America</td>\n      <td>West Palm Beach (FL)</td>\n    </tr>\n    <tr>\n      <th>1217</th>\n      <td>United States of America</td>\n      <td>West Valley City (UT)</td>\n    </tr>\n    <tr>\n      <th>1218</th>\n      <td>United States of America</td>\n      <td>Westminster (CO)</td>\n    </tr>\n    <tr>\n      <th>1219</th>\n      <td>United States of America</td>\n      <td>Wichita (KS)</td>\n    </tr>\n    <tr>\n      <th>1220</th>\n      <td>United States of America</td>\n      <td>Wichita Falls (TX)</td>\n    </tr>\n    <tr>\n      <th>1221</th>\n      <td>United States of America</td>\n      <td>Wilmington (NC)</td>\n    </tr>\n    <tr>\n      <th>1222</th>\n      <td>United States of America</td>\n      <td>Winston-Salem (NC)</td>\n    </tr>\n    <tr>\n      <th>1223</th>\n      <td>United States of America</td>\n      <td>Worcester (MA)</td>\n    </tr>\n    <tr>\n      <th>1224</th>\n      <td>United States of America</td>\n      <td>Yonkers (NY)</td>\n    </tr>\n    <tr>\n      <th>1225</th>\n      <td>Zimbabwe</td>\n      <td>Bulawayo</td>\n    </tr>\n    <tr>\n      <th>1226</th>\n      <td>Zimbabwe</td>\n      <td>Chitungwiza</td>\n    </tr>\n    <tr>\n      <th>1227</th>\n      <td>Zimbabwe</td>\n      <td>Gweru</td>\n    </tr>\n    <tr>\n      <th>1228</th>\n      <td>Zimbabwe</td>\n      <td>HARARE</td>\n    </tr>\n    <tr>\n      <th>1229</th>\n      <td>Zimbabwe</td>\n      <td>Mutare</td>\n    </tr>\n  </tbody>\n</table>\n<p>1230 rows × 2 columns</p>\n</div>"
          },
          "metadata": {}
        }
      ]
    },
    {
      "metadata": {
        "trusted": true
      },
      "cell_type": "code",
      "source": "df_so = city_pop.merge(city_c, left_on='City', right_on='City')\ndf_so",
      "execution_count": 105,
      "outputs": [
        {
          "output_type": "execute_result",
          "execution_count": 105,
          "data": {
            "text/plain": "      Year   Area         Sex                           City  \\\n0     2013  Total  Both Sexes                      MARIEHAMN   \n1     2013  Total        Male                      MARIEHAMN   \n2     2013  Total      Female                      MARIEHAMN   \n3     2012  Total  Both Sexes                      MARIEHAMN   \n4     2012  Total        Male                      MARIEHAMN   \n5     2012  Total      Female                      MARIEHAMN   \n6     2013  Total  Both Sexes                   BUENOS AIRES   \n7     2012  Total  Both Sexes                   BUENOS AIRES   \n8     2013  Total  Both Sexes                      Catamarca   \n9     2012  Total  Both Sexes                      Catamarca   \n10    2013  Total  Both Sexes  Comodoro Rivadavia-Rada Tilly   \n11    2012  Total  Both Sexes  Comodoro Rivadavia-Rada Tilly   \n12    2013  Total  Both Sexes                      Concordia   \n13    2012  Total  Both Sexes                      Concordia   \n14    2013  Total  Both Sexes                     Corrientes   \n15    2012  Total  Both Sexes                     Corrientes   \n16    2013  Total  Both Sexes                        Formosa   \n17    2012  Total  Both Sexes                        Formosa   \n18    2013  Total  Both Sexes                       La Plata   \n19    2012  Total  Both Sexes                       La Plata   \n20    2013  Total  Both Sexes                       La Rioja   \n21    2012  Total  Both Sexes                       La Rioja   \n22    2013  Total  Both Sexes        San Luis - El Chorrillo   \n23    2012  Total  Both Sexes        San Luis - El Chorrillo   \n24    2013  Total  Both Sexes                        Mendoza   \n25    2012  Total  Both Sexes                        Mendoza   \n26    2013  Total  Both Sexes                        Posadas   \n27    2012  Total  Both Sexes                        Posadas   \n28    2013  Total  Both Sexes                    Resistencia   \n29    2012  Total  Both Sexes                    Resistencia   \n...    ...    ...         ...                            ...   \n4040  2012  Total  Both Sexes                      Waco (TX)   \n4041  2012  Total  Both Sexes                    Warren (MI)   \n4042  2012  Total  Both Sexes                WASHINGTON (DC)   \n4043  2012  Total  Both Sexes                 Waterbury (CT)   \n4044  2012  Total  Both Sexes               West Covina (CA)   \n4045  2012  Total  Both Sexes               West Jordan (UT)   \n4046  2012  Total  Both Sexes           West Palm Beach (FL)   \n4047  2012  Total  Both Sexes          West Valley City (UT)   \n4048  2012  Total  Both Sexes               Westminster (CO)   \n4049  2012  Total  Both Sexes                   Wichita (KS)   \n4050  2012  Total  Both Sexes             Wichita Falls (TX)   \n4051  2012  Total  Both Sexes                Wilmington (NC)   \n4052  2012  Total  Both Sexes             Winston-Salem (NC)   \n4053  2012  Total  Both Sexes                 Worcester (MA)   \n4054  2012  Total  Both Sexes                   Yonkers (NY)   \n4055  2012  Total  Both Sexes                       Bulawayo   \n4056  2012  Total        Male                       Bulawayo   \n4057  2012  Total      Female                       Bulawayo   \n4058  2012  Total  Both Sexes                    Chitungwiza   \n4059  2012  Total        Male                    Chitungwiza   \n4060  2012  Total      Female                    Chitungwiza   \n4061  2012  Total  Both Sexes                          Gweru   \n4062  2012  Total        Male                          Gweru   \n4063  2012  Total      Female                          Gweru   \n4064  2012  Total  Both Sexes                         HARARE   \n4065  2012  Total        Male                         HARARE   \n4066  2012  Total      Female                         HARARE   \n4067  2012  Total  Both Sexes                         Mutare   \n4068  2012  Total        Male                         Mutare   \n4069  2012  Total      Female                         Mutare   \n\n                City type                              Record Type  \\\n0             City proper                       Estimate - de jure   \n1             City proper                       Estimate - de jure   \n2             City proper                       Estimate - de jure   \n3             City proper                       Estimate - de jure   \n4             City proper                       Estimate - de jure   \n5             City proper                       Estimate - de jure   \n6     Urban agglomeration                      Estimate - de facto   \n7     Urban agglomeration                      Estimate - de facto   \n8     Urban agglomeration                      Estimate - de facto   \n9     Urban agglomeration                      Estimate - de facto   \n10    Urban agglomeration                      Estimate - de facto   \n11    Urban agglomeration                      Estimate - de facto   \n12    Urban agglomeration                      Estimate - de facto   \n13    Urban agglomeration                      Estimate - de facto   \n14    Urban agglomeration                      Estimate - de facto   \n15    Urban agglomeration                      Estimate - de facto   \n16    Urban agglomeration                      Estimate - de facto   \n17    Urban agglomeration                      Estimate - de facto   \n18    Urban agglomeration                      Estimate - de facto   \n19    Urban agglomeration                      Estimate - de facto   \n20    Urban agglomeration                      Estimate - de facto   \n21    Urban agglomeration                      Estimate - de facto   \n22    Urban agglomeration                      Estimate - de facto   \n23    Urban agglomeration                      Estimate - de facto   \n24    Urban agglomeration                      Estimate - de facto   \n25    Urban agglomeration                      Estimate - de facto   \n26    Urban agglomeration                      Estimate - de facto   \n27    Urban agglomeration                      Estimate - de facto   \n28    Urban agglomeration                      Estimate - de facto   \n29    Urban agglomeration                      Estimate - de facto   \n...                   ...                                      ...   \n4040          City proper                       Estimate - de jure   \n4041          City proper                       Estimate - de jure   \n4042          City proper                       Estimate - de jure   \n4043          City proper                       Estimate - de jure   \n4044          City proper                       Estimate - de jure   \n4045          City proper                       Estimate - de jure   \n4046          City proper                       Estimate - de jure   \n4047          City proper                       Estimate - de jure   \n4048          City proper                       Estimate - de jure   \n4049          City proper                       Estimate - de jure   \n4050          City proper                       Estimate - de jure   \n4051          City proper                       Estimate - de jure   \n4052          City proper                       Estimate - de jure   \n4053          City proper                       Estimate - de jure   \n4054          City proper                       Estimate - de jure   \n4055          City proper  Census - de facto - complete tabulation   \n4056          City proper  Census - de facto - complete tabulation   \n4057          City proper  Census - de facto - complete tabulation   \n4058          City proper  Census - de facto - complete tabulation   \n4059          City proper  Census - de facto - complete tabulation   \n4060          City proper  Census - de facto - complete tabulation   \n4061          City proper  Census - de facto - complete tabulation   \n4062          City proper  Census - de facto - complete tabulation   \n4063          City proper  Census - de facto - complete tabulation   \n4064          City proper  Census - de facto - complete tabulation   \n4065          City proper  Census - de facto - complete tabulation   \n4066          City proper  Census - de facto - complete tabulation   \n4067          City proper  Census - de facto - complete tabulation   \n4068          City proper  Census - de facto - complete tabulation   \n4069          City proper  Census - de facto - complete tabulation   \n\n                 Reliability  Source Year         Value Value Footnotes  \\\n0     Final figure, complete         2014  1.137000e+04             NaN   \n1     Final figure, complete         2014  5.445000e+03             NaN   \n2     Final figure, complete         2014  5.925000e+03             NaN   \n3     Final figure, complete         2013  1.130450e+04             NaN   \n4     Final figure, complete         2013  5.408000e+03             NaN   \n5     Final figure, complete         2013  5.896500e+03             NaN   \n6     Final figure, complete         2013  1.333900e+07             1,2   \n7     Final figure, complete         2012  1.324238e+07             1,2   \n8     Final figure, complete         2013  2.157954e+05               1   \n9     Final figure, complete         2012  2.121740e+05               1   \n10    Final figure, complete         2013  1.465574e+05               1   \n11    Final figure, complete         2012  1.454750e+05               1   \n12    Final figure, complete         2013  1.577057e+05               1   \n13    Final figure, complete         2012  1.559050e+05               1   \n14    Final figure, complete         2013  3.739813e+05               1   \n15    Final figure, complete         2012  3.687780e+05               1   \n16    Final figure, complete         2013  2.535081e+05               1   \n17    Final figure, complete         2012  2.490620e+05               1   \n18    Final figure, complete         2013  7.644689e+05               1   \n19    Final figure, complete         2012  7.579800e+05               1   \n20    Final figure, complete         2013  1.937636e+05               1   \n21    Final figure, complete         2012  1.898450e+05               1   \n22    Final figure, complete         2013  2.166095e+05               1   \n23    Final figure, complete         2012  2.121540e+05               1   \n24    Final figure, complete         2013  9.232033e+05               1   \n25    Final figure, complete         2012  9.162200e+05               1   \n26    Final figure, complete         2013  3.121629e+05               1   \n27    Final figure, complete         2012  3.076190e+05               1   \n28    Final figure, complete         2013  4.062845e+05               1   \n29    Final figure, complete         2012  4.008690e+05               1   \n...                      ...          ...           ...             ...   \n4040  Final figure, complete         2014  1.270180e+05           40,41   \n4041  Final figure, complete         2014  1.341410e+05           40,41   \n4042  Final figure, complete         2014  6.323230e+05           40,41   \n4043  Final figure, complete         2014  1.099150e+05           40,41   \n4044  Final figure, complete         2014  1.074400e+05           40,41   \n4045  Final figure, complete         2014  1.083830e+05           40,41   \n4046  Final figure, complete         2014  1.019030e+05           40,41   \n4047  Final figure, complete         2014  1.324340e+05           40,41   \n4048  Final figure, complete         2014  1.091690e+05           40,41   \n4049  Final figure, complete         2014  3.855770e+05           40,41   \n4050  Final figure, complete         2014  1.045520e+05           40,41   \n4051  Final figure, complete         2014  1.099220e+05           40,41   \n4052  Final figure, complete         2014  2.343490e+05           40,41   \n4053  Final figure, complete         2014  1.826690e+05           40,41   \n4054  Final figure, complete         2014  1.984490e+05           40,41   \n4055  Final figure, complete         2014  6.533370e+05             NaN   \n4056  Final figure, complete         2014  3.033460e+05             NaN   \n4057  Final figure, complete         2014  3.499910e+05             NaN   \n4058  Final figure, complete         2014  3.568400e+05             NaN   \n4059  Final figure, complete         2014  1.686000e+05             NaN   \n4060  Final figure, complete         2014  1.882400e+05             NaN   \n4061  Final figure, complete         2014  9.180600e+04             NaN   \n4062  Final figure, complete         2014  4.523900e+04             NaN   \n4063  Final figure, complete         2014  4.656700e+04             NaN   \n4064  Final figure, complete         2014  1.485231e+06             NaN   \n4065  Final figure, complete         2014  7.165950e+05             NaN   \n4066  Final figure, complete         2014  7.686360e+05             NaN   \n4067  Final figure, complete         2014  2.621240e+05             NaN   \n4068  Final figure, complete         2014  1.258500e+05             NaN   \n4069  Final figure, complete         2014  1.362740e+05             NaN   \n\n               Country or Area  \n0                �land Islands  \n1                �land Islands  \n2                �land Islands  \n3                �land Islands  \n4                �land Islands  \n5                �land Islands  \n6                    Argentina  \n7                    Argentina  \n8                    Argentina  \n9                    Argentina  \n10                   Argentina  \n11                   Argentina  \n12                   Argentina  \n13                   Argentina  \n14                   Argentina  \n15                   Argentina  \n16                   Argentina  \n17                   Argentina  \n18                   Argentina  \n19                   Argentina  \n20                   Argentina  \n21                   Argentina  \n22                   Argentina  \n23                   Argentina  \n24                   Argentina  \n25                   Argentina  \n26                   Argentina  \n27                   Argentina  \n28                   Argentina  \n29                   Argentina  \n...                        ...  \n4040  United States of America  \n4041  United States of America  \n4042  United States of America  \n4043  United States of America  \n4044  United States of America  \n4045  United States of America  \n4046  United States of America  \n4047  United States of America  \n4048  United States of America  \n4049  United States of America  \n4050  United States of America  \n4051  United States of America  \n4052  United States of America  \n4053  United States of America  \n4054  United States of America  \n4055                  Zimbabwe  \n4056                  Zimbabwe  \n4057                  Zimbabwe  \n4058                  Zimbabwe  \n4059                  Zimbabwe  \n4060                  Zimbabwe  \n4061                  Zimbabwe  \n4062                  Zimbabwe  \n4063                  Zimbabwe  \n4064                  Zimbabwe  \n4065                  Zimbabwe  \n4066                  Zimbabwe  \n4067                  Zimbabwe  \n4068                  Zimbabwe  \n4069                  Zimbabwe  \n\n[4070 rows x 11 columns]",
            "text/html": "<div>\n<style scoped>\n    .dataframe tbody tr th:only-of-type {\n        vertical-align: middle;\n    }\n\n    .dataframe tbody tr th {\n        vertical-align: top;\n    }\n\n    .dataframe thead th {\n        text-align: right;\n    }\n</style>\n<table border=\"1\" class=\"dataframe\">\n  <thead>\n    <tr style=\"text-align: right;\">\n      <th></th>\n      <th>Year</th>\n      <th>Area</th>\n      <th>Sex</th>\n      <th>City</th>\n      <th>City type</th>\n      <th>Record Type</th>\n      <th>Reliability</th>\n      <th>Source Year</th>\n      <th>Value</th>\n      <th>Value Footnotes</th>\n      <th>Country or Area</th>\n    </tr>\n  </thead>\n  <tbody>\n    <tr>\n      <th>0</th>\n      <td>2013</td>\n      <td>Total</td>\n      <td>Both Sexes</td>\n      <td>MARIEHAMN</td>\n      <td>City proper</td>\n      <td>Estimate - de jure</td>\n      <td>Final figure, complete</td>\n      <td>2014</td>\n      <td>1.137000e+04</td>\n      <td>NaN</td>\n      <td>�land Islands</td>\n    </tr>\n    <tr>\n      <th>1</th>\n      <td>2013</td>\n      <td>Total</td>\n      <td>Male</td>\n      <td>MARIEHAMN</td>\n      <td>City proper</td>\n      <td>Estimate - de jure</td>\n      <td>Final figure, complete</td>\n      <td>2014</td>\n      <td>5.445000e+03</td>\n      <td>NaN</td>\n      <td>�land Islands</td>\n    </tr>\n    <tr>\n      <th>2</th>\n      <td>2013</td>\n      <td>Total</td>\n      <td>Female</td>\n      <td>MARIEHAMN</td>\n      <td>City proper</td>\n      <td>Estimate - de jure</td>\n      <td>Final figure, complete</td>\n      <td>2014</td>\n      <td>5.925000e+03</td>\n      <td>NaN</td>\n      <td>�land Islands</td>\n    </tr>\n    <tr>\n      <th>3</th>\n      <td>2012</td>\n      <td>Total</td>\n      <td>Both Sexes</td>\n      <td>MARIEHAMN</td>\n      <td>City proper</td>\n      <td>Estimate - de jure</td>\n      <td>Final figure, complete</td>\n      <td>2013</td>\n      <td>1.130450e+04</td>\n      <td>NaN</td>\n      <td>�land Islands</td>\n    </tr>\n    <tr>\n      <th>4</th>\n      <td>2012</td>\n      <td>Total</td>\n      <td>Male</td>\n      <td>MARIEHAMN</td>\n      <td>City proper</td>\n      <td>Estimate - de jure</td>\n      <td>Final figure, complete</td>\n      <td>2013</td>\n      <td>5.408000e+03</td>\n      <td>NaN</td>\n      <td>�land Islands</td>\n    </tr>\n    <tr>\n      <th>5</th>\n      <td>2012</td>\n      <td>Total</td>\n      <td>Female</td>\n      <td>MARIEHAMN</td>\n      <td>City proper</td>\n      <td>Estimate - de jure</td>\n      <td>Final figure, complete</td>\n      <td>2013</td>\n      <td>5.896500e+03</td>\n      <td>NaN</td>\n      <td>�land Islands</td>\n    </tr>\n    <tr>\n      <th>6</th>\n      <td>2013</td>\n      <td>Total</td>\n      <td>Both Sexes</td>\n      <td>BUENOS AIRES</td>\n      <td>Urban agglomeration</td>\n      <td>Estimate - de facto</td>\n      <td>Final figure, complete</td>\n      <td>2013</td>\n      <td>1.333900e+07</td>\n      <td>1,2</td>\n      <td>Argentina</td>\n    </tr>\n    <tr>\n      <th>7</th>\n      <td>2012</td>\n      <td>Total</td>\n      <td>Both Sexes</td>\n      <td>BUENOS AIRES</td>\n      <td>Urban agglomeration</td>\n      <td>Estimate - de facto</td>\n      <td>Final figure, complete</td>\n      <td>2012</td>\n      <td>1.324238e+07</td>\n      <td>1,2</td>\n      <td>Argentina</td>\n    </tr>\n    <tr>\n      <th>8</th>\n      <td>2013</td>\n      <td>Total</td>\n      <td>Both Sexes</td>\n      <td>Catamarca</td>\n      <td>Urban agglomeration</td>\n      <td>Estimate - de facto</td>\n      <td>Final figure, complete</td>\n      <td>2013</td>\n      <td>2.157954e+05</td>\n      <td>1</td>\n      <td>Argentina</td>\n    </tr>\n    <tr>\n      <th>9</th>\n      <td>2012</td>\n      <td>Total</td>\n      <td>Both Sexes</td>\n      <td>Catamarca</td>\n      <td>Urban agglomeration</td>\n      <td>Estimate - de facto</td>\n      <td>Final figure, complete</td>\n      <td>2012</td>\n      <td>2.121740e+05</td>\n      <td>1</td>\n      <td>Argentina</td>\n    </tr>\n    <tr>\n      <th>10</th>\n      <td>2013</td>\n      <td>Total</td>\n      <td>Both Sexes</td>\n      <td>Comodoro Rivadavia-Rada Tilly</td>\n      <td>Urban agglomeration</td>\n      <td>Estimate - de facto</td>\n      <td>Final figure, complete</td>\n      <td>2013</td>\n      <td>1.465574e+05</td>\n      <td>1</td>\n      <td>Argentina</td>\n    </tr>\n    <tr>\n      <th>11</th>\n      <td>2012</td>\n      <td>Total</td>\n      <td>Both Sexes</td>\n      <td>Comodoro Rivadavia-Rada Tilly</td>\n      <td>Urban agglomeration</td>\n      <td>Estimate - de facto</td>\n      <td>Final figure, complete</td>\n      <td>2012</td>\n      <td>1.454750e+05</td>\n      <td>1</td>\n      <td>Argentina</td>\n    </tr>\n    <tr>\n      <th>12</th>\n      <td>2013</td>\n      <td>Total</td>\n      <td>Both Sexes</td>\n      <td>Concordia</td>\n      <td>Urban agglomeration</td>\n      <td>Estimate - de facto</td>\n      <td>Final figure, complete</td>\n      <td>2013</td>\n      <td>1.577057e+05</td>\n      <td>1</td>\n      <td>Argentina</td>\n    </tr>\n    <tr>\n      <th>13</th>\n      <td>2012</td>\n      <td>Total</td>\n      <td>Both Sexes</td>\n      <td>Concordia</td>\n      <td>Urban agglomeration</td>\n      <td>Estimate - de facto</td>\n      <td>Final figure, complete</td>\n      <td>2012</td>\n      <td>1.559050e+05</td>\n      <td>1</td>\n      <td>Argentina</td>\n    </tr>\n    <tr>\n      <th>14</th>\n      <td>2013</td>\n      <td>Total</td>\n      <td>Both Sexes</td>\n      <td>Corrientes</td>\n      <td>Urban agglomeration</td>\n      <td>Estimate - de facto</td>\n      <td>Final figure, complete</td>\n      <td>2013</td>\n      <td>3.739813e+05</td>\n      <td>1</td>\n      <td>Argentina</td>\n    </tr>\n    <tr>\n      <th>15</th>\n      <td>2012</td>\n      <td>Total</td>\n      <td>Both Sexes</td>\n      <td>Corrientes</td>\n      <td>Urban agglomeration</td>\n      <td>Estimate - de facto</td>\n      <td>Final figure, complete</td>\n      <td>2012</td>\n      <td>3.687780e+05</td>\n      <td>1</td>\n      <td>Argentina</td>\n    </tr>\n    <tr>\n      <th>16</th>\n      <td>2013</td>\n      <td>Total</td>\n      <td>Both Sexes</td>\n      <td>Formosa</td>\n      <td>Urban agglomeration</td>\n      <td>Estimate - de facto</td>\n      <td>Final figure, complete</td>\n      <td>2013</td>\n      <td>2.535081e+05</td>\n      <td>1</td>\n      <td>Argentina</td>\n    </tr>\n    <tr>\n      <th>17</th>\n      <td>2012</td>\n      <td>Total</td>\n      <td>Both Sexes</td>\n      <td>Formosa</td>\n      <td>Urban agglomeration</td>\n      <td>Estimate - de facto</td>\n      <td>Final figure, complete</td>\n      <td>2012</td>\n      <td>2.490620e+05</td>\n      <td>1</td>\n      <td>Argentina</td>\n    </tr>\n    <tr>\n      <th>18</th>\n      <td>2013</td>\n      <td>Total</td>\n      <td>Both Sexes</td>\n      <td>La Plata</td>\n      <td>Urban agglomeration</td>\n      <td>Estimate - de facto</td>\n      <td>Final figure, complete</td>\n      <td>2013</td>\n      <td>7.644689e+05</td>\n      <td>1</td>\n      <td>Argentina</td>\n    </tr>\n    <tr>\n      <th>19</th>\n      <td>2012</td>\n      <td>Total</td>\n      <td>Both Sexes</td>\n      <td>La Plata</td>\n      <td>Urban agglomeration</td>\n      <td>Estimate - de facto</td>\n      <td>Final figure, complete</td>\n      <td>2012</td>\n      <td>7.579800e+05</td>\n      <td>1</td>\n      <td>Argentina</td>\n    </tr>\n    <tr>\n      <th>20</th>\n      <td>2013</td>\n      <td>Total</td>\n      <td>Both Sexes</td>\n      <td>La Rioja</td>\n      <td>Urban agglomeration</td>\n      <td>Estimate - de facto</td>\n      <td>Final figure, complete</td>\n      <td>2013</td>\n      <td>1.937636e+05</td>\n      <td>1</td>\n      <td>Argentina</td>\n    </tr>\n    <tr>\n      <th>21</th>\n      <td>2012</td>\n      <td>Total</td>\n      <td>Both Sexes</td>\n      <td>La Rioja</td>\n      <td>Urban agglomeration</td>\n      <td>Estimate - de facto</td>\n      <td>Final figure, complete</td>\n      <td>2012</td>\n      <td>1.898450e+05</td>\n      <td>1</td>\n      <td>Argentina</td>\n    </tr>\n    <tr>\n      <th>22</th>\n      <td>2013</td>\n      <td>Total</td>\n      <td>Both Sexes</td>\n      <td>San Luis - El Chorrillo</td>\n      <td>Urban agglomeration</td>\n      <td>Estimate - de facto</td>\n      <td>Final figure, complete</td>\n      <td>2013</td>\n      <td>2.166095e+05</td>\n      <td>1</td>\n      <td>Argentina</td>\n    </tr>\n    <tr>\n      <th>23</th>\n      <td>2012</td>\n      <td>Total</td>\n      <td>Both Sexes</td>\n      <td>San Luis - El Chorrillo</td>\n      <td>Urban agglomeration</td>\n      <td>Estimate - de facto</td>\n      <td>Final figure, complete</td>\n      <td>2012</td>\n      <td>2.121540e+05</td>\n      <td>1</td>\n      <td>Argentina</td>\n    </tr>\n    <tr>\n      <th>24</th>\n      <td>2013</td>\n      <td>Total</td>\n      <td>Both Sexes</td>\n      <td>Mendoza</td>\n      <td>Urban agglomeration</td>\n      <td>Estimate - de facto</td>\n      <td>Final figure, complete</td>\n      <td>2013</td>\n      <td>9.232033e+05</td>\n      <td>1</td>\n      <td>Argentina</td>\n    </tr>\n    <tr>\n      <th>25</th>\n      <td>2012</td>\n      <td>Total</td>\n      <td>Both Sexes</td>\n      <td>Mendoza</td>\n      <td>Urban agglomeration</td>\n      <td>Estimate - de facto</td>\n      <td>Final figure, complete</td>\n      <td>2012</td>\n      <td>9.162200e+05</td>\n      <td>1</td>\n      <td>Argentina</td>\n    </tr>\n    <tr>\n      <th>26</th>\n      <td>2013</td>\n      <td>Total</td>\n      <td>Both Sexes</td>\n      <td>Posadas</td>\n      <td>Urban agglomeration</td>\n      <td>Estimate - de facto</td>\n      <td>Final figure, complete</td>\n      <td>2013</td>\n      <td>3.121629e+05</td>\n      <td>1</td>\n      <td>Argentina</td>\n    </tr>\n    <tr>\n      <th>27</th>\n      <td>2012</td>\n      <td>Total</td>\n      <td>Both Sexes</td>\n      <td>Posadas</td>\n      <td>Urban agglomeration</td>\n      <td>Estimate - de facto</td>\n      <td>Final figure, complete</td>\n      <td>2012</td>\n      <td>3.076190e+05</td>\n      <td>1</td>\n      <td>Argentina</td>\n    </tr>\n    <tr>\n      <th>28</th>\n      <td>2013</td>\n      <td>Total</td>\n      <td>Both Sexes</td>\n      <td>Resistencia</td>\n      <td>Urban agglomeration</td>\n      <td>Estimate - de facto</td>\n      <td>Final figure, complete</td>\n      <td>2013</td>\n      <td>4.062845e+05</td>\n      <td>1</td>\n      <td>Argentina</td>\n    </tr>\n    <tr>\n      <th>29</th>\n      <td>2012</td>\n      <td>Total</td>\n      <td>Both Sexes</td>\n      <td>Resistencia</td>\n      <td>Urban agglomeration</td>\n      <td>Estimate - de facto</td>\n      <td>Final figure, complete</td>\n      <td>2012</td>\n      <td>4.008690e+05</td>\n      <td>1</td>\n      <td>Argentina</td>\n    </tr>\n    <tr>\n      <th>...</th>\n      <td>...</td>\n      <td>...</td>\n      <td>...</td>\n      <td>...</td>\n      <td>...</td>\n      <td>...</td>\n      <td>...</td>\n      <td>...</td>\n      <td>...</td>\n      <td>...</td>\n      <td>...</td>\n    </tr>\n    <tr>\n      <th>4040</th>\n      <td>2012</td>\n      <td>Total</td>\n      <td>Both Sexes</td>\n      <td>Waco (TX)</td>\n      <td>City proper</td>\n      <td>Estimate - de jure</td>\n      <td>Final figure, complete</td>\n      <td>2014</td>\n      <td>1.270180e+05</td>\n      <td>40,41</td>\n      <td>United States of America</td>\n    </tr>\n    <tr>\n      <th>4041</th>\n      <td>2012</td>\n      <td>Total</td>\n      <td>Both Sexes</td>\n      <td>Warren (MI)</td>\n      <td>City proper</td>\n      <td>Estimate - de jure</td>\n      <td>Final figure, complete</td>\n      <td>2014</td>\n      <td>1.341410e+05</td>\n      <td>40,41</td>\n      <td>United States of America</td>\n    </tr>\n    <tr>\n      <th>4042</th>\n      <td>2012</td>\n      <td>Total</td>\n      <td>Both Sexes</td>\n      <td>WASHINGTON (DC)</td>\n      <td>City proper</td>\n      <td>Estimate - de jure</td>\n      <td>Final figure, complete</td>\n      <td>2014</td>\n      <td>6.323230e+05</td>\n      <td>40,41</td>\n      <td>United States of America</td>\n    </tr>\n    <tr>\n      <th>4043</th>\n      <td>2012</td>\n      <td>Total</td>\n      <td>Both Sexes</td>\n      <td>Waterbury (CT)</td>\n      <td>City proper</td>\n      <td>Estimate - de jure</td>\n      <td>Final figure, complete</td>\n      <td>2014</td>\n      <td>1.099150e+05</td>\n      <td>40,41</td>\n      <td>United States of America</td>\n    </tr>\n    <tr>\n      <th>4044</th>\n      <td>2012</td>\n      <td>Total</td>\n      <td>Both Sexes</td>\n      <td>West Covina (CA)</td>\n      <td>City proper</td>\n      <td>Estimate - de jure</td>\n      <td>Final figure, complete</td>\n      <td>2014</td>\n      <td>1.074400e+05</td>\n      <td>40,41</td>\n      <td>United States of America</td>\n    </tr>\n    <tr>\n      <th>4045</th>\n      <td>2012</td>\n      <td>Total</td>\n      <td>Both Sexes</td>\n      <td>West Jordan (UT)</td>\n      <td>City proper</td>\n      <td>Estimate - de jure</td>\n      <td>Final figure, complete</td>\n      <td>2014</td>\n      <td>1.083830e+05</td>\n      <td>40,41</td>\n      <td>United States of America</td>\n    </tr>\n    <tr>\n      <th>4046</th>\n      <td>2012</td>\n      <td>Total</td>\n      <td>Both Sexes</td>\n      <td>West Palm Beach (FL)</td>\n      <td>City proper</td>\n      <td>Estimate - de jure</td>\n      <td>Final figure, complete</td>\n      <td>2014</td>\n      <td>1.019030e+05</td>\n      <td>40,41</td>\n      <td>United States of America</td>\n    </tr>\n    <tr>\n      <th>4047</th>\n      <td>2012</td>\n      <td>Total</td>\n      <td>Both Sexes</td>\n      <td>West Valley City (UT)</td>\n      <td>City proper</td>\n      <td>Estimate - de jure</td>\n      <td>Final figure, complete</td>\n      <td>2014</td>\n      <td>1.324340e+05</td>\n      <td>40,41</td>\n      <td>United States of America</td>\n    </tr>\n    <tr>\n      <th>4048</th>\n      <td>2012</td>\n      <td>Total</td>\n      <td>Both Sexes</td>\n      <td>Westminster (CO)</td>\n      <td>City proper</td>\n      <td>Estimate - de jure</td>\n      <td>Final figure, complete</td>\n      <td>2014</td>\n      <td>1.091690e+05</td>\n      <td>40,41</td>\n      <td>United States of America</td>\n    </tr>\n    <tr>\n      <th>4049</th>\n      <td>2012</td>\n      <td>Total</td>\n      <td>Both Sexes</td>\n      <td>Wichita (KS)</td>\n      <td>City proper</td>\n      <td>Estimate - de jure</td>\n      <td>Final figure, complete</td>\n      <td>2014</td>\n      <td>3.855770e+05</td>\n      <td>40,41</td>\n      <td>United States of America</td>\n    </tr>\n    <tr>\n      <th>4050</th>\n      <td>2012</td>\n      <td>Total</td>\n      <td>Both Sexes</td>\n      <td>Wichita Falls (TX)</td>\n      <td>City proper</td>\n      <td>Estimate - de jure</td>\n      <td>Final figure, complete</td>\n      <td>2014</td>\n      <td>1.045520e+05</td>\n      <td>40,41</td>\n      <td>United States of America</td>\n    </tr>\n    <tr>\n      <th>4051</th>\n      <td>2012</td>\n      <td>Total</td>\n      <td>Both Sexes</td>\n      <td>Wilmington (NC)</td>\n      <td>City proper</td>\n      <td>Estimate - de jure</td>\n      <td>Final figure, complete</td>\n      <td>2014</td>\n      <td>1.099220e+05</td>\n      <td>40,41</td>\n      <td>United States of America</td>\n    </tr>\n    <tr>\n      <th>4052</th>\n      <td>2012</td>\n      <td>Total</td>\n      <td>Both Sexes</td>\n      <td>Winston-Salem (NC)</td>\n      <td>City proper</td>\n      <td>Estimate - de jure</td>\n      <td>Final figure, complete</td>\n      <td>2014</td>\n      <td>2.343490e+05</td>\n      <td>40,41</td>\n      <td>United States of America</td>\n    </tr>\n    <tr>\n      <th>4053</th>\n      <td>2012</td>\n      <td>Total</td>\n      <td>Both Sexes</td>\n      <td>Worcester (MA)</td>\n      <td>City proper</td>\n      <td>Estimate - de jure</td>\n      <td>Final figure, complete</td>\n      <td>2014</td>\n      <td>1.826690e+05</td>\n      <td>40,41</td>\n      <td>United States of America</td>\n    </tr>\n    <tr>\n      <th>4054</th>\n      <td>2012</td>\n      <td>Total</td>\n      <td>Both Sexes</td>\n      <td>Yonkers (NY)</td>\n      <td>City proper</td>\n      <td>Estimate - de jure</td>\n      <td>Final figure, complete</td>\n      <td>2014</td>\n      <td>1.984490e+05</td>\n      <td>40,41</td>\n      <td>United States of America</td>\n    </tr>\n    <tr>\n      <th>4055</th>\n      <td>2012</td>\n      <td>Total</td>\n      <td>Both Sexes</td>\n      <td>Bulawayo</td>\n      <td>City proper</td>\n      <td>Census - de facto - complete tabulation</td>\n      <td>Final figure, complete</td>\n      <td>2014</td>\n      <td>6.533370e+05</td>\n      <td>NaN</td>\n      <td>Zimbabwe</td>\n    </tr>\n    <tr>\n      <th>4056</th>\n      <td>2012</td>\n      <td>Total</td>\n      <td>Male</td>\n      <td>Bulawayo</td>\n      <td>City proper</td>\n      <td>Census - de facto - complete tabulation</td>\n      <td>Final figure, complete</td>\n      <td>2014</td>\n      <td>3.033460e+05</td>\n      <td>NaN</td>\n      <td>Zimbabwe</td>\n    </tr>\n    <tr>\n      <th>4057</th>\n      <td>2012</td>\n      <td>Total</td>\n      <td>Female</td>\n      <td>Bulawayo</td>\n      <td>City proper</td>\n      <td>Census - de facto - complete tabulation</td>\n      <td>Final figure, complete</td>\n      <td>2014</td>\n      <td>3.499910e+05</td>\n      <td>NaN</td>\n      <td>Zimbabwe</td>\n    </tr>\n    <tr>\n      <th>4058</th>\n      <td>2012</td>\n      <td>Total</td>\n      <td>Both Sexes</td>\n      <td>Chitungwiza</td>\n      <td>City proper</td>\n      <td>Census - de facto - complete tabulation</td>\n      <td>Final figure, complete</td>\n      <td>2014</td>\n      <td>3.568400e+05</td>\n      <td>NaN</td>\n      <td>Zimbabwe</td>\n    </tr>\n    <tr>\n      <th>4059</th>\n      <td>2012</td>\n      <td>Total</td>\n      <td>Male</td>\n      <td>Chitungwiza</td>\n      <td>City proper</td>\n      <td>Census - de facto - complete tabulation</td>\n      <td>Final figure, complete</td>\n      <td>2014</td>\n      <td>1.686000e+05</td>\n      <td>NaN</td>\n      <td>Zimbabwe</td>\n    </tr>\n    <tr>\n      <th>4060</th>\n      <td>2012</td>\n      <td>Total</td>\n      <td>Female</td>\n      <td>Chitungwiza</td>\n      <td>City proper</td>\n      <td>Census - de facto - complete tabulation</td>\n      <td>Final figure, complete</td>\n      <td>2014</td>\n      <td>1.882400e+05</td>\n      <td>NaN</td>\n      <td>Zimbabwe</td>\n    </tr>\n    <tr>\n      <th>4061</th>\n      <td>2012</td>\n      <td>Total</td>\n      <td>Both Sexes</td>\n      <td>Gweru</td>\n      <td>City proper</td>\n      <td>Census - de facto - complete tabulation</td>\n      <td>Final figure, complete</td>\n      <td>2014</td>\n      <td>9.180600e+04</td>\n      <td>NaN</td>\n      <td>Zimbabwe</td>\n    </tr>\n    <tr>\n      <th>4062</th>\n      <td>2012</td>\n      <td>Total</td>\n      <td>Male</td>\n      <td>Gweru</td>\n      <td>City proper</td>\n      <td>Census - de facto - complete tabulation</td>\n      <td>Final figure, complete</td>\n      <td>2014</td>\n      <td>4.523900e+04</td>\n      <td>NaN</td>\n      <td>Zimbabwe</td>\n    </tr>\n    <tr>\n      <th>4063</th>\n      <td>2012</td>\n      <td>Total</td>\n      <td>Female</td>\n      <td>Gweru</td>\n      <td>City proper</td>\n      <td>Census - de facto - complete tabulation</td>\n      <td>Final figure, complete</td>\n      <td>2014</td>\n      <td>4.656700e+04</td>\n      <td>NaN</td>\n      <td>Zimbabwe</td>\n    </tr>\n    <tr>\n      <th>4064</th>\n      <td>2012</td>\n      <td>Total</td>\n      <td>Both Sexes</td>\n      <td>HARARE</td>\n      <td>City proper</td>\n      <td>Census - de facto - complete tabulation</td>\n      <td>Final figure, complete</td>\n      <td>2014</td>\n      <td>1.485231e+06</td>\n      <td>NaN</td>\n      <td>Zimbabwe</td>\n    </tr>\n    <tr>\n      <th>4065</th>\n      <td>2012</td>\n      <td>Total</td>\n      <td>Male</td>\n      <td>HARARE</td>\n      <td>City proper</td>\n      <td>Census - de facto - complete tabulation</td>\n      <td>Final figure, complete</td>\n      <td>2014</td>\n      <td>7.165950e+05</td>\n      <td>NaN</td>\n      <td>Zimbabwe</td>\n    </tr>\n    <tr>\n      <th>4066</th>\n      <td>2012</td>\n      <td>Total</td>\n      <td>Female</td>\n      <td>HARARE</td>\n      <td>City proper</td>\n      <td>Census - de facto - complete tabulation</td>\n      <td>Final figure, complete</td>\n      <td>2014</td>\n      <td>7.686360e+05</td>\n      <td>NaN</td>\n      <td>Zimbabwe</td>\n    </tr>\n    <tr>\n      <th>4067</th>\n      <td>2012</td>\n      <td>Total</td>\n      <td>Both Sexes</td>\n      <td>Mutare</td>\n      <td>City proper</td>\n      <td>Census - de facto - complete tabulation</td>\n      <td>Final figure, complete</td>\n      <td>2014</td>\n      <td>2.621240e+05</td>\n      <td>NaN</td>\n      <td>Zimbabwe</td>\n    </tr>\n    <tr>\n      <th>4068</th>\n      <td>2012</td>\n      <td>Total</td>\n      <td>Male</td>\n      <td>Mutare</td>\n      <td>City proper</td>\n      <td>Census - de facto - complete tabulation</td>\n      <td>Final figure, complete</td>\n      <td>2014</td>\n      <td>1.258500e+05</td>\n      <td>NaN</td>\n      <td>Zimbabwe</td>\n    </tr>\n    <tr>\n      <th>4069</th>\n      <td>2012</td>\n      <td>Total</td>\n      <td>Female</td>\n      <td>Mutare</td>\n      <td>City proper</td>\n      <td>Census - de facto - complete tabulation</td>\n      <td>Final figure, complete</td>\n      <td>2014</td>\n      <td>1.362740e+05</td>\n      <td>NaN</td>\n      <td>Zimbabwe</td>\n    </tr>\n  </tbody>\n</table>\n<p>4070 rows × 11 columns</p>\n</div>"
          },
          "metadata": {}
        }
      ]
    },
    {
      "metadata": {},
      "cell_type": "markdown",
      "source": "## A footnote about footnotes\n\nJust a quick note - if you look at the primary UN data, you'll see footnotes which will confuse the hell out of Pandas. I've taken the footnotes out, but you can use .tail() to see whether there's any junk in the trunk, and remove it via a text editor."
    },
    {
      "metadata": {},
      "cell_type": "markdown",
      "source": "## Clean data\nWe need to simplify this data a bit in the following ways:\n\n1. I'm going to focus on one year (2012)\n2. I'm going to just look at \"Both Sexes\" (not focus on one gender)\n3. I'm going to get rid of a column of data (the 'Value Footnotes' column) using the *drop()* method. "
    },
    {
      "metadata": {
        "trusted": true
      },
      "cell_type": "code",
      "source": "cities = df_so\ncities = cities[cities['Sex']=='Both Sexes']\ncities = cities[cities['Year']==2012]\ncities.drop('Value Footnotes', axis=1, inplace=True)",
      "execution_count": 106,
      "outputs": []
    },
    {
      "metadata": {
        "trusted": true
      },
      "cell_type": "code",
      "source": "cities.head()",
      "execution_count": 107,
      "outputs": [
        {
          "output_type": "execute_result",
          "execution_count": 107,
          "data": {
            "text/plain": "    Year   Area         Sex                           City  \\\n3   2012  Total  Both Sexes                      MARIEHAMN   \n7   2012  Total  Both Sexes                   BUENOS AIRES   \n9   2012  Total  Both Sexes                      Catamarca   \n11  2012  Total  Both Sexes  Comodoro Rivadavia-Rada Tilly   \n13  2012  Total  Both Sexes                      Concordia   \n\n              City type          Record Type             Reliability  \\\n3           City proper   Estimate - de jure  Final figure, complete   \n7   Urban agglomeration  Estimate - de facto  Final figure, complete   \n9   Urban agglomeration  Estimate - de facto  Final figure, complete   \n11  Urban agglomeration  Estimate - de facto  Final figure, complete   \n13  Urban agglomeration  Estimate - de facto  Final figure, complete   \n\n    Source Year       Value Country or Area  \n3          2013     11304.5   �land Islands  \n7          2012  13242375.0       Argentina  \n9          2012    212174.0       Argentina  \n11         2012    145475.0       Argentina  \n13         2012    155905.0       Argentina  ",
            "text/html": "<div>\n<style scoped>\n    .dataframe tbody tr th:only-of-type {\n        vertical-align: middle;\n    }\n\n    .dataframe tbody tr th {\n        vertical-align: top;\n    }\n\n    .dataframe thead th {\n        text-align: right;\n    }\n</style>\n<table border=\"1\" class=\"dataframe\">\n  <thead>\n    <tr style=\"text-align: right;\">\n      <th></th>\n      <th>Year</th>\n      <th>Area</th>\n      <th>Sex</th>\n      <th>City</th>\n      <th>City type</th>\n      <th>Record Type</th>\n      <th>Reliability</th>\n      <th>Source Year</th>\n      <th>Value</th>\n      <th>Country or Area</th>\n    </tr>\n  </thead>\n  <tbody>\n    <tr>\n      <th>3</th>\n      <td>2012</td>\n      <td>Total</td>\n      <td>Both Sexes</td>\n      <td>MARIEHAMN</td>\n      <td>City proper</td>\n      <td>Estimate - de jure</td>\n      <td>Final figure, complete</td>\n      <td>2013</td>\n      <td>11304.5</td>\n      <td>�land Islands</td>\n    </tr>\n    <tr>\n      <th>7</th>\n      <td>2012</td>\n      <td>Total</td>\n      <td>Both Sexes</td>\n      <td>BUENOS AIRES</td>\n      <td>Urban agglomeration</td>\n      <td>Estimate - de facto</td>\n      <td>Final figure, complete</td>\n      <td>2012</td>\n      <td>13242375.0</td>\n      <td>Argentina</td>\n    </tr>\n    <tr>\n      <th>9</th>\n      <td>2012</td>\n      <td>Total</td>\n      <td>Both Sexes</td>\n      <td>Catamarca</td>\n      <td>Urban agglomeration</td>\n      <td>Estimate - de facto</td>\n      <td>Final figure, complete</td>\n      <td>2012</td>\n      <td>212174.0</td>\n      <td>Argentina</td>\n    </tr>\n    <tr>\n      <th>11</th>\n      <td>2012</td>\n      <td>Total</td>\n      <td>Both Sexes</td>\n      <td>Comodoro Rivadavia-Rada Tilly</td>\n      <td>Urban agglomeration</td>\n      <td>Estimate - de facto</td>\n      <td>Final figure, complete</td>\n      <td>2012</td>\n      <td>145475.0</td>\n      <td>Argentina</td>\n    </tr>\n    <tr>\n      <th>13</th>\n      <td>2012</td>\n      <td>Total</td>\n      <td>Both Sexes</td>\n      <td>Concordia</td>\n      <td>Urban agglomeration</td>\n      <td>Estimate - de facto</td>\n      <td>Final figure, complete</td>\n      <td>2012</td>\n      <td>155905.0</td>\n      <td>Argentina</td>\n    </tr>\n  </tbody>\n</table>\n</div>"
          },
          "metadata": {}
        }
      ]
    },
    {
      "metadata": {},
      "cell_type": "markdown",
      "source": "## Extension: In My Place\n\nThe command I used to get rid of that column is *cities.drop('Value Footnotes', axis=1, inplace=True)*. The syntax is not so complex - the first argument, *'Value Footnotes'*, is just the name of the column; the second argument,  *axis=1*, tells Pandas to look for a column to remove (instead of a row which has *axis=0*); the third and final argument, *inplace=True*, is a command that tells Pandas to edit *inplace*, i.e. to edit the dataframe (*cities*) directly. When *inplace* is False (the default), this command does not directly edit cities, but instead provide an output. So the syntax for that would be \n\nnew_cities = cities.drop('Value Footnotes', axis=1)\n\nand new_cities would be a version of *cities* without the offending column. This is usually the safer option."
    },
    {
      "metadata": {},
      "cell_type": "markdown",
      "source": "## Life, Oh Life\n\nThe UN also has useful data by country, so let's try and work with some of that and join it up with our city data. Let's work with Life Expectancy Data:\n\nhttp://data.un.org/Data.aspx?d=WDI&f=Indicator_Code%3ASP.DYN.LE00.IN"
    },
    {
      "metadata": {
        "trusted": true
      },
      "cell_type": "code",
      "source": "data_path = \"./data/wk3/UN_Life_all.csv\"\nlife = pd.read_csv(data_path, index_col=0)",
      "execution_count": 108,
      "outputs": []
    },
    {
      "metadata": {
        "trusted": true
      },
      "cell_type": "code",
      "source": "life.head()",
      "execution_count": 109,
      "outputs": [
        {
          "output_type": "execute_result",
          "execution_count": 109,
          "data": {
            "text/plain": "                 Year      Value  Value Footnotes\nCountry or Area                                  \nAfghanistan      2012  60.509122              NaN\nAfghanistan      2011  60.065366              NaN\nAfghanistan      2010  59.600098              NaN\nAfghanistan      2009  59.112341              NaN\nAfghanistan      2008  58.607098              NaN",
            "text/html": "<div>\n<style scoped>\n    .dataframe tbody tr th:only-of-type {\n        vertical-align: middle;\n    }\n\n    .dataframe tbody tr th {\n        vertical-align: top;\n    }\n\n    .dataframe thead th {\n        text-align: right;\n    }\n</style>\n<table border=\"1\" class=\"dataframe\">\n  <thead>\n    <tr style=\"text-align: right;\">\n      <th></th>\n      <th>Year</th>\n      <th>Value</th>\n      <th>Value Footnotes</th>\n    </tr>\n    <tr>\n      <th>Country or Area</th>\n      <th></th>\n      <th></th>\n      <th></th>\n    </tr>\n  </thead>\n  <tbody>\n    <tr>\n      <th>Afghanistan</th>\n      <td>2012</td>\n      <td>60.509122</td>\n      <td>NaN</td>\n    </tr>\n    <tr>\n      <th>Afghanistan</th>\n      <td>2011</td>\n      <td>60.065366</td>\n      <td>NaN</td>\n    </tr>\n    <tr>\n      <th>Afghanistan</th>\n      <td>2010</td>\n      <td>59.600098</td>\n      <td>NaN</td>\n    </tr>\n    <tr>\n      <th>Afghanistan</th>\n      <td>2009</td>\n      <td>59.112341</td>\n      <td>NaN</td>\n    </tr>\n    <tr>\n      <th>Afghanistan</th>\n      <td>2008</td>\n      <td>58.607098</td>\n      <td>NaN</td>\n    </tr>\n  </tbody>\n</table>\n</div>"
          },
          "metadata": {}
        }
      ]
    },
    {
      "metadata": {
        "trusted": true
      },
      "cell_type": "code",
      "source": "life.drop('Value Footnotes', axis=1, inplace=True)\nlife = life[life['Year']==2012]\nlife.head()",
      "execution_count": 110,
      "outputs": [
        {
          "output_type": "execute_result",
          "execution_count": 110,
          "data": {
            "text/plain": "                     Year      Value\nCountry or Area                     \nAfghanistan          2012  60.509122\nAlbania              2012  77.350463\nAlgeria              2012  70.882171\nAngola               2012  51.464000\nAntigua and Barbuda  2012  75.665317",
            "text/html": "<div>\n<style scoped>\n    .dataframe tbody tr th:only-of-type {\n        vertical-align: middle;\n    }\n\n    .dataframe tbody tr th {\n        vertical-align: top;\n    }\n\n    .dataframe thead th {\n        text-align: right;\n    }\n</style>\n<table border=\"1\" class=\"dataframe\">\n  <thead>\n    <tr style=\"text-align: right;\">\n      <th></th>\n      <th>Year</th>\n      <th>Value</th>\n    </tr>\n    <tr>\n      <th>Country or Area</th>\n      <th></th>\n      <th></th>\n    </tr>\n  </thead>\n  <tbody>\n    <tr>\n      <th>Afghanistan</th>\n      <td>2012</td>\n      <td>60.509122</td>\n    </tr>\n    <tr>\n      <th>Albania</th>\n      <td>2012</td>\n      <td>77.350463</td>\n    </tr>\n    <tr>\n      <th>Algeria</th>\n      <td>2012</td>\n      <td>70.882171</td>\n    </tr>\n    <tr>\n      <th>Angola</th>\n      <td>2012</td>\n      <td>51.464000</td>\n    </tr>\n    <tr>\n      <th>Antigua and Barbuda</th>\n      <td>2012</td>\n      <td>75.665317</td>\n    </tr>\n  </tbody>\n</table>\n</div>"
          },
          "metadata": {}
        }
      ]
    },
    {
      "metadata": {},
      "cell_type": "markdown",
      "source": "## Exercise:\n\nIn a new cell, clean up the above dataframe by\n\n- removing the \"Value Footnotes\" Column\n- use only the most recent data (2012)"
    },
    {
      "metadata": {},
      "cell_type": "markdown",
      "source": "Let's make it a little clearer what \"Value\" refers to, by renaming the column. This is one way to do that:"
    },
    {
      "metadata": {
        "trusted": true
      },
      "cell_type": "code",
      "source": "life.rename(columns={'Value':'Life Expectancy'}, inplace=True)",
      "execution_count": 111,
      "outputs": []
    },
    {
      "metadata": {
        "trusted": true
      },
      "cell_type": "code",
      "source": "life.head()",
      "execution_count": 112,
      "outputs": [
        {
          "output_type": "execute_result",
          "execution_count": 112,
          "data": {
            "text/plain": "                     Year  Life Expectancy\nCountry or Area                           \nAfghanistan          2012        60.509122\nAlbania              2012        77.350463\nAlgeria              2012        70.882171\nAngola               2012        51.464000\nAntigua and Barbuda  2012        75.665317",
            "text/html": "<div>\n<style scoped>\n    .dataframe tbody tr th:only-of-type {\n        vertical-align: middle;\n    }\n\n    .dataframe tbody tr th {\n        vertical-align: top;\n    }\n\n    .dataframe thead th {\n        text-align: right;\n    }\n</style>\n<table border=\"1\" class=\"dataframe\">\n  <thead>\n    <tr style=\"text-align: right;\">\n      <th></th>\n      <th>Year</th>\n      <th>Life Expectancy</th>\n    </tr>\n    <tr>\n      <th>Country or Area</th>\n      <th></th>\n      <th></th>\n    </tr>\n  </thead>\n  <tbody>\n    <tr>\n      <th>Afghanistan</th>\n      <td>2012</td>\n      <td>60.509122</td>\n    </tr>\n    <tr>\n      <th>Albania</th>\n      <td>2012</td>\n      <td>77.350463</td>\n    </tr>\n    <tr>\n      <th>Algeria</th>\n      <td>2012</td>\n      <td>70.882171</td>\n    </tr>\n    <tr>\n      <th>Angola</th>\n      <td>2012</td>\n      <td>51.464000</td>\n    </tr>\n    <tr>\n      <th>Antigua and Barbuda</th>\n      <td>2012</td>\n      <td>75.665317</td>\n    </tr>\n  </tbody>\n</table>\n</div>"
          },
          "metadata": {}
        }
      ]
    },
    {
      "metadata": {},
      "cell_type": "markdown",
      "source": "# Exercise\n\nNow, merge this data with the cities data to show life expectancy for each city (based on the country it is in), and show the first 5 rows. \n\nHow much data was \"missing\" in the merge?\n\nRelabel the City Population column so it's clear what it represents.\n\n\n**Extension:** Plot population against life expectancy. Use plot's *optional arguments* to specify the x column, y column, and that kind='scatter'. \n\n**Don't forget to include a title and axis labels!**\n\nHow does London fit in this trend? What are the problems with doing this?"
    },
    {
      "metadata": {
        "trusted": true
      },
      "cell_type": "code",
      "source": "dfinal_joined = cities.merge(life, how = 'left')\ndfinal_joined.head()",
      "execution_count": 119,
      "outputs": [
        {
          "output_type": "execute_result",
          "execution_count": 119,
          "data": {
            "text/plain": "   Year   Area         Sex       City    City type         Record Type  \\\n0  2012  Total  Both Sexes  MARIEHAMN  City proper  Estimate - de jure   \n1  2012  Total  Both Sexes  MARIEHAMN  City proper  Estimate - de jure   \n2  2012  Total  Both Sexes  MARIEHAMN  City proper  Estimate - de jure   \n3  2012  Total  Both Sexes  MARIEHAMN  City proper  Estimate - de jure   \n4  2012  Total  Both Sexes  MARIEHAMN  City proper  Estimate - de jure   \n\n              Reliability  Source Year    Value Country or Area  \\\n0  Final figure, complete         2013  11304.5   �land Islands   \n1  Final figure, complete         2013  11304.5   �land Islands   \n2  Final figure, complete         2013  11304.5   �land Islands   \n3  Final figure, complete         2013  11304.5   �land Islands   \n4  Final figure, complete         2013  11304.5   �land Islands   \n\n   Life Expectancy  \n0        60.509122  \n1        77.350463  \n2        70.882171  \n3        51.464000  \n4        75.665317  ",
            "text/html": "<div>\n<style scoped>\n    .dataframe tbody tr th:only-of-type {\n        vertical-align: middle;\n    }\n\n    .dataframe tbody tr th {\n        vertical-align: top;\n    }\n\n    .dataframe thead th {\n        text-align: right;\n    }\n</style>\n<table border=\"1\" class=\"dataframe\">\n  <thead>\n    <tr style=\"text-align: right;\">\n      <th></th>\n      <th>Year</th>\n      <th>Area</th>\n      <th>Sex</th>\n      <th>City</th>\n      <th>City type</th>\n      <th>Record Type</th>\n      <th>Reliability</th>\n      <th>Source Year</th>\n      <th>Value</th>\n      <th>Country or Area</th>\n      <th>Life Expectancy</th>\n    </tr>\n  </thead>\n  <tbody>\n    <tr>\n      <th>0</th>\n      <td>2012</td>\n      <td>Total</td>\n      <td>Both Sexes</td>\n      <td>MARIEHAMN</td>\n      <td>City proper</td>\n      <td>Estimate - de jure</td>\n      <td>Final figure, complete</td>\n      <td>2013</td>\n      <td>11304.5</td>\n      <td>�land Islands</td>\n      <td>60.509122</td>\n    </tr>\n    <tr>\n      <th>1</th>\n      <td>2012</td>\n      <td>Total</td>\n      <td>Both Sexes</td>\n      <td>MARIEHAMN</td>\n      <td>City proper</td>\n      <td>Estimate - de jure</td>\n      <td>Final figure, complete</td>\n      <td>2013</td>\n      <td>11304.5</td>\n      <td>�land Islands</td>\n      <td>77.350463</td>\n    </tr>\n    <tr>\n      <th>2</th>\n      <td>2012</td>\n      <td>Total</td>\n      <td>Both Sexes</td>\n      <td>MARIEHAMN</td>\n      <td>City proper</td>\n      <td>Estimate - de jure</td>\n      <td>Final figure, complete</td>\n      <td>2013</td>\n      <td>11304.5</td>\n      <td>�land Islands</td>\n      <td>70.882171</td>\n    </tr>\n    <tr>\n      <th>3</th>\n      <td>2012</td>\n      <td>Total</td>\n      <td>Both Sexes</td>\n      <td>MARIEHAMN</td>\n      <td>City proper</td>\n      <td>Estimate - de jure</td>\n      <td>Final figure, complete</td>\n      <td>2013</td>\n      <td>11304.5</td>\n      <td>�land Islands</td>\n      <td>51.464000</td>\n    </tr>\n    <tr>\n      <th>4</th>\n      <td>2012</td>\n      <td>Total</td>\n      <td>Both Sexes</td>\n      <td>MARIEHAMN</td>\n      <td>City proper</td>\n      <td>Estimate - de jure</td>\n      <td>Final figure, complete</td>\n      <td>2013</td>\n      <td>11304.5</td>\n      <td>�land Islands</td>\n      <td>75.665317</td>\n    </tr>\n  </tbody>\n</table>\n</div>"
          },
          "metadata": {}
        }
      ]
    },
    {
      "metadata": {},
      "cell_type": "markdown",
      "source": "## Recap: Joins\n\nPandas has **four** join methods:\n\n    - Left Join: use **only** keys from **left** DataFrame. SQL: [left outer join](http://goo.gl/JICveI)\n    - Right Join: use **only** keys from **right** DataFrame. SQL: [right outer join](http://goo.gl/TrrHjQ)\n    - Outer Join: use union of **keys from both** DataFrames. SQL: [full outer join](http://goo.gl/bVRqO8)\n    - Inner Join: use **intersection of keys** from both DataFrames. SQL: [inner join](http://goo.gl/Cf1MF8)"
    }
  ],
  "metadata": {
    "kernelspec": {
      "name": "python2",
      "display_name": "Python 2",
      "language": "python"
    },
    "language_info": {
      "mimetype": "text/x-python",
      "nbconvert_exporter": "python",
      "name": "python",
      "pygments_lexer": "ipython2",
      "version": "2.7.15",
      "file_extension": ".py",
      "codemirror_mode": {
        "version": 2,
        "name": "ipython"
      }
    }
  },
  "nbformat": 4,
  "nbformat_minor": 1
}