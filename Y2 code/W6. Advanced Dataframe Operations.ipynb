{
  "cells": [
    {
      "metadata": {},
      "cell_type": "markdown",
      "source": "## Quantitative Methods 2:  Data Science and Visualisation\n## Workshop 6: Advanced Dataframe Operations\n\nToday we will be talking about and using **merging** and **joining** and performing some advanced Dataframe operations."
    },
    {
      "metadata": {},
      "cell_type": "markdown",
      "source": "## Downloading the Data\nLet's grab the data we will need this week from our course website and save it into our data folder. If you've not already created a data folder then do so using the following command. \n\nDon't worry if it generates an error, that means you've already got a data folder."
    },
    {
      "metadata": {
        "trusted": true
      },
      "cell_type": "code",
      "source": "!mkdir data",
      "execution_count": 1,
      "outputs": [
        {
          "output_type": "stream",
          "text": "mkdir: cannot create directory ‘data’: File exists\r\n",
          "name": "stdout"
        }
      ]
    },
    {
      "metadata": {
        "trusted": true
      },
      "cell_type": "code",
      "source": "!mkdir data/wk6\n!curl https://s3.eu-west-2.amazonaws.com/qm2/wk6/veg.csv -o ./data/wk6/veg.csv\n!curl https://s3.eu-west-2.amazonaws.com/qm2/wk6/ITF_GOODS_TRANSPORT_Data_fb8faed3-af67-457b-8387-8485f0ceea42.csv -o ./data/wk6/ITF_GOODS_TRANSPORT_Data_fb8faed3-af67-457b-8387-8485f0ceea42.csv\n!curl https://s3.eu-west-2.amazonaws.com/qm2/wk6/AIR_GHG_Data_5f3eccd7-21db-4950-8390-2311d87476ee.csv -o ./data/wk6/AIR_GHG_Data_5f3eccd7-21db-4950-8390-2311d87476ee.csv",
      "execution_count": 2,
      "outputs": [
        {
          "output_type": "stream",
          "text": "mkdir: cannot create directory ‘data/wk6’: File exists\n  % Total    % Received % Xferd  Average Speed   Time    Time     Time  Current\n                                 Dload  Upload   Total   Spent    Left  Speed\n100   282    0   282    0     0    285      0 --:--:-- --:--:-- --:--:--   285\n  % Total    % Received % Xferd  Average Speed   Time    Time     Time  Current\n                                 Dload  Upload   Total   Spent    Left  Speed\n100   340    0   340    0     0    368      0 --:--:-- --:--:-- --:--:--   368\n  % Total    % Received % Xferd  Average Speed   Time    Time     Time  Current\n                                 Dload  Upload   Total   Spent    Left  Speed\n100   328    0   328    0     0    402      0 --:--:-- --:--:-- --:--:--   401\n",
          "name": "stdout"
        }
      ]
    },
    {
      "metadata": {},
      "cell_type": "markdown",
      "source": "`--------------------------------`"
    },
    {
      "metadata": {},
      "cell_type": "markdown",
      "source": "Let's remind ourselves of the two types of join"
    },
    {
      "metadata": {
        "trusted": true
      },
      "cell_type": "code",
      "source": "from IPython.display import Image\nImage(\"https://s3.eu-west-2.amazonaws.com/qm2/wk1/inner_join.png\")",
      "execution_count": 3,
      "outputs": [
        {
          "output_type": "execute_result",
          "execution_count": 3,
          "data": {
            "text/plain": "<IPython.core.display.Image object>"
          },
          "metadata": {}
        }
      ]
    },
    {
      "metadata": {
        "trusted": true
      },
      "cell_type": "code",
      "source": "Image(\"https://s3.eu-west-2.amazonaws.com/qm2/wk6/left_outer_join.png\")",
      "execution_count": 4,
      "outputs": [
        {
          "output_type": "execute_result",
          "execution_count": 4,
          "data": {
            "text/plain": "<IPython.core.display.Image object>"
          },
          "metadata": {}
        }
      ]
    },
    {
      "metadata": {},
      "cell_type": "markdown",
      "source": "We start with an example.\n\nLet's create two Dataframes "
    },
    {
      "metadata": {
        "trusted": true
      },
      "cell_type": "code",
      "source": "import matplotlib.pyplot as plt\nimport pandas as pd\nimport numpy as np\nimport random",
      "execution_count": 5,
      "outputs": []
    },
    {
      "metadata": {
        "trusted": true
      },
      "cell_type": "code",
      "source": "df1 = pd.DataFrame(np.random.randn(5, 5))",
      "execution_count": 6,
      "outputs": []
    },
    {
      "metadata": {
        "trusted": true
      },
      "cell_type": "code",
      "source": "df1",
      "execution_count": 7,
      "outputs": [
        {
          "output_type": "execute_result",
          "execution_count": 7,
          "data": {
            "text/plain": "          0         1         2         3         4\n0 -0.853523  2.584120 -1.840017  0.277024  0.388721\n1  1.285974 -1.055872 -0.703200 -0.107125  0.334197\n2  1.202832  0.112409  1.365834 -1.848137  0.609359\n3  0.558488  0.247437  1.537077 -1.040954 -1.771338\n4  0.982133 -0.582827 -0.905028  2.288317 -0.739666",
            "text/html": "<div>\n<style scoped>\n    .dataframe tbody tr th:only-of-type {\n        vertical-align: middle;\n    }\n\n    .dataframe tbody tr th {\n        vertical-align: top;\n    }\n\n    .dataframe thead th {\n        text-align: right;\n    }\n</style>\n<table border=\"1\" class=\"dataframe\">\n  <thead>\n    <tr style=\"text-align: right;\">\n      <th></th>\n      <th>0</th>\n      <th>1</th>\n      <th>2</th>\n      <th>3</th>\n      <th>4</th>\n    </tr>\n  </thead>\n  <tbody>\n    <tr>\n      <th>0</th>\n      <td>-0.853523</td>\n      <td>2.584120</td>\n      <td>-1.840017</td>\n      <td>0.277024</td>\n      <td>0.388721</td>\n    </tr>\n    <tr>\n      <th>1</th>\n      <td>1.285974</td>\n      <td>-1.055872</td>\n      <td>-0.703200</td>\n      <td>-0.107125</td>\n      <td>0.334197</td>\n    </tr>\n    <tr>\n      <th>2</th>\n      <td>1.202832</td>\n      <td>0.112409</td>\n      <td>1.365834</td>\n      <td>-1.848137</td>\n      <td>0.609359</td>\n    </tr>\n    <tr>\n      <th>3</th>\n      <td>0.558488</td>\n      <td>0.247437</td>\n      <td>1.537077</td>\n      <td>-1.040954</td>\n      <td>-1.771338</td>\n    </tr>\n    <tr>\n      <th>4</th>\n      <td>0.982133</td>\n      <td>-0.582827</td>\n      <td>-0.905028</td>\n      <td>2.288317</td>\n      <td>-0.739666</td>\n    </tr>\n  </tbody>\n</table>\n</div>"
          },
          "metadata": {}
        }
      ]
    },
    {
      "metadata": {
        "trusted": true
      },
      "cell_type": "code",
      "source": "df2 = pd.DataFrame(np.random.randn(3, 5))",
      "execution_count": 8,
      "outputs": []
    },
    {
      "metadata": {
        "trusted": true
      },
      "cell_type": "code",
      "source": "df2",
      "execution_count": 9,
      "outputs": [
        {
          "output_type": "execute_result",
          "execution_count": 9,
          "data": {
            "text/plain": "          0         1         2         3         4\n0 -0.238550  1.482796 -0.713587  0.038213  1.143680\n1 -1.142310  0.011467 -1.395920  0.806669  1.124002\n2 -0.523561 -0.625123 -0.480962 -0.768752  0.603496",
            "text/html": "<div>\n<style scoped>\n    .dataframe tbody tr th:only-of-type {\n        vertical-align: middle;\n    }\n\n    .dataframe tbody tr th {\n        vertical-align: top;\n    }\n\n    .dataframe thead th {\n        text-align: right;\n    }\n</style>\n<table border=\"1\" class=\"dataframe\">\n  <thead>\n    <tr style=\"text-align: right;\">\n      <th></th>\n      <th>0</th>\n      <th>1</th>\n      <th>2</th>\n      <th>3</th>\n      <th>4</th>\n    </tr>\n  </thead>\n  <tbody>\n    <tr>\n      <th>0</th>\n      <td>-0.238550</td>\n      <td>1.482796</td>\n      <td>-0.713587</td>\n      <td>0.038213</td>\n      <td>1.143680</td>\n    </tr>\n    <tr>\n      <th>1</th>\n      <td>-1.142310</td>\n      <td>0.011467</td>\n      <td>-1.395920</td>\n      <td>0.806669</td>\n      <td>1.124002</td>\n    </tr>\n    <tr>\n      <th>2</th>\n      <td>-0.523561</td>\n      <td>-0.625123</td>\n      <td>-0.480962</td>\n      <td>-0.768752</td>\n      <td>0.603496</td>\n    </tr>\n  </tbody>\n</table>\n</div>"
          },
          "metadata": {}
        }
      ]
    },
    {
      "metadata": {},
      "cell_type": "markdown",
      "source": "Let's merge them by rows. concat does that for us."
    },
    {
      "metadata": {
        "trusted": true
      },
      "cell_type": "code",
      "source": "df3 = pd.concat([df1,df2])",
      "execution_count": 10,
      "outputs": []
    },
    {
      "metadata": {
        "trusted": true
      },
      "cell_type": "code",
      "source": "df3",
      "execution_count": 11,
      "outputs": [
        {
          "output_type": "execute_result",
          "execution_count": 11,
          "data": {
            "text/plain": "          0         1         2         3         4\n0 -0.853523  2.584120 -1.840017  0.277024  0.388721\n1  1.285974 -1.055872 -0.703200 -0.107125  0.334197\n2  1.202832  0.112409  1.365834 -1.848137  0.609359\n3  0.558488  0.247437  1.537077 -1.040954 -1.771338\n4  0.982133 -0.582827 -0.905028  2.288317 -0.739666\n0 -0.238550  1.482796 -0.713587  0.038213  1.143680\n1 -1.142310  0.011467 -1.395920  0.806669  1.124002\n2 -0.523561 -0.625123 -0.480962 -0.768752  0.603496",
            "text/html": "<div>\n<style scoped>\n    .dataframe tbody tr th:only-of-type {\n        vertical-align: middle;\n    }\n\n    .dataframe tbody tr th {\n        vertical-align: top;\n    }\n\n    .dataframe thead th {\n        text-align: right;\n    }\n</style>\n<table border=\"1\" class=\"dataframe\">\n  <thead>\n    <tr style=\"text-align: right;\">\n      <th></th>\n      <th>0</th>\n      <th>1</th>\n      <th>2</th>\n      <th>3</th>\n      <th>4</th>\n    </tr>\n  </thead>\n  <tbody>\n    <tr>\n      <th>0</th>\n      <td>-0.853523</td>\n      <td>2.584120</td>\n      <td>-1.840017</td>\n      <td>0.277024</td>\n      <td>0.388721</td>\n    </tr>\n    <tr>\n      <th>1</th>\n      <td>1.285974</td>\n      <td>-1.055872</td>\n      <td>-0.703200</td>\n      <td>-0.107125</td>\n      <td>0.334197</td>\n    </tr>\n    <tr>\n      <th>2</th>\n      <td>1.202832</td>\n      <td>0.112409</td>\n      <td>1.365834</td>\n      <td>-1.848137</td>\n      <td>0.609359</td>\n    </tr>\n    <tr>\n      <th>3</th>\n      <td>0.558488</td>\n      <td>0.247437</td>\n      <td>1.537077</td>\n      <td>-1.040954</td>\n      <td>-1.771338</td>\n    </tr>\n    <tr>\n      <th>4</th>\n      <td>0.982133</td>\n      <td>-0.582827</td>\n      <td>-0.905028</td>\n      <td>2.288317</td>\n      <td>-0.739666</td>\n    </tr>\n    <tr>\n      <th>0</th>\n      <td>-0.238550</td>\n      <td>1.482796</td>\n      <td>-0.713587</td>\n      <td>0.038213</td>\n      <td>1.143680</td>\n    </tr>\n    <tr>\n      <th>1</th>\n      <td>-1.142310</td>\n      <td>0.011467</td>\n      <td>-1.395920</td>\n      <td>0.806669</td>\n      <td>1.124002</td>\n    </tr>\n    <tr>\n      <th>2</th>\n      <td>-0.523561</td>\n      <td>-0.625123</td>\n      <td>-0.480962</td>\n      <td>-0.768752</td>\n      <td>0.603496</td>\n    </tr>\n  </tbody>\n</table>\n</div>"
          },
          "metadata": {}
        }
      ]
    },
    {
      "metadata": {},
      "cell_type": "markdown",
      "source": "What is the problem with the dataframe above? "
    },
    {
      "metadata": {
        "trusted": true
      },
      "cell_type": "code",
      "source": "The numers in the first column is not sequential",
      "execution_count": 12,
      "outputs": [
        {
          "output_type": "error",
          "ename": "SyntaxError",
          "evalue": "invalid syntax (<ipython-input-12-39c270713f32>, line 1)",
          "traceback": [
            "\u001b[0;36m  File \u001b[0;32m\"<ipython-input-12-39c270713f32>\"\u001b[0;36m, line \u001b[0;32m1\u001b[0m\n\u001b[0;31m    The numers in the first column is not sequential\u001b[0m\n\u001b[0m             ^\u001b[0m\n\u001b[0;31mSyntaxError\u001b[0m\u001b[0;31m:\u001b[0m invalid syntax\n"
          ]
        }
      ]
    },
    {
      "metadata": {},
      "cell_type": "markdown",
      "source": "`-----------------------------------------`   \n  \nThe solution is to set ignore_index to True."
    },
    {
      "metadata": {
        "trusted": true
      },
      "cell_type": "code",
      "source": "df3 = pd.concat([df1,df2], ignore_index=True)",
      "execution_count": 13,
      "outputs": []
    },
    {
      "metadata": {
        "trusted": true
      },
      "cell_type": "code",
      "source": "df3",
      "execution_count": 14,
      "outputs": [
        {
          "output_type": "execute_result",
          "execution_count": 14,
          "data": {
            "text/plain": "          0         1         2         3         4\n0 -0.853523  2.584120 -1.840017  0.277024  0.388721\n1  1.285974 -1.055872 -0.703200 -0.107125  0.334197\n2  1.202832  0.112409  1.365834 -1.848137  0.609359\n3  0.558488  0.247437  1.537077 -1.040954 -1.771338\n4  0.982133 -0.582827 -0.905028  2.288317 -0.739666\n5 -0.238550  1.482796 -0.713587  0.038213  1.143680\n6 -1.142310  0.011467 -1.395920  0.806669  1.124002\n7 -0.523561 -0.625123 -0.480962 -0.768752  0.603496",
            "text/html": "<div>\n<style scoped>\n    .dataframe tbody tr th:only-of-type {\n        vertical-align: middle;\n    }\n\n    .dataframe tbody tr th {\n        vertical-align: top;\n    }\n\n    .dataframe thead th {\n        text-align: right;\n    }\n</style>\n<table border=\"1\" class=\"dataframe\">\n  <thead>\n    <tr style=\"text-align: right;\">\n      <th></th>\n      <th>0</th>\n      <th>1</th>\n      <th>2</th>\n      <th>3</th>\n      <th>4</th>\n    </tr>\n  </thead>\n  <tbody>\n    <tr>\n      <th>0</th>\n      <td>-0.853523</td>\n      <td>2.584120</td>\n      <td>-1.840017</td>\n      <td>0.277024</td>\n      <td>0.388721</td>\n    </tr>\n    <tr>\n      <th>1</th>\n      <td>1.285974</td>\n      <td>-1.055872</td>\n      <td>-0.703200</td>\n      <td>-0.107125</td>\n      <td>0.334197</td>\n    </tr>\n    <tr>\n      <th>2</th>\n      <td>1.202832</td>\n      <td>0.112409</td>\n      <td>1.365834</td>\n      <td>-1.848137</td>\n      <td>0.609359</td>\n    </tr>\n    <tr>\n      <th>3</th>\n      <td>0.558488</td>\n      <td>0.247437</td>\n      <td>1.537077</td>\n      <td>-1.040954</td>\n      <td>-1.771338</td>\n    </tr>\n    <tr>\n      <th>4</th>\n      <td>0.982133</td>\n      <td>-0.582827</td>\n      <td>-0.905028</td>\n      <td>2.288317</td>\n      <td>-0.739666</td>\n    </tr>\n    <tr>\n      <th>5</th>\n      <td>-0.238550</td>\n      <td>1.482796</td>\n      <td>-0.713587</td>\n      <td>0.038213</td>\n      <td>1.143680</td>\n    </tr>\n    <tr>\n      <th>6</th>\n      <td>-1.142310</td>\n      <td>0.011467</td>\n      <td>-1.395920</td>\n      <td>0.806669</td>\n      <td>1.124002</td>\n    </tr>\n    <tr>\n      <th>7</th>\n      <td>-0.523561</td>\n      <td>-0.625123</td>\n      <td>-0.480962</td>\n      <td>-0.768752</td>\n      <td>0.603496</td>\n    </tr>\n  </tbody>\n</table>\n</div>"
          },
          "metadata": {}
        }
      ]
    },
    {
      "metadata": {},
      "cell_type": "markdown",
      "source": "`ignore_index` is very useful when we want a new DataFrame which only contains data from other DataFrames , but unrelated otherwise. \n"
    },
    {
      "metadata": {},
      "cell_type": "markdown",
      "source": "Now we want to look at more comlex merge operations, which take in to account the data values."
    },
    {
      "metadata": {
        "trusted": true
      },
      "cell_type": "code",
      "source": "veg = {\n    'vegetables': ['potato', 'mung bean', 'carrot', 'lettuce'],\n    'species': ['S. tuberosum', 'V. radiata', 'D. carota', 'L. sativa'],\n    'energy/100g (kJ)': [322, 334, 173, 55],\n}\n\ndf = pd.DataFrame(veg)",
      "execution_count": 15,
      "outputs": []
    },
    {
      "metadata": {
        "trusted": true
      },
      "cell_type": "code",
      "source": "df",
      "execution_count": 16,
      "outputs": [
        {
          "output_type": "execute_result",
          "execution_count": 16,
          "data": {
            "text/plain": "   energy/100g (kJ)       species vegetables\n0               322  S. tuberosum     potato\n1               334    V. radiata  mung bean\n2               173     D. carota     carrot\n3                55     L. sativa    lettuce",
            "text/html": "<div>\n<style scoped>\n    .dataframe tbody tr th:only-of-type {\n        vertical-align: middle;\n    }\n\n    .dataframe tbody tr th {\n        vertical-align: top;\n    }\n\n    .dataframe thead th {\n        text-align: right;\n    }\n</style>\n<table border=\"1\" class=\"dataframe\">\n  <thead>\n    <tr style=\"text-align: right;\">\n      <th></th>\n      <th>energy/100g (kJ)</th>\n      <th>species</th>\n      <th>vegetables</th>\n    </tr>\n  </thead>\n  <tbody>\n    <tr>\n      <th>0</th>\n      <td>322</td>\n      <td>S. tuberosum</td>\n      <td>potato</td>\n    </tr>\n    <tr>\n      <th>1</th>\n      <td>334</td>\n      <td>V. radiata</td>\n      <td>mung bean</td>\n    </tr>\n    <tr>\n      <th>2</th>\n      <td>173</td>\n      <td>D. carota</td>\n      <td>carrot</td>\n    </tr>\n    <tr>\n      <th>3</th>\n      <td>55</td>\n      <td>L. sativa</td>\n      <td>lettuce</td>\n    </tr>\n  </tbody>\n</table>\n</div>"
          },
          "metadata": {}
        }
      ]
    },
    {
      "metadata": {
        "trusted": true
      },
      "cell_type": "code",
      "source": "data_path = \"./data/wk6/veg.csv\"\n\ndf_veg = pd.read_csv(data_path)",
      "execution_count": 17,
      "outputs": []
    },
    {
      "metadata": {
        "trusted": true
      },
      "cell_type": "code",
      "source": "df_veg",
      "execution_count": 18,
      "outputs": [
        {
          "output_type": "execute_result",
          "execution_count": 18,
          "data": {
            "text/plain": "              <?xml version=\"1.0\" encoding=\"UTF-8\"?>\n0  <Error><Code>NoSuchKey</Code><Message>The spec...",
            "text/html": "<div>\n<style scoped>\n    .dataframe tbody tr th:only-of-type {\n        vertical-align: middle;\n    }\n\n    .dataframe tbody tr th {\n        vertical-align: top;\n    }\n\n    .dataframe thead th {\n        text-align: right;\n    }\n</style>\n<table border=\"1\" class=\"dataframe\">\n  <thead>\n    <tr style=\"text-align: right;\">\n      <th></th>\n      <th>&lt;?xml version=\"1.0\" encoding=\"UTF-8\"?&gt;</th>\n    </tr>\n  </thead>\n  <tbody>\n    <tr>\n      <th>0</th>\n      <td>&lt;Error&gt;&lt;Code&gt;NoSuchKey&lt;/Code&gt;&lt;Message&gt;The spec...</td>\n    </tr>\n  </tbody>\n</table>\n</div>"
          },
          "metadata": {}
        }
      ]
    },
    {
      "metadata": {},
      "cell_type": "markdown",
      "source": "You can quickly summarise data in a DataFrame column by using the `value_counts()` method"
    },
    {
      "metadata": {
        "trusted": true
      },
      "cell_type": "code",
      "source": "df['vegetables'].value_counts()",
      "execution_count": 24,
      "outputs": [
        {
          "output_type": "execute_result",
          "execution_count": 24,
          "data": {
            "text/plain": "potato       1\ncarrot       1\nmung bean    1\nlettuce      1\nName: vegetables, dtype: int64"
          },
          "metadata": {}
        }
      ]
    },
    {
      "metadata": {},
      "cell_type": "markdown",
      "source": "Note that the returned data is a `Series`, we can turn it in to a DataFrame quite easily using 'to_frame'."
    },
    {
      "metadata": {
        "trusted": true
      },
      "cell_type": "code",
      "source": "df_veg_counts  = df['vegetables'].value_counts().to_frame(name='veg counts')",
      "execution_count": 26,
      "outputs": []
    },
    {
      "metadata": {
        "trusted": true
      },
      "cell_type": "code",
      "source": "df_veg_counts",
      "execution_count": 27,
      "outputs": [
        {
          "output_type": "execute_result",
          "execution_count": 27,
          "data": {
            "text/plain": "           veg counts\npotato              1\ncarrot              1\nmung bean           1\nlettuce             1",
            "text/html": "<div>\n<style scoped>\n    .dataframe tbody tr th:only-of-type {\n        vertical-align: middle;\n    }\n\n    .dataframe tbody tr th {\n        vertical-align: top;\n    }\n\n    .dataframe thead th {\n        text-align: right;\n    }\n</style>\n<table border=\"1\" class=\"dataframe\">\n  <thead>\n    <tr style=\"text-align: right;\">\n      <th></th>\n      <th>veg counts</th>\n    </tr>\n  </thead>\n  <tbody>\n    <tr>\n      <th>potato</th>\n      <td>1</td>\n    </tr>\n    <tr>\n      <th>carrot</th>\n      <td>1</td>\n    </tr>\n    <tr>\n      <th>mung bean</th>\n      <td>1</td>\n    </tr>\n    <tr>\n      <th>lettuce</th>\n      <td>1</td>\n    </tr>\n  </tbody>\n</table>\n</div>"
          },
          "metadata": {}
        }
      ]
    },
    {
      "metadata": {
        "trusted": true
      },
      "cell_type": "code",
      "source": "df",
      "execution_count": 28,
      "outputs": [
        {
          "output_type": "execute_result",
          "execution_count": 28,
          "data": {
            "text/plain": "   energy/100g (kJ)       species vegetables\n0               322  S. tuberosum     potato\n1               334    V. radiata  mung bean\n2               173     D. carota     carrot\n3                55     L. sativa    lettuce",
            "text/html": "<div>\n<style scoped>\n    .dataframe tbody tr th:only-of-type {\n        vertical-align: middle;\n    }\n\n    .dataframe tbody tr th {\n        vertical-align: top;\n    }\n\n    .dataframe thead th {\n        text-align: right;\n    }\n</style>\n<table border=\"1\" class=\"dataframe\">\n  <thead>\n    <tr style=\"text-align: right;\">\n      <th></th>\n      <th>energy/100g (kJ)</th>\n      <th>species</th>\n      <th>vegetables</th>\n    </tr>\n  </thead>\n  <tbody>\n    <tr>\n      <th>0</th>\n      <td>322</td>\n      <td>S. tuberosum</td>\n      <td>potato</td>\n    </tr>\n    <tr>\n      <th>1</th>\n      <td>334</td>\n      <td>V. radiata</td>\n      <td>mung bean</td>\n    </tr>\n    <tr>\n      <th>2</th>\n      <td>173</td>\n      <td>D. carota</td>\n      <td>carrot</td>\n    </tr>\n    <tr>\n      <th>3</th>\n      <td>55</td>\n      <td>L. sativa</td>\n      <td>lettuce</td>\n    </tr>\n  </tbody>\n</table>\n</div>"
          },
          "metadata": {}
        }
      ]
    },
    {
      "metadata": {},
      "cell_type": "markdown",
      "source": "Joining the value counts to our categories"
    },
    {
      "metadata": {
        "trusted": true
      },
      "cell_type": "code",
      "source": "df_joined = df.merge(\n    df_veg_counts,\n    how='inner',\n    left_on='vegetables', right_index=True)",
      "execution_count": 29,
      "outputs": []
    },
    {
      "metadata": {
        "trusted": true
      },
      "cell_type": "code",
      "source": "df_joined",
      "execution_count": 30,
      "outputs": [
        {
          "output_type": "execute_result",
          "execution_count": 30,
          "data": {
            "text/plain": "   energy/100g (kJ)       species vegetables  veg counts\n0               322  S. tuberosum     potato           1\n1               334    V. radiata  mung bean           1\n2               173     D. carota     carrot           1\n3                55     L. sativa    lettuce           1",
            "text/html": "<div>\n<style scoped>\n    .dataframe tbody tr th:only-of-type {\n        vertical-align: middle;\n    }\n\n    .dataframe tbody tr th {\n        vertical-align: top;\n    }\n\n    .dataframe thead th {\n        text-align: right;\n    }\n</style>\n<table border=\"1\" class=\"dataframe\">\n  <thead>\n    <tr style=\"text-align: right;\">\n      <th></th>\n      <th>energy/100g (kJ)</th>\n      <th>species</th>\n      <th>vegetables</th>\n      <th>veg counts</th>\n    </tr>\n  </thead>\n  <tbody>\n    <tr>\n      <th>0</th>\n      <td>322</td>\n      <td>S. tuberosum</td>\n      <td>potato</td>\n      <td>1</td>\n    </tr>\n    <tr>\n      <th>1</th>\n      <td>334</td>\n      <td>V. radiata</td>\n      <td>mung bean</td>\n      <td>1</td>\n    </tr>\n    <tr>\n      <th>2</th>\n      <td>173</td>\n      <td>D. carota</td>\n      <td>carrot</td>\n      <td>1</td>\n    </tr>\n    <tr>\n      <th>3</th>\n      <td>55</td>\n      <td>L. sativa</td>\n      <td>lettuce</td>\n      <td>1</td>\n    </tr>\n  </tbody>\n</table>\n</div>"
          },
          "metadata": {}
        }
      ]
    },
    {
      "metadata": {},
      "cell_type": "markdown",
      "source": "This is a complex operation, so let's break down exactly how we did it, beginning with the **innermost** operations\n\n1. We used the `value_counts()` method to generate a `Series`\n2. We converted the `Series` into a DataFrame using `to_frame()`\n    - The resulting DataFrame uses the **left-most** column of values as its index\n    - We renamed the value column to 'veg counts' using the `name` keyword.\n3. We specified that we wished to perform an **inner join**\n    - Joins are carried out using **keys**\n    - Specifying an **inner** join means we are using only the key values that our DataFrames have in common\n    - The `left_on` keyword lets us specify the column we want to use for our keys\n    - The `right_index` keyword lets us specify that we wish to use the **index** from our right DatafFrame (the veg counts) as keys. \n4. Notice that although we have a value count of parnsips, there is no parsnip data in our joined DataFrame. This is because that data was discarded due to no matching key existing in the \"left\" DataFrame.\n\n5. Pandas has **four** join strategies:\n    - Left Join: use **only** keys from **left** DataFrame. SQL: [left outer join](http://goo.gl/JICveI)\n    - Right Join: use **only** keys from **right** DataFrame. SQL: [right outer join](http://goo.gl/TrrHjQ)\n    - Outer Join: use union of **keys from both** DataFrames. SQL: [full outer join](http://goo.gl/bVRqO8)\n    - Inner Join: use **intersection of keys** from both DataFrames. SQL: [inner join](http://goo.gl/Cf1MF8)"
    },
    {
      "metadata": {},
      "cell_type": "markdown",
      "source": "The operations below show what effect each join strategy has:"
    },
    {
      "metadata": {
        "trusted": true
      },
      "cell_type": "code",
      "source": "# note the NaN value for lettuce - there's no value count of it\ndf.merge(\n    df_veg_counts,\n    how='left',\n    left_on='vegetables', right_index=True)",
      "execution_count": 31,
      "outputs": [
        {
          "output_type": "execute_result",
          "execution_count": 31,
          "data": {
            "text/plain": "   energy/100g (kJ)       species vegetables  veg counts\n0               322  S. tuberosum     potato           1\n1               334    V. radiata  mung bean           1\n2               173     D. carota     carrot           1\n3                55     L. sativa    lettuce           1",
            "text/html": "<div>\n<style scoped>\n    .dataframe tbody tr th:only-of-type {\n        vertical-align: middle;\n    }\n\n    .dataframe tbody tr th {\n        vertical-align: top;\n    }\n\n    .dataframe thead th {\n        text-align: right;\n    }\n</style>\n<table border=\"1\" class=\"dataframe\">\n  <thead>\n    <tr style=\"text-align: right;\">\n      <th></th>\n      <th>energy/100g (kJ)</th>\n      <th>species</th>\n      <th>vegetables</th>\n      <th>veg counts</th>\n    </tr>\n  </thead>\n  <tbody>\n    <tr>\n      <th>0</th>\n      <td>322</td>\n      <td>S. tuberosum</td>\n      <td>potato</td>\n      <td>1</td>\n    </tr>\n    <tr>\n      <th>1</th>\n      <td>334</td>\n      <td>V. radiata</td>\n      <td>mung bean</td>\n      <td>1</td>\n    </tr>\n    <tr>\n      <th>2</th>\n      <td>173</td>\n      <td>D. carota</td>\n      <td>carrot</td>\n      <td>1</td>\n    </tr>\n    <tr>\n      <th>3</th>\n      <td>55</td>\n      <td>L. sativa</td>\n      <td>lettuce</td>\n      <td>1</td>\n    </tr>\n  </tbody>\n</table>\n</div>"
          },
          "metadata": {}
        }
      ]
    },
    {
      "metadata": {
        "trusted": true
      },
      "cell_type": "code",
      "source": "# note the NaN values from our left dataframe\ndf.merge(\n    df_veg_counts,\n    how='right',\n    left_on='vegetables', right_index=True)",
      "execution_count": 32,
      "outputs": [
        {
          "output_type": "execute_result",
          "execution_count": 32,
          "data": {
            "text/plain": "   energy/100g (kJ)       species vegetables  veg counts\n0               322  S. tuberosum     potato           1\n1               334    V. radiata  mung bean           1\n2               173     D. carota     carrot           1\n3                55     L. sativa    lettuce           1",
            "text/html": "<div>\n<style scoped>\n    .dataframe tbody tr th:only-of-type {\n        vertical-align: middle;\n    }\n\n    .dataframe tbody tr th {\n        vertical-align: top;\n    }\n\n    .dataframe thead th {\n        text-align: right;\n    }\n</style>\n<table border=\"1\" class=\"dataframe\">\n  <thead>\n    <tr style=\"text-align: right;\">\n      <th></th>\n      <th>energy/100g (kJ)</th>\n      <th>species</th>\n      <th>vegetables</th>\n      <th>veg counts</th>\n    </tr>\n  </thead>\n  <tbody>\n    <tr>\n      <th>0</th>\n      <td>322</td>\n      <td>S. tuberosum</td>\n      <td>potato</td>\n      <td>1</td>\n    </tr>\n    <tr>\n      <th>1</th>\n      <td>334</td>\n      <td>V. radiata</td>\n      <td>mung bean</td>\n      <td>1</td>\n    </tr>\n    <tr>\n      <th>2</th>\n      <td>173</td>\n      <td>D. carota</td>\n      <td>carrot</td>\n      <td>1</td>\n    </tr>\n    <tr>\n      <th>3</th>\n      <td>55</td>\n      <td>L. sativa</td>\n      <td>lettuce</td>\n      <td>1</td>\n    </tr>\n  </tbody>\n</table>\n</div>"
          },
          "metadata": {}
        }
      ]
    },
    {
      "metadata": {
        "trusted": true
      },
      "cell_type": "code",
      "source": "# note the NaN values from both left and right DataFrames\ndf.merge(\n    df_veg_counts,\n    how='outer',\n    left_on='vegetables', right_index=True)",
      "execution_count": 33,
      "outputs": [
        {
          "output_type": "execute_result",
          "execution_count": 33,
          "data": {
            "text/plain": "   energy/100g (kJ)       species vegetables  veg counts\n0               322  S. tuberosum     potato           1\n1               334    V. radiata  mung bean           1\n2               173     D. carota     carrot           1\n3                55     L. sativa    lettuce           1",
            "text/html": "<div>\n<style scoped>\n    .dataframe tbody tr th:only-of-type {\n        vertical-align: middle;\n    }\n\n    .dataframe tbody tr th {\n        vertical-align: top;\n    }\n\n    .dataframe thead th {\n        text-align: right;\n    }\n</style>\n<table border=\"1\" class=\"dataframe\">\n  <thead>\n    <tr style=\"text-align: right;\">\n      <th></th>\n      <th>energy/100g (kJ)</th>\n      <th>species</th>\n      <th>vegetables</th>\n      <th>veg counts</th>\n    </tr>\n  </thead>\n  <tbody>\n    <tr>\n      <th>0</th>\n      <td>322</td>\n      <td>S. tuberosum</td>\n      <td>potato</td>\n      <td>1</td>\n    </tr>\n    <tr>\n      <th>1</th>\n      <td>334</td>\n      <td>V. radiata</td>\n      <td>mung bean</td>\n      <td>1</td>\n    </tr>\n    <tr>\n      <th>2</th>\n      <td>173</td>\n      <td>D. carota</td>\n      <td>carrot</td>\n      <td>1</td>\n    </tr>\n    <tr>\n      <th>3</th>\n      <td>55</td>\n      <td>L. sativa</td>\n      <td>lettuce</td>\n      <td>1</td>\n    </tr>\n  </tbody>\n</table>\n</div>"
          },
          "metadata": {}
        }
      ]
    },
    {
      "metadata": {
        "trusted": true
      },
      "cell_type": "code",
      "source": "# note no NaN values, only common keys are used to produce the result\ndf.merge(\n    df_veg_counts,\n    how='inner',\n    left_on='vegetables', right_index=True)",
      "execution_count": 34,
      "outputs": [
        {
          "output_type": "execute_result",
          "execution_count": 34,
          "data": {
            "text/plain": "   energy/100g (kJ)       species vegetables  veg counts\n0               322  S. tuberosum     potato           1\n1               334    V. radiata  mung bean           1\n2               173     D. carota     carrot           1\n3                55     L. sativa    lettuce           1",
            "text/html": "<div>\n<style scoped>\n    .dataframe tbody tr th:only-of-type {\n        vertical-align: middle;\n    }\n\n    .dataframe tbody tr th {\n        vertical-align: top;\n    }\n\n    .dataframe thead th {\n        text-align: right;\n    }\n</style>\n<table border=\"1\" class=\"dataframe\">\n  <thead>\n    <tr style=\"text-align: right;\">\n      <th></th>\n      <th>energy/100g (kJ)</th>\n      <th>species</th>\n      <th>vegetables</th>\n      <th>veg counts</th>\n    </tr>\n  </thead>\n  <tbody>\n    <tr>\n      <th>0</th>\n      <td>322</td>\n      <td>S. tuberosum</td>\n      <td>potato</td>\n      <td>1</td>\n    </tr>\n    <tr>\n      <th>1</th>\n      <td>334</td>\n      <td>V. radiata</td>\n      <td>mung bean</td>\n      <td>1</td>\n    </tr>\n    <tr>\n      <th>2</th>\n      <td>173</td>\n      <td>D. carota</td>\n      <td>carrot</td>\n      <td>1</td>\n    </tr>\n    <tr>\n      <th>3</th>\n      <td>55</td>\n      <td>L. sativa</td>\n      <td>lettuce</td>\n      <td>1</td>\n    </tr>\n  </tbody>\n</table>\n</div>"
          },
          "metadata": {}
        }
      ]
    },
    {
      "metadata": {},
      "cell_type": "markdown",
      "source": "Applying merging in real data - OECD transport and greenhouse gas emission data. "
    },
    {
      "metadata": {
        "trusted": true
      },
      "cell_type": "code",
      "source": "# Our previous file on population density.\ndata_path = \"./data/wk6/ITF_GOODS_TRANSPORT_Data_fb8faed3-af67-457b-8387-8485f0ceea42.csv\"\nOECD_trs =  pd.read_csv(data_path)\n\n# Data on greenhous gas emissions.\ndata_path = \"./data/wk6/AIR_GHG_Data_5f3eccd7-21db-4950-8390-2311d87476ee.csv\"\nOECD_ghg = pd.read_csv(data_path)\n\nOECD_trs.head()",
      "execution_count": 35,
      "outputs": [
        {
          "output_type": "execute_result",
          "execution_count": 35,
          "data": {
            "text/plain": "              <?xml version=\"1.0\" encoding=\"UTF-8\"?>\n0  <Error><Code>NoSuchKey</Code><Message>The spec...",
            "text/html": "<div>\n<style scoped>\n    .dataframe tbody tr th:only-of-type {\n        vertical-align: middle;\n    }\n\n    .dataframe tbody tr th {\n        vertical-align: top;\n    }\n\n    .dataframe thead th {\n        text-align: right;\n    }\n</style>\n<table border=\"1\" class=\"dataframe\">\n  <thead>\n    <tr style=\"text-align: right;\">\n      <th></th>\n      <th>&lt;?xml version=\"1.0\" encoding=\"UTF-8\"?&gt;</th>\n    </tr>\n  </thead>\n  <tbody>\n    <tr>\n      <th>0</th>\n      <td>&lt;Error&gt;&lt;Code&gt;NoSuchKey&lt;/Code&gt;&lt;Message&gt;The spec...</td>\n    </tr>\n  </tbody>\n</table>\n</div>"
          },
          "metadata": {}
        }
      ]
    },
    {
      "metadata": {
        "trusted": true
      },
      "cell_type": "code",
      "source": "OECD_ghg.head()",
      "execution_count": 36,
      "outputs": [
        {
          "output_type": "execute_result",
          "execution_count": 36,
          "data": {
            "text/plain": "              <?xml version=\"1.0\" encoding=\"UTF-8\"?>\n0  <Error><Code>NoSuchKey</Code><Message>The spec...",
            "text/html": "<div>\n<style scoped>\n    .dataframe tbody tr th:only-of-type {\n        vertical-align: middle;\n    }\n\n    .dataframe tbody tr th {\n        vertical-align: top;\n    }\n\n    .dataframe thead th {\n        text-align: right;\n    }\n</style>\n<table border=\"1\" class=\"dataframe\">\n  <thead>\n    <tr style=\"text-align: right;\">\n      <th></th>\n      <th>&lt;?xml version=\"1.0\" encoding=\"UTF-8\"?&gt;</th>\n    </tr>\n  </thead>\n  <tbody>\n    <tr>\n      <th>0</th>\n      <td>&lt;Error&gt;&lt;Code&gt;NoSuchKey&lt;/Code&gt;&lt;Message&gt;The spec...</td>\n    </tr>\n  </tbody>\n</table>\n</div>"
          },
          "metadata": {}
        }
      ]
    },
    {
      "metadata": {
        "trusted": true
      },
      "cell_type": "code",
      "source": "trs_years = pd.unique(OECD_trs['Year'])",
      "execution_count": 37,
      "outputs": [
        {
          "output_type": "error",
          "ename": "KeyError",
          "evalue": "'Year'",
          "traceback": [
            "\u001b[0;31m\u001b[0m",
            "\u001b[0;31mKeyError\u001b[0mTraceback (most recent call last)",
            "\u001b[0;32m<ipython-input-37-f077bffd9760>\u001b[0m in \u001b[0;36m<module>\u001b[0;34m()\u001b[0m\n\u001b[0;32m----> 1\u001b[0;31m \u001b[0mtrs_years\u001b[0m \u001b[0;34m=\u001b[0m \u001b[0mpd\u001b[0m\u001b[0;34m.\u001b[0m\u001b[0munique\u001b[0m\u001b[0;34m(\u001b[0m\u001b[0mOECD_trs\u001b[0m\u001b[0;34m[\u001b[0m\u001b[0;34m'Year'\u001b[0m\u001b[0;34m]\u001b[0m\u001b[0;34m)\u001b[0m\u001b[0;34m\u001b[0m\u001b[0m\n\u001b[0m",
            "\u001b[0;32m/home/nbuser/anaconda2_501/lib/python2.7/site-packages/pandas/core/frame.pyc\u001b[0m in \u001b[0;36m__getitem__\u001b[0;34m(self, key)\u001b[0m\n\u001b[1;32m   2686\u001b[0m             \u001b[0;32mreturn\u001b[0m \u001b[0mself\u001b[0m\u001b[0;34m.\u001b[0m\u001b[0m_getitem_multilevel\u001b[0m\u001b[0;34m(\u001b[0m\u001b[0mkey\u001b[0m\u001b[0;34m)\u001b[0m\u001b[0;34m\u001b[0m\u001b[0m\n\u001b[1;32m   2687\u001b[0m         \u001b[0;32melse\u001b[0m\u001b[0;34m:\u001b[0m\u001b[0;34m\u001b[0m\u001b[0m\n\u001b[0;32m-> 2688\u001b[0;31m             \u001b[0;32mreturn\u001b[0m \u001b[0mself\u001b[0m\u001b[0;34m.\u001b[0m\u001b[0m_getitem_column\u001b[0m\u001b[0;34m(\u001b[0m\u001b[0mkey\u001b[0m\u001b[0;34m)\u001b[0m\u001b[0;34m\u001b[0m\u001b[0m\n\u001b[0m\u001b[1;32m   2689\u001b[0m \u001b[0;34m\u001b[0m\u001b[0m\n\u001b[1;32m   2690\u001b[0m     \u001b[0;32mdef\u001b[0m \u001b[0m_getitem_column\u001b[0m\u001b[0;34m(\u001b[0m\u001b[0mself\u001b[0m\u001b[0;34m,\u001b[0m \u001b[0mkey\u001b[0m\u001b[0;34m)\u001b[0m\u001b[0;34m:\u001b[0m\u001b[0;34m\u001b[0m\u001b[0m\n",
            "\u001b[0;32m/home/nbuser/anaconda2_501/lib/python2.7/site-packages/pandas/core/frame.pyc\u001b[0m in \u001b[0;36m_getitem_column\u001b[0;34m(self, key)\u001b[0m\n\u001b[1;32m   2693\u001b[0m         \u001b[0;31m# get column\u001b[0m\u001b[0;34m\u001b[0m\u001b[0;34m\u001b[0m\u001b[0m\n\u001b[1;32m   2694\u001b[0m         \u001b[0;32mif\u001b[0m \u001b[0mself\u001b[0m\u001b[0;34m.\u001b[0m\u001b[0mcolumns\u001b[0m\u001b[0;34m.\u001b[0m\u001b[0mis_unique\u001b[0m\u001b[0;34m:\u001b[0m\u001b[0;34m\u001b[0m\u001b[0m\n\u001b[0;32m-> 2695\u001b[0;31m             \u001b[0;32mreturn\u001b[0m \u001b[0mself\u001b[0m\u001b[0;34m.\u001b[0m\u001b[0m_get_item_cache\u001b[0m\u001b[0;34m(\u001b[0m\u001b[0mkey\u001b[0m\u001b[0;34m)\u001b[0m\u001b[0;34m\u001b[0m\u001b[0m\n\u001b[0m\u001b[1;32m   2696\u001b[0m \u001b[0;34m\u001b[0m\u001b[0m\n\u001b[1;32m   2697\u001b[0m         \u001b[0;31m# duplicate columns & possible reduce dimensionality\u001b[0m\u001b[0;34m\u001b[0m\u001b[0;34m\u001b[0m\u001b[0m\n",
            "\u001b[0;32m/home/nbuser/anaconda2_501/lib/python2.7/site-packages/pandas/core/generic.pyc\u001b[0m in \u001b[0;36m_get_item_cache\u001b[0;34m(self, item)\u001b[0m\n\u001b[1;32m   2487\u001b[0m         \u001b[0mres\u001b[0m \u001b[0;34m=\u001b[0m \u001b[0mcache\u001b[0m\u001b[0;34m.\u001b[0m\u001b[0mget\u001b[0m\u001b[0;34m(\u001b[0m\u001b[0mitem\u001b[0m\u001b[0;34m)\u001b[0m\u001b[0;34m\u001b[0m\u001b[0m\n\u001b[1;32m   2488\u001b[0m         \u001b[0;32mif\u001b[0m \u001b[0mres\u001b[0m \u001b[0;32mis\u001b[0m \u001b[0mNone\u001b[0m\u001b[0;34m:\u001b[0m\u001b[0;34m\u001b[0m\u001b[0m\n\u001b[0;32m-> 2489\u001b[0;31m             \u001b[0mvalues\u001b[0m \u001b[0;34m=\u001b[0m \u001b[0mself\u001b[0m\u001b[0;34m.\u001b[0m\u001b[0m_data\u001b[0m\u001b[0;34m.\u001b[0m\u001b[0mget\u001b[0m\u001b[0;34m(\u001b[0m\u001b[0mitem\u001b[0m\u001b[0;34m)\u001b[0m\u001b[0;34m\u001b[0m\u001b[0m\n\u001b[0m\u001b[1;32m   2490\u001b[0m             \u001b[0mres\u001b[0m \u001b[0;34m=\u001b[0m \u001b[0mself\u001b[0m\u001b[0;34m.\u001b[0m\u001b[0m_box_item_values\u001b[0m\u001b[0;34m(\u001b[0m\u001b[0mitem\u001b[0m\u001b[0;34m,\u001b[0m \u001b[0mvalues\u001b[0m\u001b[0;34m)\u001b[0m\u001b[0;34m\u001b[0m\u001b[0m\n\u001b[1;32m   2491\u001b[0m             \u001b[0mcache\u001b[0m\u001b[0;34m[\u001b[0m\u001b[0mitem\u001b[0m\u001b[0;34m]\u001b[0m \u001b[0;34m=\u001b[0m \u001b[0mres\u001b[0m\u001b[0;34m\u001b[0m\u001b[0m\n",
            "\u001b[0;32m/home/nbuser/anaconda2_501/lib/python2.7/site-packages/pandas/core/internals.pyc\u001b[0m in \u001b[0;36mget\u001b[0;34m(self, item, fastpath)\u001b[0m\n\u001b[1;32m   4113\u001b[0m \u001b[0;34m\u001b[0m\u001b[0m\n\u001b[1;32m   4114\u001b[0m             \u001b[0;32mif\u001b[0m \u001b[0;32mnot\u001b[0m \u001b[0misna\u001b[0m\u001b[0;34m(\u001b[0m\u001b[0mitem\u001b[0m\u001b[0;34m)\u001b[0m\u001b[0;34m:\u001b[0m\u001b[0;34m\u001b[0m\u001b[0m\n\u001b[0;32m-> 4115\u001b[0;31m                 \u001b[0mloc\u001b[0m \u001b[0;34m=\u001b[0m \u001b[0mself\u001b[0m\u001b[0;34m.\u001b[0m\u001b[0mitems\u001b[0m\u001b[0;34m.\u001b[0m\u001b[0mget_loc\u001b[0m\u001b[0;34m(\u001b[0m\u001b[0mitem\u001b[0m\u001b[0;34m)\u001b[0m\u001b[0;34m\u001b[0m\u001b[0m\n\u001b[0m\u001b[1;32m   4116\u001b[0m             \u001b[0;32melse\u001b[0m\u001b[0;34m:\u001b[0m\u001b[0;34m\u001b[0m\u001b[0m\n\u001b[1;32m   4117\u001b[0m                 \u001b[0mindexer\u001b[0m \u001b[0;34m=\u001b[0m \u001b[0mnp\u001b[0m\u001b[0;34m.\u001b[0m\u001b[0marange\u001b[0m\u001b[0;34m(\u001b[0m\u001b[0mlen\u001b[0m\u001b[0;34m(\u001b[0m\u001b[0mself\u001b[0m\u001b[0;34m.\u001b[0m\u001b[0mitems\u001b[0m\u001b[0;34m)\u001b[0m\u001b[0;34m)\u001b[0m\u001b[0;34m[\u001b[0m\u001b[0misna\u001b[0m\u001b[0;34m(\u001b[0m\u001b[0mself\u001b[0m\u001b[0;34m.\u001b[0m\u001b[0mitems\u001b[0m\u001b[0;34m)\u001b[0m\u001b[0;34m]\u001b[0m\u001b[0;34m\u001b[0m\u001b[0m\n",
            "\u001b[0;32m/home/nbuser/anaconda2_501/lib/python2.7/site-packages/pandas/core/indexes/base.pyc\u001b[0m in \u001b[0;36mget_loc\u001b[0;34m(self, key, method, tolerance)\u001b[0m\n\u001b[1;32m   3078\u001b[0m                 \u001b[0;32mreturn\u001b[0m \u001b[0mself\u001b[0m\u001b[0;34m.\u001b[0m\u001b[0m_engine\u001b[0m\u001b[0;34m.\u001b[0m\u001b[0mget_loc\u001b[0m\u001b[0;34m(\u001b[0m\u001b[0mkey\u001b[0m\u001b[0;34m)\u001b[0m\u001b[0;34m\u001b[0m\u001b[0m\n\u001b[1;32m   3079\u001b[0m             \u001b[0;32mexcept\u001b[0m \u001b[0mKeyError\u001b[0m\u001b[0;34m:\u001b[0m\u001b[0;34m\u001b[0m\u001b[0m\n\u001b[0;32m-> 3080\u001b[0;31m                 \u001b[0;32mreturn\u001b[0m \u001b[0mself\u001b[0m\u001b[0;34m.\u001b[0m\u001b[0m_engine\u001b[0m\u001b[0;34m.\u001b[0m\u001b[0mget_loc\u001b[0m\u001b[0;34m(\u001b[0m\u001b[0mself\u001b[0m\u001b[0;34m.\u001b[0m\u001b[0m_maybe_cast_indexer\u001b[0m\u001b[0;34m(\u001b[0m\u001b[0mkey\u001b[0m\u001b[0;34m)\u001b[0m\u001b[0;34m)\u001b[0m\u001b[0;34m\u001b[0m\u001b[0m\n\u001b[0m\u001b[1;32m   3081\u001b[0m \u001b[0;34m\u001b[0m\u001b[0m\n\u001b[1;32m   3082\u001b[0m         \u001b[0mindexer\u001b[0m \u001b[0;34m=\u001b[0m \u001b[0mself\u001b[0m\u001b[0;34m.\u001b[0m\u001b[0mget_indexer\u001b[0m\u001b[0;34m(\u001b[0m\u001b[0;34m[\u001b[0m\u001b[0mkey\u001b[0m\u001b[0;34m]\u001b[0m\u001b[0;34m,\u001b[0m \u001b[0mmethod\u001b[0m\u001b[0;34m=\u001b[0m\u001b[0mmethod\u001b[0m\u001b[0;34m,\u001b[0m \u001b[0mtolerance\u001b[0m\u001b[0;34m=\u001b[0m\u001b[0mtolerance\u001b[0m\u001b[0;34m)\u001b[0m\u001b[0;34m\u001b[0m\u001b[0m\n",
            "\u001b[0;32mpandas/_libs/index.pyx\u001b[0m in \u001b[0;36mpandas._libs.index.IndexEngine.get_loc\u001b[0;34m()\u001b[0m\n",
            "\u001b[0;32mpandas/_libs/index.pyx\u001b[0m in \u001b[0;36mpandas._libs.index.IndexEngine.get_loc\u001b[0;34m()\u001b[0m\n",
            "\u001b[0;32mpandas/_libs/hashtable_class_helper.pxi\u001b[0m in \u001b[0;36mpandas._libs.hashtable.PyObjectHashTable.get_item\u001b[0;34m()\u001b[0m\n",
            "\u001b[0;32mpandas/_libs/hashtable_class_helper.pxi\u001b[0m in \u001b[0;36mpandas._libs.hashtable.PyObjectHashTable.get_item\u001b[0;34m()\u001b[0m\n",
            "\u001b[0;31mKeyError\u001b[0m: 'Year'"
          ]
        }
      ]
    },
    {
      "metadata": {
        "trusted": true
      },
      "cell_type": "code",
      "source": "trs_years",
      "execution_count": 38,
      "outputs": [
        {
          "output_type": "error",
          "ename": "NameError",
          "evalue": "name 'trs_years' is not defined",
          "traceback": [
            "\u001b[0;31m\u001b[0m",
            "\u001b[0;31mNameError\u001b[0mTraceback (most recent call last)",
            "\u001b[0;32m<ipython-input-38-0ce39ca11657>\u001b[0m in \u001b[0;36m<module>\u001b[0;34m()\u001b[0m\n\u001b[0;32m----> 1\u001b[0;31m \u001b[0mtrs_years\u001b[0m\u001b[0;34m\u001b[0m\u001b[0m\n\u001b[0m",
            "\u001b[0;31mNameError\u001b[0m: name 'trs_years' is not defined"
          ]
        }
      ]
    },
    {
      "metadata": {
        "trusted": true
      },
      "cell_type": "code",
      "source": "ghg_years = pd.unique(OECD_ghg['Year'])",
      "execution_count": 39,
      "outputs": [
        {
          "output_type": "error",
          "ename": "KeyError",
          "evalue": "'Year'",
          "traceback": [
            "\u001b[0;31m\u001b[0m",
            "\u001b[0;31mKeyError\u001b[0mTraceback (most recent call last)",
            "\u001b[0;32m<ipython-input-39-6d03114d922c>\u001b[0m in \u001b[0;36m<module>\u001b[0;34m()\u001b[0m\n\u001b[0;32m----> 1\u001b[0;31m \u001b[0mghg_years\u001b[0m \u001b[0;34m=\u001b[0m \u001b[0mpd\u001b[0m\u001b[0;34m.\u001b[0m\u001b[0munique\u001b[0m\u001b[0;34m(\u001b[0m\u001b[0mOECD_ghg\u001b[0m\u001b[0;34m[\u001b[0m\u001b[0;34m'Year'\u001b[0m\u001b[0;34m]\u001b[0m\u001b[0;34m)\u001b[0m\u001b[0;34m\u001b[0m\u001b[0m\n\u001b[0m",
            "\u001b[0;32m/home/nbuser/anaconda2_501/lib/python2.7/site-packages/pandas/core/frame.pyc\u001b[0m in \u001b[0;36m__getitem__\u001b[0;34m(self, key)\u001b[0m\n\u001b[1;32m   2686\u001b[0m             \u001b[0;32mreturn\u001b[0m \u001b[0mself\u001b[0m\u001b[0;34m.\u001b[0m\u001b[0m_getitem_multilevel\u001b[0m\u001b[0;34m(\u001b[0m\u001b[0mkey\u001b[0m\u001b[0;34m)\u001b[0m\u001b[0;34m\u001b[0m\u001b[0m\n\u001b[1;32m   2687\u001b[0m         \u001b[0;32melse\u001b[0m\u001b[0;34m:\u001b[0m\u001b[0;34m\u001b[0m\u001b[0m\n\u001b[0;32m-> 2688\u001b[0;31m             \u001b[0;32mreturn\u001b[0m \u001b[0mself\u001b[0m\u001b[0;34m.\u001b[0m\u001b[0m_getitem_column\u001b[0m\u001b[0;34m(\u001b[0m\u001b[0mkey\u001b[0m\u001b[0;34m)\u001b[0m\u001b[0;34m\u001b[0m\u001b[0m\n\u001b[0m\u001b[1;32m   2689\u001b[0m \u001b[0;34m\u001b[0m\u001b[0m\n\u001b[1;32m   2690\u001b[0m     \u001b[0;32mdef\u001b[0m \u001b[0m_getitem_column\u001b[0m\u001b[0;34m(\u001b[0m\u001b[0mself\u001b[0m\u001b[0;34m,\u001b[0m \u001b[0mkey\u001b[0m\u001b[0;34m)\u001b[0m\u001b[0;34m:\u001b[0m\u001b[0;34m\u001b[0m\u001b[0m\n",
            "\u001b[0;32m/home/nbuser/anaconda2_501/lib/python2.7/site-packages/pandas/core/frame.pyc\u001b[0m in \u001b[0;36m_getitem_column\u001b[0;34m(self, key)\u001b[0m\n\u001b[1;32m   2693\u001b[0m         \u001b[0;31m# get column\u001b[0m\u001b[0;34m\u001b[0m\u001b[0;34m\u001b[0m\u001b[0m\n\u001b[1;32m   2694\u001b[0m         \u001b[0;32mif\u001b[0m \u001b[0mself\u001b[0m\u001b[0;34m.\u001b[0m\u001b[0mcolumns\u001b[0m\u001b[0;34m.\u001b[0m\u001b[0mis_unique\u001b[0m\u001b[0;34m:\u001b[0m\u001b[0;34m\u001b[0m\u001b[0m\n\u001b[0;32m-> 2695\u001b[0;31m             \u001b[0;32mreturn\u001b[0m \u001b[0mself\u001b[0m\u001b[0;34m.\u001b[0m\u001b[0m_get_item_cache\u001b[0m\u001b[0;34m(\u001b[0m\u001b[0mkey\u001b[0m\u001b[0;34m)\u001b[0m\u001b[0;34m\u001b[0m\u001b[0m\n\u001b[0m\u001b[1;32m   2696\u001b[0m \u001b[0;34m\u001b[0m\u001b[0m\n\u001b[1;32m   2697\u001b[0m         \u001b[0;31m# duplicate columns & possible reduce dimensionality\u001b[0m\u001b[0;34m\u001b[0m\u001b[0;34m\u001b[0m\u001b[0m\n",
            "\u001b[0;32m/home/nbuser/anaconda2_501/lib/python2.7/site-packages/pandas/core/generic.pyc\u001b[0m in \u001b[0;36m_get_item_cache\u001b[0;34m(self, item)\u001b[0m\n\u001b[1;32m   2487\u001b[0m         \u001b[0mres\u001b[0m \u001b[0;34m=\u001b[0m \u001b[0mcache\u001b[0m\u001b[0;34m.\u001b[0m\u001b[0mget\u001b[0m\u001b[0;34m(\u001b[0m\u001b[0mitem\u001b[0m\u001b[0;34m)\u001b[0m\u001b[0;34m\u001b[0m\u001b[0m\n\u001b[1;32m   2488\u001b[0m         \u001b[0;32mif\u001b[0m \u001b[0mres\u001b[0m \u001b[0;32mis\u001b[0m \u001b[0mNone\u001b[0m\u001b[0;34m:\u001b[0m\u001b[0;34m\u001b[0m\u001b[0m\n\u001b[0;32m-> 2489\u001b[0;31m             \u001b[0mvalues\u001b[0m \u001b[0;34m=\u001b[0m \u001b[0mself\u001b[0m\u001b[0;34m.\u001b[0m\u001b[0m_data\u001b[0m\u001b[0;34m.\u001b[0m\u001b[0mget\u001b[0m\u001b[0;34m(\u001b[0m\u001b[0mitem\u001b[0m\u001b[0;34m)\u001b[0m\u001b[0;34m\u001b[0m\u001b[0m\n\u001b[0m\u001b[1;32m   2490\u001b[0m             \u001b[0mres\u001b[0m \u001b[0;34m=\u001b[0m \u001b[0mself\u001b[0m\u001b[0;34m.\u001b[0m\u001b[0m_box_item_values\u001b[0m\u001b[0;34m(\u001b[0m\u001b[0mitem\u001b[0m\u001b[0;34m,\u001b[0m \u001b[0mvalues\u001b[0m\u001b[0;34m)\u001b[0m\u001b[0;34m\u001b[0m\u001b[0m\n\u001b[1;32m   2491\u001b[0m             \u001b[0mcache\u001b[0m\u001b[0;34m[\u001b[0m\u001b[0mitem\u001b[0m\u001b[0;34m]\u001b[0m \u001b[0;34m=\u001b[0m \u001b[0mres\u001b[0m\u001b[0;34m\u001b[0m\u001b[0m\n",
            "\u001b[0;32m/home/nbuser/anaconda2_501/lib/python2.7/site-packages/pandas/core/internals.pyc\u001b[0m in \u001b[0;36mget\u001b[0;34m(self, item, fastpath)\u001b[0m\n\u001b[1;32m   4113\u001b[0m \u001b[0;34m\u001b[0m\u001b[0m\n\u001b[1;32m   4114\u001b[0m             \u001b[0;32mif\u001b[0m \u001b[0;32mnot\u001b[0m \u001b[0misna\u001b[0m\u001b[0;34m(\u001b[0m\u001b[0mitem\u001b[0m\u001b[0;34m)\u001b[0m\u001b[0;34m:\u001b[0m\u001b[0;34m\u001b[0m\u001b[0m\n\u001b[0;32m-> 4115\u001b[0;31m                 \u001b[0mloc\u001b[0m \u001b[0;34m=\u001b[0m \u001b[0mself\u001b[0m\u001b[0;34m.\u001b[0m\u001b[0mitems\u001b[0m\u001b[0;34m.\u001b[0m\u001b[0mget_loc\u001b[0m\u001b[0;34m(\u001b[0m\u001b[0mitem\u001b[0m\u001b[0;34m)\u001b[0m\u001b[0;34m\u001b[0m\u001b[0m\n\u001b[0m\u001b[1;32m   4116\u001b[0m             \u001b[0;32melse\u001b[0m\u001b[0;34m:\u001b[0m\u001b[0;34m\u001b[0m\u001b[0m\n\u001b[1;32m   4117\u001b[0m                 \u001b[0mindexer\u001b[0m \u001b[0;34m=\u001b[0m \u001b[0mnp\u001b[0m\u001b[0;34m.\u001b[0m\u001b[0marange\u001b[0m\u001b[0;34m(\u001b[0m\u001b[0mlen\u001b[0m\u001b[0;34m(\u001b[0m\u001b[0mself\u001b[0m\u001b[0;34m.\u001b[0m\u001b[0mitems\u001b[0m\u001b[0;34m)\u001b[0m\u001b[0;34m)\u001b[0m\u001b[0;34m[\u001b[0m\u001b[0misna\u001b[0m\u001b[0;34m(\u001b[0m\u001b[0mself\u001b[0m\u001b[0;34m.\u001b[0m\u001b[0mitems\u001b[0m\u001b[0;34m)\u001b[0m\u001b[0;34m]\u001b[0m\u001b[0;34m\u001b[0m\u001b[0m\n",
            "\u001b[0;32m/home/nbuser/anaconda2_501/lib/python2.7/site-packages/pandas/core/indexes/base.pyc\u001b[0m in \u001b[0;36mget_loc\u001b[0;34m(self, key, method, tolerance)\u001b[0m\n\u001b[1;32m   3078\u001b[0m                 \u001b[0;32mreturn\u001b[0m \u001b[0mself\u001b[0m\u001b[0;34m.\u001b[0m\u001b[0m_engine\u001b[0m\u001b[0;34m.\u001b[0m\u001b[0mget_loc\u001b[0m\u001b[0;34m(\u001b[0m\u001b[0mkey\u001b[0m\u001b[0;34m)\u001b[0m\u001b[0;34m\u001b[0m\u001b[0m\n\u001b[1;32m   3079\u001b[0m             \u001b[0;32mexcept\u001b[0m \u001b[0mKeyError\u001b[0m\u001b[0;34m:\u001b[0m\u001b[0;34m\u001b[0m\u001b[0m\n\u001b[0;32m-> 3080\u001b[0;31m                 \u001b[0;32mreturn\u001b[0m \u001b[0mself\u001b[0m\u001b[0;34m.\u001b[0m\u001b[0m_engine\u001b[0m\u001b[0;34m.\u001b[0m\u001b[0mget_loc\u001b[0m\u001b[0;34m(\u001b[0m\u001b[0mself\u001b[0m\u001b[0;34m.\u001b[0m\u001b[0m_maybe_cast_indexer\u001b[0m\u001b[0;34m(\u001b[0m\u001b[0mkey\u001b[0m\u001b[0;34m)\u001b[0m\u001b[0;34m)\u001b[0m\u001b[0;34m\u001b[0m\u001b[0m\n\u001b[0m\u001b[1;32m   3081\u001b[0m \u001b[0;34m\u001b[0m\u001b[0m\n\u001b[1;32m   3082\u001b[0m         \u001b[0mindexer\u001b[0m \u001b[0;34m=\u001b[0m \u001b[0mself\u001b[0m\u001b[0;34m.\u001b[0m\u001b[0mget_indexer\u001b[0m\u001b[0;34m(\u001b[0m\u001b[0;34m[\u001b[0m\u001b[0mkey\u001b[0m\u001b[0;34m]\u001b[0m\u001b[0;34m,\u001b[0m \u001b[0mmethod\u001b[0m\u001b[0;34m=\u001b[0m\u001b[0mmethod\u001b[0m\u001b[0;34m,\u001b[0m \u001b[0mtolerance\u001b[0m\u001b[0;34m=\u001b[0m\u001b[0mtolerance\u001b[0m\u001b[0;34m)\u001b[0m\u001b[0;34m\u001b[0m\u001b[0m\n",
            "\u001b[0;32mpandas/_libs/index.pyx\u001b[0m in \u001b[0;36mpandas._libs.index.IndexEngine.get_loc\u001b[0;34m()\u001b[0m\n",
            "\u001b[0;32mpandas/_libs/index.pyx\u001b[0m in \u001b[0;36mpandas._libs.index.IndexEngine.get_loc\u001b[0;34m()\u001b[0m\n",
            "\u001b[0;32mpandas/_libs/hashtable_class_helper.pxi\u001b[0m in \u001b[0;36mpandas._libs.hashtable.PyObjectHashTable.get_item\u001b[0;34m()\u001b[0m\n",
            "\u001b[0;32mpandas/_libs/hashtable_class_helper.pxi\u001b[0m in \u001b[0;36mpandas._libs.hashtable.PyObjectHashTable.get_item\u001b[0;34m()\u001b[0m\n",
            "\u001b[0;31mKeyError\u001b[0m: 'Year'"
          ]
        }
      ]
    },
    {
      "metadata": {
        "trusted": true
      },
      "cell_type": "code",
      "source": "ghg_years",
      "execution_count": 40,
      "outputs": [
        {
          "output_type": "error",
          "ename": "NameError",
          "evalue": "name 'ghg_years' is not defined",
          "traceback": [
            "\u001b[0;31m\u001b[0m",
            "\u001b[0;31mNameError\u001b[0mTraceback (most recent call last)",
            "\u001b[0;32m<ipython-input-40-f12eceeef5ea>\u001b[0m in \u001b[0;36m<module>\u001b[0;34m()\u001b[0m\n\u001b[0;32m----> 1\u001b[0;31m \u001b[0mghg_years\u001b[0m\u001b[0;34m\u001b[0m\u001b[0m\n\u001b[0m",
            "\u001b[0;31mNameError\u001b[0m: name 'ghg_years' is not defined"
          ]
        }
      ]
    },
    {
      "metadata": {},
      "cell_type": "markdown",
      "source": "##The years seem not to coincide. \n##We will use merge to get an intersection of years, and to filter for a specific country. \n"
    },
    {
      "metadata": {
        "trusted": true
      },
      "cell_type": "code",
      "source": "Variable_types = pd.unique(OECD_trs['Variable'])",
      "execution_count": null,
      "outputs": []
    },
    {
      "metadata": {
        "trusted": true
      },
      "cell_type": "code",
      "source": "Variable_types ",
      "execution_count": null,
      "outputs": []
    },
    {
      "metadata": {
        "trusted": true
      },
      "cell_type": "code",
      "source": "Country = 'Spain'\n\n# We filter the transport dataframe for a specific country.\nOECD_trs_Country = OECD_trs[OECD_trs['Country'] == Country]\n\n# the variable we are interested in is total freight.\nOECD_trs_Country = OECD_trs_Country[OECD_trs_Country['Variable'] == 'Total inland freight in million tonne-km']",
      "execution_count": null,
      "outputs": []
    },
    {
      "metadata": {
        "trusted": true
      },
      "cell_type": "code",
      "source": "OECD_trs_Country",
      "execution_count": null,
      "outputs": []
    },
    {
      "metadata": {
        "trusted": true
      },
      "cell_type": "code",
      "source": "Variable_types = pd.unique(OECD_ghg['Variable'])",
      "execution_count": null,
      "outputs": []
    },
    {
      "metadata": {
        "trusted": true
      },
      "cell_type": "code",
      "source": "Variable_types",
      "execution_count": null,
      "outputs": []
    },
    {
      "metadata": {},
      "cell_type": "markdown",
      "source": "We can merge the dataframes by both 'Year' and 'Country'. \n\nBoth DataFrames contain columns called 'Year' and 'Country' , this enables to specify the names instead of specifying which column to join in each DataFrame. This is achieved by using the 'on' parameter. \n\nThe 'Year' merge will ensure the intersection of years, and the 'Country' merge will ensure the result is intersected by the 'Country' variable since one dataframe was already filtered by it."
    },
    {
      "metadata": {
        "trusted": true
      },
      "cell_type": "code",
      "source": "# Resetting the DataFrame to contain all countries \nOECD_ghg_Country = pd.DataFrame()\nOECD_ghg_Country = OECD_ghg[OECD_ghg['Variable'] == 'Total  emissions excluding LULUCF']\nOECD_ghg_Country = OECD_ghg_Country[OECD_ghg_Country['Pollutant'] == 'Carbon dioxide']\n\n# Merging by two variables.\nOECD_trs_ghg_Country = OECD_trs_Country.merge(\n    OECD_ghg_Country,\n    how='inner',\n    on=['Year','Country'])",
      "execution_count": null,
      "outputs": []
    },
    {
      "metadata": {
        "trusted": true
      },
      "cell_type": "code",
      "source": "OECD_trs_ghg_Country",
      "execution_count": null,
      "outputs": []
    },
    {
      "metadata": {},
      "cell_type": "markdown",
      "source": "Notice that Pandas created a DataFrame with columns such as 'value_x' and 'value_y', this is because in the both the original DataFrames there was a column named 'value' , therefore in the merged DataFrame Python puts the 'value' for the left DataFrame in 'value_x' and 'value' of the right DataFrame in 'value_y'."
    },
    {
      "metadata": {
        "trusted": true
      },
      "cell_type": "code",
      "source": "# Creating a 'nice' DataFrame for plotting, etc.. \n\nOECD_trs_ghg_Filtered = pd.DataFrame()\n\nOECD_trs_ghg_Filtered['Road freight'] = OECD_trs_ghg_Country['Value_x']\nOECD_trs_ghg_Filtered['Carbon dioxide'] = OECD_trs_ghg_Country['Value_y']\n\nOECD_trs_ghg_Filtered = OECD_trs_ghg_Filtered.set_index(OECD_trs_ghg_Country['Year'])",
      "execution_count": null,
      "outputs": []
    },
    {
      "metadata": {
        "trusted": true
      },
      "cell_type": "code",
      "source": "OECD_trs_ghg_Filtered",
      "execution_count": null,
      "outputs": []
    },
    {
      "metadata": {
        "trusted": true
      },
      "cell_type": "code",
      "source": "OECD_trs_ghg_Filtered.plot(legend = True)\nylabel('Absolute value')",
      "execution_count": null,
      "outputs": []
    },
    {
      "metadata": {
        "trusted": true
      },
      "cell_type": "code",
      "source": "OECD_trs_ghg_Filtered_Pct = OECD_trs_ghg_Filtered.pct_change()\n\nOECD_trs_ghg_Filtered_Pct = OECD_trs_ghg_Filtered_Pct.replace('NaN','0', regex=True).astype('float')\nOECD_trs_ghg_Filtered_Pct\nOECD_trs_ghg_Filtered_Pct.plot(legend = True)\nylabel('Percent change')",
      "execution_count": null,
      "outputs": []
    },
    {
      "metadata": {},
      "cell_type": "markdown",
      "source": "### Question :\nCan you see any pattern in the data? Can you conclude anything?"
    },
    {
      "metadata": {
        "trusted": true
      },
      "cell_type": "code",
      "source": "",
      "execution_count": null,
      "outputs": []
    },
    {
      "metadata": {},
      "cell_type": "markdown",
      "source": "## Exercise:\n\n1. Choose two countries from the OECD, and choose a variable from each DataFrame that you would like to compare. \n2. Use merge to create the DataFrames for each country.\n3. Plot absolute values, percent changes, means, medians. Compare the results, see if anything can be concluded. \n4. More advanced : Create an empty DataFrame whose index represents a range of years to investigate. (maybe a narrower range than the instersection of year ranges from each data set.) Use a merge operation to create the DataFrames for each country. \n"
    },
    {
      "metadata": {
        "trusted": true
      },
      "cell_type": "code",
      "source": "",
      "execution_count": null,
      "outputs": []
    }
  ],
  "metadata": {
    "kernelspec": {
      "name": "python2",
      "display_name": "Python 2",
      "language": "python"
    },
    "language_info": {
      "mimetype": "text/x-python",
      "nbconvert_exporter": "python",
      "name": "python",
      "pygments_lexer": "ipython2",
      "version": "2.7.15",
      "file_extension": ".py",
      "codemirror_mode": {
        "version": 2,
        "name": "ipython"
      }
    }
  },
  "nbformat": 4,
  "nbformat_minor": 1
}